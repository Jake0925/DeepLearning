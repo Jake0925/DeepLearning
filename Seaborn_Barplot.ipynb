{
  "nbformat": 4,
  "nbformat_minor": 0,
  "metadata": {
    "colab": {
      "name": "Seaborn_Barplot.ipynb",
      "provenance": [],
      "collapsed_sections": [],
      "authorship_tag": "ABX9TyOjrtGDno8M+PZtWpe47jZl",
      "include_colab_link": true
    },
    "kernelspec": {
      "name": "python3",
      "display_name": "Python 3"
    }
  },
  "cells": [
    {
      "cell_type": "markdown",
      "metadata": {
        "id": "view-in-github",
        "colab_type": "text"
      },
      "source": [
        "<a href=\"https://colab.research.google.com/github/Jake0925/DeepLearning/blob/master/Seaborn_Barplot.ipynb\" target=\"_parent\"><img src=\"https://colab.research.google.com/assets/colab-badge.svg\" alt=\"Open In Colab\"/></a>"
      ]
    },
    {
      "cell_type": "code",
      "metadata": {
        "id": "YW_e2kTm7g0B"
      },
      "source": [
        "import numpy as np\r\n",
        "import seaborn as sns\r\n",
        "import matplotlib.pyplot as plt\r\n",
        "sns.set(style='whitegrid', context='talk') # style - 그리드 색상 ex white, whitegrid,   context - 폰트"
      ],
      "execution_count": 33,
      "outputs": []
    },
    {
      "cell_type": "code",
      "metadata": {
        "colab": {
          "base_uri": "https://localhost:8080/"
        },
        "id": "hxND1LYn8CMX",
        "outputId": "1ea6d6ae-5142-450f-a660-6037245e789d"
      },
      "source": [
        "rs=np.random.RandomState(8)  # 값은 랜덤하지만 다시 호출하더라도 같은 값이 호출되게한다\r\n",
        "rs"
      ],
      "execution_count": 3,
      "outputs": [
        {
          "output_type": "execute_result",
          "data": {
            "text/plain": [
              "RandomState(MT19937) at 0x7F19DA3AF048"
            ]
          },
          "metadata": {
            "tags": []
          },
          "execution_count": 3
        }
      ]
    },
    {
      "cell_type": "code",
      "metadata": {
        "colab": {
          "base_uri": "https://localhost:8080/"
        },
        "id": "nxcqVoCK8yrX",
        "outputId": "ac294f71-db22-4fc5-b4e4-e1fd83a67f93"
      },
      "source": [
        "x = np.array(list('ABCDEFGHIJ')) # list를 numpy의 array로 변환\r\n",
        "x"
      ],
      "execution_count": 5,
      "outputs": [
        {
          "output_type": "execute_result",
          "data": {
            "text/plain": [
              "array(['A', 'B', 'C', 'D', 'E', 'F', 'G', 'H', 'I', 'J'], dtype='<U1')"
            ]
          },
          "metadata": {
            "tags": []
          },
          "execution_count": 5
        }
      ]
    },
    {
      "cell_type": "code",
      "metadata": {
        "colab": {
          "base_uri": "https://localhost:8080/"
        },
        "id": "4CSgzvAO9TmL",
        "outputId": "76028d50-7b7e-404e-e08a-b6638f74b16e"
      },
      "source": [
        "y1 = np.arange(1,11)\r\n",
        "y1"
      ],
      "execution_count": 6,
      "outputs": [
        {
          "output_type": "execute_result",
          "data": {
            "text/plain": [
              "array([ 1,  2,  3,  4,  5,  6,  7,  8,  9, 10])"
            ]
          },
          "metadata": {
            "tags": []
          },
          "execution_count": 6
        }
      ]
    },
    {
      "cell_type": "code",
      "metadata": {
        "colab": {
          "base_uri": "https://localhost:8080/",
          "height": 297
        },
        "id": "QWO6UjGd9gA1",
        "outputId": "d0dc6f35-1cf8-4194-b17d-6a33455722fb"
      },
      "source": [
        "# palette - 막대색상설정\r\n",
        "#sns.barplot(x=x,y=y1)\r\n",
        "sns.barplot(x=x,y=y1, palette='rocket')  # 진한색상에서 옅은색상의 막대로 변경"
      ],
      "execution_count": 34,
      "outputs": [
        {
          "output_type": "execute_result",
          "data": {
            "text/plain": [
              "<matplotlib.axes._subplots.AxesSubplot at 0x7f19d1b536a0>"
            ]
          },
          "metadata": {
            "tags": []
          },
          "execution_count": 34
        },
        {
          "output_type": "display_data",
          "data": {
            "image/png": "[encoded data removed]",
            "text/plain": [
              "<Figure size 432x288 with 1 Axes>"
            ]
          },
          "metadata": {
            "tags": []
          }
        }
      ]
    },
    {
      "cell_type": "code",
      "metadata": {
        "colab": {
          "base_uri": "https://localhost:8080/",
          "height": 297
        },
        "id": "PZKSttII92lY",
        "outputId": "2b7843be-278c-4138-f4a0-521ce26af071"
      },
      "source": [
        "# axhline - 수평으로 라인을 그린다\r\n",
        "sns.barplot(x=x,y=y1, palette='rocket').axhline(3, color=\"k\", clip_on=False) "
      ],
      "execution_count": 35,
      "outputs": [
        {
          "output_type": "execute_result",
          "data": {
            "text/plain": [
              "<matplotlib.lines.Line2D at 0x7f19d1a049b0>"
            ]
          },
          "metadata": {
            "tags": []
          },
          "execution_count": 35
        },
        {
          "output_type": "display_data",
          "data": {
            "image/png": "[encoded data removed]",
            "text/plain": [
              "<Figure size 432x288 with 1 Axes>"
            ]
          },
          "metadata": {
            "tags": []
          }
        }
      ]
    },
    {
      "cell_type": "code",
      "metadata": {
        "colab": {
          "base_uri": "https://localhost:8080/"
        },
        "id": "Lbw_qdF8DYTb",
        "outputId": "f53869a0-f98e-42bf-fe25-e995a66fee1d"
      },
      "source": [
        "y2 = y1 - 5.5\r\n",
        "y2"
      ],
      "execution_count": 14,
      "outputs": [
        {
          "output_type": "execute_result",
          "data": {
            "text/plain": [
              "array([-4.5, -3.5, -2.5, -1.5, -0.5,  0.5,  1.5,  2.5,  3.5,  4.5])"
            ]
          },
          "metadata": {
            "tags": []
          },
          "execution_count": 14
        }
      ]
    },
    {
      "cell_type": "code",
      "metadata": {
        "colab": {
          "base_uri": "https://localhost:8080/",
          "height": 297
        },
        "id": "NYUQAzyyEFt-",
        "outputId": "7e178706-79d5-4aa2-a36b-2fbb68db289d"
      },
      "source": [
        "sns.barplot(x=x,y=y2, palette='vlag') # vlag '-'값은 파란색으로 '+'값은 붉은색으로 표시"
      ],
      "execution_count": 36,
      "outputs": [
        {
          "output_type": "execute_result",
          "data": {
            "text/plain": [
              "<matplotlib.axes._subplots.AxesSubplot at 0x7f19d1991be0>"
            ]
          },
          "metadata": {
            "tags": []
          },
          "execution_count": 36
        },
        {
          "output_type": "display_data",
          "data": {
            "image/png": "[encoded data removed]",
            "text/plain": [
              "<Figure size 432x288 with 1 Axes>"
            ]
          },
          "metadata": {
            "tags": []
          }
        }
      ]
    },
    {
      "cell_type": "code",
      "metadata": {
        "colab": {
          "base_uri": "https://localhost:8080/"
        },
        "id": "5eZcqpQ4EO4b",
        "outputId": "6d6c64ad-d88c-4d67-9021-786e82942230"
      },
      "source": [
        "y3 = rs.choice(y1, len(y1), replace=False) # choice-같은 값이 아닌 다른 랜덤값을 같는다\r\n",
        "y3"
      ],
      "execution_count": 23,
      "outputs": [
        {
          "output_type": "execute_result",
          "data": {
            "text/plain": [
              "array([ 7,  8,  5,  2,  1,  6,  9,  4,  3, 10])"
            ]
          },
          "metadata": {
            "tags": []
          },
          "execution_count": 23
        }
      ]
    },
    {
      "cell_type": "code",
      "metadata": {
        "colab": {
          "base_uri": "https://localhost:8080/",
          "height": 279
        },
        "id": "faF6hbgwFS__",
        "outputId": "6aeb2e9f-851b-4966-b0d6-88700b407a02"
      },
      "source": [
        "sns.barplot(x=x, y=y3, palette='deep').set_ylabel(\"Qualitative\") # set_ylabel - Y축에 이름설정\r\n",
        "sns.despine(bottom=True) # 그래프 박스외곽부의 상하라인 제거 "
      ],
      "execution_count": 31,
      "outputs": [
        {
          "output_type": "display_data",
          "data": {
            "image/png": "[encoded data removed]",
            "text/plain": [
              "<Figure size 432x288 with 1 Axes>"
            ]
          },
          "metadata": {
            "tags": []
          }
        }
      ]
    },
    {
      "cell_type": "code",
      "metadata": {
        "id": "3AzfXdGoFzxJ"
      },
      "source": [
        ""
      ],
      "execution_count": null,
      "outputs": []
    }
  ]
}