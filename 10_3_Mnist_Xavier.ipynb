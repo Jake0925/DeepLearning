{
  "nbformat": 4,
  "nbformat_minor": 0,
  "metadata": {
    "colab": {
      "provenance": [],
      "authorship_tag": "ABX9TyNkpXWAURhYr2/wE9kTMpK8",
      "include_colab_link": true
    },
    "kernelspec": {
      "name": "python3",
      "display_name": "Python 3"
    },
    "language_info": {
      "name": "python"
    }
  },
  "cells": [
    {
      "cell_type": "markdown",
      "metadata": {
        "id": "view-in-github",
        "colab_type": "text"
      },
      "source": [
        "<a href=\"https://colab.research.google.com/github/Jake0925/DeepLearning/blob/master/10_3_Mnist_Xavier.ipynb\" target=\"_parent\"><img src=\"https://colab.research.google.com/assets/colab-badge.svg\" alt=\"Open In Colab\"/></a>"
      ]
    },
    {
      "cell_type": "markdown",
      "source": [
        "https://github.com/hunkim/DeepLearningZeroToAll/blob/master/tf2/tf2-10-3-mnist_nn_xavier.py"
      ],
      "metadata": {
        "id": "c7gChA8wx7qF"
      }
    },
    {
      "cell_type": "code",
      "execution_count": 1,
      "metadata": {
        "colab": {
          "base_uri": "https://localhost:8080/"
        },
        "id": "8SQgW0K4xz8I",
        "outputId": "3d1ad686-a116-4f9c-af62-83ed4dcc5a05"
      },
      "outputs": [
        {
          "output_type": "stream",
          "name": "stdout",
          "text": [
            "Downloading data from https://storage.googleapis.com/tensorflow/tf-keras-datasets/mnist.npz\n",
            "11490434/11490434 [==============================] - 0s 0us/step\n"
          ]
        },
        {
          "output_type": "stream",
          "name": "stderr",
          "text": [
            "WARNING:absl:`lr` is deprecated in Keras optimizer, please use `learning_rate` or use the legacy optimizer, e.g.,tf.keras.optimizers.legacy.Adam.\n"
          ]
        },
        {
          "output_type": "stream",
          "name": "stdout",
          "text": [
            "(60000, 28, 28)\n",
            "Model: \"sequential\"\n",
            "_________________________________________________________________\n",
            " Layer (type)                Output Shape              Param #   \n",
            "=================================================================\n",
            " dense (Dense)               (None, 256)               200960    \n",
            "                                                                 \n",
            " dense_1 (Dense)             (None, 256)               65792     \n",
            "                                                                 \n",
            " dense_2 (Dense)             (None, 10)                2570      \n",
            "                                                                 \n",
            "=================================================================\n",
            "Total params: 269322 (1.03 MB)\n",
            "Trainable params: 269322 (1.03 MB)\n",
            "Non-trainable params: 0 (0.00 Byte)\n",
            "_________________________________________________________________\n"
          ]
        }
      ],
      "source": [
        "# Lab 10 MNIST and NN\n",
        "import numpy as np\n",
        "import random\n",
        "import tensorflow as tf\n",
        "\n",
        "random.seed(777)  # for reproducibility\n",
        "learning_rate = 0.001\n",
        "batch_size = 100\n",
        "training_epochs = 15\n",
        "nb_classes = 10\n",
        "\n",
        "(x_train, y_train), (x_test2, y_test) = tf.keras.datasets.mnist.load_data()\n",
        "print(x_train.shape)\n",
        "\n",
        "x_train = x_train.reshape(x_train.shape[0], 28 * 28)\n",
        "x_test = x_test2.reshape(x_test2.shape[0], 28 * 28)\n",
        "\n",
        "y_train = tf.keras.utils.to_categorical(y_train, nb_classes)\n",
        "y_test = tf.keras.utils.to_categorical(y_test, nb_classes)\n",
        "\n",
        "tf.model = tf.keras.Sequential()\n",
        "# Glorot normal initializer, also called Xavier normal initializer.\n",
        "# see https://www.tensorflow.org/api_docs/python/tf/initializers\n",
        "# weight값 초기값을 위해 사용하므로  kernel_initializer에 설정한다\n",
        "# 따라서 train테이터를 보면 초기 cost가 다른 경우에 비해 낮게 나타난다\n",
        "tf.model.add(tf.keras.layers.Dense(input_dim=784, units=256, kernel_initializer='glorot_normal', activation='relu')) # xavier는  tensorflow2에서 glorot_normal로 변경되었다,\n",
        "tf.model.add(tf.keras.layers.Dense(units=256, kernel_initializer='glorot_normal', activation='relu'))\n",
        "tf.model.add(tf.keras.layers.Dense(units=nb_classes, kernel_initializer='glorot_normal', activation='softmax'))\n",
        "tf.model.compile(loss='categorical_crossentropy',\n",
        "                 optimizer=tf.keras.optimizers.Adam(lr=learning_rate), metrics=['accuracy'])\n",
        "tf.model.summary()\n"
      ]
    },
    {
      "cell_type": "code",
      "source": [
        "history = tf.model.fit(x_train, y_train, batch_size=batch_size, epochs=training_epochs)"
      ],
      "metadata": {
        "colab": {
          "base_uri": "https://localhost:8080/"
        },
        "id": "HiTDKrlRyAYO",
        "outputId": "6a65d6e5-99d9-4bb8-d0f2-95365486147a"
      },
      "execution_count": 2,
      "outputs": [
        {
          "output_type": "stream",
          "name": "stdout",
          "text": [
            "Epoch 1/15\n",
            "600/600 [==============================] - 5s 7ms/step - loss: 2.0035 - accuracy: 0.8952\n",
            "Epoch 2/15\n",
            "600/600 [==============================] - 3s 6ms/step - loss: 0.3963 - accuracy: 0.9445\n",
            "Epoch 3/15\n",
            "600/600 [==============================] - 3s 6ms/step - loss: 0.2348 - accuracy: 0.9584\n",
            "Epoch 4/15\n",
            "600/600 [==============================] - 7s 11ms/step - loss: 0.1747 - accuracy: 0.9666\n",
            "Epoch 5/15\n",
            "600/600 [==============================] - 6s 10ms/step - loss: 0.1486 - accuracy: 0.9693\n",
            "Epoch 6/15\n",
            "600/600 [==============================] - 6s 11ms/step - loss: 0.1341 - accuracy: 0.9715\n",
            "Epoch 7/15\n",
            "600/600 [==============================] - 3s 5ms/step - loss: 0.1077 - accuracy: 0.9752\n",
            "Epoch 8/15\n",
            "600/600 [==============================] - 3s 5ms/step - loss: 0.0939 - accuracy: 0.9779\n",
            "Epoch 9/15\n",
            "600/600 [==============================] - 4s 7ms/step - loss: 0.0849 - accuracy: 0.9791\n",
            "Epoch 10/15\n",
            "600/600 [==============================] - 4s 6ms/step - loss: 0.0788 - accuracy: 0.9799\n",
            "Epoch 11/15\n",
            "600/600 [==============================] - 3s 5ms/step - loss: 0.0751 - accuracy: 0.9804\n",
            "Epoch 12/15\n",
            "600/600 [==============================] - 3s 5ms/step - loss: 0.0729 - accuracy: 0.9811\n",
            "Epoch 13/15\n",
            "600/600 [==============================] - 4s 7ms/step - loss: 0.0684 - accuracy: 0.9821\n",
            "Epoch 14/15\n",
            "600/600 [==============================] - 3s 5ms/step - loss: 0.0610 - accuracy: 0.9837\n",
            "Epoch 15/15\n",
            "600/600 [==============================] - 3s 5ms/step - loss: 0.0680 - accuracy: 0.9828\n"
          ]
        }
      ]
    },
    {
      "cell_type": "code",
      "source": [
        "import matplotlib.pyplot as plt\n",
        "\n",
        "y_predicted = tf.model.predict(x_test)\n",
        "for x in range(0, 3):\n",
        "    random_index = random.randint(0, x_test.shape[0]-1)\n",
        "    plt.imshow(x_test2[random_index]), plt.show()\n",
        "\n",
        "    print(\"index: \", random_index,\n",
        "          \"actual y: \", np.argmax(y_test[random_index]),\n",
        "          \"predicted y: \", np.argmax(y_predicted[random_index]))\n",
        "\n"
      ],
      "metadata": {
        "colab": {
          "base_uri": "https://localhost:8080/",
          "height": 1000
        },
        "id": "6XXzcfukyB_k",
        "outputId": "9b30b5c0-d504-432c-c710-4fa5aaf437c9"
      },
      "execution_count": 4,
      "outputs": [
        {
          "output_type": "stream",
          "name": "stdout",
          "text": [
            "313/313 [==============================] - 1s 3ms/step\n"
          ]
        },
        {
          "output_type": "display_data",
          "data": {
            "text/plain": [
              "<Figure size 640x480 with 1 Axes>"
            ],
            "image/png": "[encoded data removed]"
          },
          "metadata": {}
        },
        {
          "output_type": "stream",
          "name": "stdout",
          "text": [
            "index:  9429 actual y:  3 predicted y:  3\n"
          ]
        },
        {
          "output_type": "display_data",
          "data": {
            "text/plain": [
              "<Figure size 640x480 with 1 Axes>"
            ],
            "image/png": "[encoded data removed]"
          },
          "metadata": {}
        },
        {
          "output_type": "stream",
          "name": "stdout",
          "text": [
            "index:  4420 actual y:  5 predicted y:  5\n"
          ]
        },
        {
          "output_type": "display_data",
          "data": {
            "text/plain": [
              "<Figure size 640x480 with 1 Axes>"
            ],
            "image/png": "[encoded data removed]"
          },
          "metadata": {}
        },
        {
          "output_type": "stream",
          "name": "stdout",
          "text": [
            "index:  5507 actual y:  2 predicted y:  2\n"
          ]
        }
      ]
    },
    {
      "cell_type": "code",
      "source": [
        "# evaluate test set\n",
        "evaluation = tf.model.evaluate(x_test, y_test)\n",
        "print('loss: ', evaluation[0])\n",
        "print('accuracy', evaluation[1])"
      ],
      "metadata": {
        "colab": {
          "base_uri": "https://localhost:8080/"
        },
        "id": "kEGUeIrgyB50",
        "outputId": "d3f09382-c4e1-40c0-bb4c-b82bd60d7479"
      },
      "execution_count": 5,
      "outputs": [
        {
          "output_type": "stream",
          "name": "stdout",
          "text": [
            "313/313 [==============================] - 1s 2ms/step - loss: 0.1715 - accuracy: 0.9688\n",
            "loss:  0.17151692509651184\n",
            "accuracy 0.9688000082969666\n"
          ]
        }
      ]
    },
    {
      "cell_type": "code",
      "source": [],
      "metadata": {
        "id": "fBPTEoynzoXu"
      },
      "execution_count": null,
      "outputs": []
    }
  ]
}