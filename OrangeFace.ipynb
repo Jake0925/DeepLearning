{
 "cells": [
  {
   "cell_type": "markdown",
   "metadata": {
    "id": "HlB5mdPMLzpC"
   },
   "source": [
    "원본사이트: https://github.com/kairess/annoying-orange-face\n",
    "\n",
    "원본 강의 사이트  https://www.youtube.com/watch?v=9VYUXchrMcM&list=PL-xmlFOn6TUKlxlh3PIuAzHkJakFlcDvY&index=5"
   ]
  },
  {
   "cell_type": "markdown",
   "metadata": {},
   "source": [
    "dlib 설치방법 - Anaconda 명령프롬프트에서 \"pip install cmake\" 먼저설치후\n",
    "                 \"pip install dlib\"를 설치\n",
    "\n",
    "imutils 설치방법 -  \"pip install imutils\""
   ]
  },
  {
   "cell_type": "code",
   "execution_count": 1,
   "metadata": {
    "id": "AAFDzA9tLQ4_"
   },
   "outputs": [
    {
     "ename": "KeyboardInterrupt",
     "evalue": "",
     "output_type": "error",
     "traceback": [
      "\u001b[1;31m---------------------------------------------------------------------------\u001b[0m",
      "\u001b[1;31mKeyboardInterrupt\u001b[0m                         Traceback (most recent call last)",
      "\u001b[1;32m<ipython-input-1-9045ab04096b>\u001b[0m in \u001b[0;36m<module>\u001b[1;34m\u001b[0m\n\u001b[0;32m     20\u001b[0m         \u001b[1;32mbreak\u001b[0m\u001b[1;33m\u001b[0m\u001b[1;33m\u001b[0m\u001b[0m\n\u001b[0;32m     21\u001b[0m \u001b[1;33m\u001b[0m\u001b[0m\n\u001b[1;32m---> 22\u001b[1;33m     \u001b[0mfaces\u001b[0m \u001b[1;33m=\u001b[0m \u001b[0mdetector\u001b[0m\u001b[1;33m(\u001b[0m\u001b[0mimg\u001b[0m\u001b[1;33m)\u001b[0m\u001b[1;33m\u001b[0m\u001b[1;33m\u001b[0m\u001b[0m\n\u001b[0m\u001b[0;32m     23\u001b[0m \u001b[1;33m\u001b[0m\u001b[0m\n\u001b[0;32m     24\u001b[0m     \u001b[0mresult\u001b[0m \u001b[1;33m=\u001b[0m \u001b[0morange_img\u001b[0m\u001b[1;33m.\u001b[0m\u001b[0mcopy\u001b[0m\u001b[1;33m(\u001b[0m\u001b[1;33m)\u001b[0m\u001b[1;33m\u001b[0m\u001b[1;33m\u001b[0m\u001b[0m\n",
      "\u001b[1;31mKeyboardInterrupt\u001b[0m: "
     ]
    }
   ],
   "source": [
    "import cv2\n",
    "import dlib\n",
    "from imutils import face_utils, resize\n",
    "import numpy as np\n",
    "\n",
    "orange_img = cv2.imread('orange.jpg')\n",
    "orange_img = cv2.resize(orange_img, dsize=(512, 512))\n",
    "\n",
    "# 얼굴영역탐지\n",
    "detector = dlib.get_frontal_face_detector()\n",
    "predictor = dlib.shape_predictor('shape_predictor_68_face_landmarks.dat')\n",
    "\n",
    "cap = cv2.VideoCapture(0) # 값이 0일 경우 웹켐을 의미한다\n",
    "#cap = cv2.VideoCapture(\"pexels-sorapop-udomsri-6741439.mp4\") # 비디오파일이 있는경우\n",
    "\n",
    "while cap.isOpened():\n",
    "    ret, img = cap.read()\n",
    "\n",
    "    if not ret:\n",
    "        break\n",
    "\n",
    "    faces = detector(img)\n",
    "\n",
    "    result = orange_img.copy()\n",
    "\n",
    "    if len(faces) > 0: \n",
    "        face = faces[0] # 얼굴이 여러개 탐지될경우 하나의 얼굴만 사용\n",
    "        \n",
    "        x1, y1, x2, y2 = face.left(), face.top(), face.right(), face.bottom()\n",
    "        face_img = img[y1:y2, x1:x2].copy()\n",
    "\n",
    "        # 얼굴의 랜드마크 68점을 구한다       \n",
    "        shape = predictor(img, face)\n",
    "        shape = face_utils.shape_to_np(shape) # dlib을 numpy형으로 변환\n",
    "\n",
    "#         for p in shape:\n",
    "#             cv2.circle(face_img, center=(p[0] - x1, p[1] - y1), radius=2, color=255, thickness=-1)\n",
    "\n",
    "        # Left eyes\n",
    "        le_x1 = shape[36, 0]\n",
    "        le_y1 = shape[37, 1]\n",
    "        le_x2 = shape[39, 0]\n",
    "        le_y2 = shape[41, 1]\n",
    "        le_margin = int((le_x2 - le_x1) * 0.18) # 본래 눈크기보다 조금더 크게 영역 설정\n",
    "\n",
    "        # Right eyes\n",
    "        re_x1 = shape[42, 0]\n",
    "        re_y1 = shape[43, 1]\n",
    "        re_x2 = shape[45, 0]\n",
    "        re_y2 = shape[47, 1]\n",
    "        re_margin = int((re_x2 - re_x1) * 0.18)\n",
    "\n",
    "        left_eye_img = img[le_y1-le_margin:le_y2+le_margin, le_x1-le_margin:le_x2+le_margin].copy()\n",
    "        right_eye_img = img[re_y1-re_margin:re_y2+re_margin, re_x1-re_margin:re_x2+re_margin].copy()\n",
    "\n",
    "        # 눈 크기 resize\n",
    "        left_eye_img = resize(left_eye_img, width=100)\n",
    "        right_eye_img = resize(right_eye_img, width=100)\n",
    "\n",
    "        # 티가 안나게 이미지 합성시켜준다    \n",
    "        result = cv2.seamlessClone(\n",
    "            left_eye_img, # 눈\n",
    "            result, # 오렌지     \n",
    "            np.full(left_eye_img.shape[:2], 255, left_eye_img.dtype),\n",
    "            (100, 200),\n",
    "            cv2.MIXED_CLONE\n",
    "        )\n",
    "\n",
    "        result = cv2.seamlessClone(\n",
    "            right_eye_img,\n",
    "            result,\n",
    "            np.full(right_eye_img.shape[:2], 255, right_eye_img.dtype),\n",
    "            (250, 200),\n",
    "            cv2.MIXED_CLONE\n",
    "        )\n",
    "\n",
    "        # mouth\n",
    "        mouth_x1 = shape[48, 0]\n",
    "        mouth_y1 = shape[50, 1]\n",
    "        mouth_x2 = shape[54, 0]\n",
    "        mouth_y2 = shape[57, 1]\n",
    "        mouth_margin = int((mouth_x2 - mouth_x1) * 0.1)\n",
    "\n",
    "        mouth_img = img[mouth_y1-mouth_margin:mouth_y2+mouth_margin, mouth_x1-mouth_margin:mouth_x2+mouth_margin].copy()\n",
    "\n",
    "        mouth_img = resize(mouth_img, width=250)\n",
    "\n",
    "        result = cv2.seamlessClone(\n",
    "            mouth_img,\n",
    "            result,\n",
    "            np.full(mouth_img.shape[:2], 255, mouth_img.dtype),\n",
    "            (180, 320),\n",
    "            cv2.MIXED_CLONE\n",
    "        )\n",
    "\n",
    "#         cv2.imshow('left', left_eye_img)\n",
    "#         cv2.imshow('right', right_eye_img)\n",
    "#         cv2.imshow('mouth', mouth_img)\n",
    "#         cv2.imshow('face', face_img)\n",
    "\n",
    "        cv2.imshow('result', result)\n",
    "\n",
    "    # cv2.imshow('img', img)\n",
    "    if cv2.waitKey(1) == ord('q'):\n",
    "        break"
   ]
  },
  {
   "cell_type": "code",
   "execution_count": null,
   "metadata": {
    "id": "CcuWRFhbL_I7"
   },
   "outputs": [],
   "source": []
  }
 ],
 "metadata": {
  "colab": {
   "collapsed_sections": [],
   "name": "OrangeFace.ipynb",
   "provenance": []
  },
  "kernelspec": {
   "display_name": "Python 3",
   "language": "python",
   "name": "python3"
  },
  "language_info": {
   "codemirror_mode": {
    "name": "ipython",
    "version": 3
   },
   "file_extension": ".py",
   "mimetype": "text/x-python",
   "name": "python",
   "nbconvert_exporter": "python",
   "pygments_lexer": "ipython3",
   "version": "3.8.3"
  }
 },
 "nbformat": 4,
 "nbformat_minor": 1
}
