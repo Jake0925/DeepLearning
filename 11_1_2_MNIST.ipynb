{
  "nbformat": 4,
  "nbformat_minor": 0,
  "metadata": {
    "colab": {
      "provenance": [],
      "authorship_tag": "ABX9TyPKjMI7q2Ka3/IVk+J3nHWm",
      "include_colab_link": true
    },
    "kernelspec": {
      "name": "python3",
      "display_name": "Python 3"
    },
    "language_info": {
      "name": "python"
    }
  },
  "cells": [
    {
      "cell_type": "markdown",
      "metadata": {
        "id": "view-in-github",
        "colab_type": "text"
      },
      "source": [
        "<a href=\"https://colab.research.google.com/github/Jake0925/DeepLearning/blob/master/11_1_2_MNIST.ipynb\" target=\"_parent\"><img src=\"https://colab.research.google.com/assets/colab-badge.svg\" alt=\"Open In Colab\"/></a>"
      ]
    },
    {
      "cell_type": "code",
      "execution_count": null,
      "metadata": {
        "colab": {
          "base_uri": "https://localhost:8080/",
          "height": 448
        },
        "id": "sKbcznDTW4cq",
        "outputId": "84aa4b63-8d53-467d-c577-5afc160d3284"
      },
      "outputs": [
        {
          "output_type": "execute_result",
          "data": {
            "text/plain": [
              "<matplotlib.image.AxesImage at 0x78ab542616f0>"
            ]
          },
          "metadata": {},
          "execution_count": 2
        },
        {
          "output_type": "display_data",
          "data": {
            "text/plain": [
              "<Figure size 640x480 with 1 Axes>"
            ],
            "image/png": "[encoded data removed]"
          },
          "metadata": {}
        }
      ],
      "source": [
        "# Lab 11 MNIST and Convolutional Neural Network\n",
        "import numpy as np\n",
        "import tensorflow as tf\n",
        "import random\n",
        "import matplotlib.pyplot as plt\n",
        "\n",
        "\n",
        "mnist = tf.keras.datasets.mnist # 데이터 로드\n",
        "\n",
        "(x_train, y_train), (x_test, y_test) = mnist.load_data()\n",
        "\n",
        "plt.imshow(x_train[0].reshape(28,28), cmap ='gray')"
      ]
    },
    {
      "cell_type": "code",
      "source": [
        "with tf.compat.v1.Session() as sess:\n",
        "  img = x_train[0] / 255\n",
        "  img = img.reshape(-1, 28,28,1) # 28x28x1의 이미지이고 -1은 몇개인지 계산해서 자동으로 입력해라의미\n",
        "  img = img.astype('float32')\n",
        "  W1 = tf.Variable(tf.random.normal([3,3,1,5], stddev=0.01)) # 3x3x1크기의 5개 layer 필터를 사용\n",
        "  conv2d = tf.nn.conv2d(img, W1, strides=[1,2,2,1], padding='SAME') # stride는 x,y축으로 각각 2칸씩 건너뛰어 연산, padding가 same이어서 입력이미지 크기와 동일해야하지만 strdie 2로인해 출력이미지 크기가 반으로 줄어든다\n",
        "  print(conv2d)\n",
        "\n",
        "  sess.run(tf.compat.v1.global_variables_initializer())\n",
        "  conv2d_img = conv2d.eval()\n",
        "  conv2d_img = np.swapaxes(conv2d_img, 0, 3)\n",
        "\n",
        "  # 입력이미지 x 5개의 필터 결과\n",
        "  for i, one_img in enumerate(conv2d_img):\n",
        "    plt.subplot(1, 5, i+1), plt.imshow(one_img.reshape(14,14), cmap='gray')\n"
      ],
      "metadata": {
        "colab": {
          "base_uri": "https://localhost:8080/",
          "height": 166
        },
        "id": "WotYuJWMYh10",
        "outputId": "865d9d2a-feea-4324-e6a5-56a7d1f5f9aa"
      },
      "execution_count": null,
      "outputs": [
        {
          "output_type": "stream",
          "name": "stdout",
          "text": [
            "Tensor(\"Conv2D_11:0\", shape=(1, 14, 14, 5), dtype=float32)\n"
          ]
        },
        {
          "output_type": "display_data",
          "data": {
            "text/plain": [
              "<Figure size 640x480 with 5 Axes>"
            ],
            "image/png": "[encoded data removed]"
          },
          "metadata": {}
        }
      ]
    },
    {
      "cell_type": "code",
      "source": [
        "# Max pooling\n",
        "with tf.compat.v1.Session() as sess:\n",
        "  pool = tf.nn.max_pool(conv2d, ksize=[1,2,2,1], strides=[1,2,2,1], padding=\"SAME\") # 이미지크기가 stride로 인헤 반으로 줄어들어 7x7크기가 된다\n",
        "  print(pool)\n",
        "\n",
        "  sess.run(tf.compat.v1.global_variables_initializer()) # 실\n",
        "  pool_img = pool.eval()\n",
        "  pool_img = np.swapaxes(pool_img, 0, 3)\n",
        "  for i, one_img in enumerate(pool_img):\n",
        "    plt.subplot(1,5,i+1), plt.imshow(one_img.reshape(7,7), cmap='gray')"
      ],
      "metadata": {
        "colab": {
          "base_uri": "https://localhost:8080/",
          "height": 164
        },
        "id": "8t3kGnHxYhx2",
        "outputId": "7e702921-3323-4d80-9dc1-7c257ff26f68"
      },
      "execution_count": null,
      "outputs": [
        {
          "output_type": "stream",
          "name": "stdout",
          "text": [
            "Tensor(\"MaxPool2d_3:0\", shape=(1, 7, 7, 5), dtype=float32)\n"
          ]
        },
        {
          "output_type": "display_data",
          "data": {
            "text/plain": [
              "<Figure size 640x480 with 5 Axes>"
            ],
            "image/png": "[encoded data removed]"
          },
          "metadata": {}
        }
      ]
    },
    {
      "cell_type": "code",
      "source": [],
      "metadata": {
        "id": "EsUmxCeFdKBO"
      },
      "execution_count": null,
      "outputs": []
    },
    {
      "cell_type": "code",
      "source": [],
      "metadata": {
        "id": "YHD1Yr2_dJ-2"
      },
      "execution_count": null,
      "outputs": []
    },
    {
      "cell_type": "code",
      "source": [],
      "metadata": {
        "id": "nTp2YEigYM0g"
      },
      "execution_count": null,
      "outputs": []
    },
    {
      "cell_type": "code",
      "source": [],
      "metadata": {
        "id": "cgo5D_z6W6xH"
      },
      "execution_count": null,
      "outputs": []
    },
    {
      "cell_type": "code",
      "source": [],
      "metadata": {
        "id": "K4R8oLGzN4BL"
      },
      "execution_count": null,
      "outputs": []
    },
    {
      "cell_type": "code",
      "source": [],
      "metadata": {
        "id": "t4Js9DYmW6uZ"
      },
      "execution_count": null,
      "outputs": []
    },
    {
      "cell_type": "code",
      "source": [],
      "metadata": {
        "id": "lDstl7rZW6rV"
      },
      "execution_count": null,
      "outputs": []
    },
    {
      "cell_type": "code",
      "source": [],
      "metadata": {
        "id": "K1yMdBiiW6oy"
      },
      "execution_count": null,
      "outputs": []
    },
    {
      "cell_type": "code",
      "source": [],
      "metadata": {
        "id": "gc6mqQumW6l2"
      },
      "execution_count": null,
      "outputs": []
    }
  ]
}