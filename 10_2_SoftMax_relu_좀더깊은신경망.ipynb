{
  "nbformat": 4,
  "nbformat_minor": 0,
  "metadata": {
    "colab": {
      "provenance": [],
      "authorship_tag": "ABX9TyMUxH9VKI1g9LWIks7HSWb7",
      "include_colab_link": true
    },
    "kernelspec": {
      "name": "python3",
      "display_name": "Python 3"
    },
    "language_info": {
      "name": "python"
    }
  },
  "cells": [
    {
      "cell_type": "markdown",
      "metadata": {
        "id": "view-in-github",
        "colab_type": "text"
      },
      "source": [
        "<a href=\"https://colab.research.google.com/github/Jake0925/DeepLearning/blob/master/10_2_SoftMax_relu_%EC%A2%80%EB%8D%94%EA%B9%8A%EC%9D%80%EC%8B%A0%EA%B2%BD%EB%A7%9D.ipynb\" target=\"_parent\"><img src=\"https://colab.research.google.com/assets/colab-badge.svg\" alt=\"Open In Colab\"/></a>"
      ]
    },
    {
      "cell_type": "markdown",
      "source": [
        "https://github.com/hunkim/DeepLearningZeroToAll/blob/master/tf2/tf2-10-2-mnist_nn.py"
      ],
      "metadata": {
        "id": "i3Nt_GM33fux"
      }
    },
    {
      "cell_type": "code",
      "execution_count": 1,
      "metadata": {
        "colab": {
          "base_uri": "https://localhost:8080/"
        },
        "id": "vyARvSY92Qif",
        "outputId": "d5d55922-5b0d-4e86-d473-d02f4d8545b2"
      },
      "outputs": [
        {
          "output_type": "stream",
          "name": "stdout",
          "text": [
            "Downloading data from https://storage.googleapis.com/tensorflow/tf-keras-datasets/mnist.npz\n",
            "11490434/11490434 [==============================] - 0s 0us/step\n"
          ]
        },
        {
          "output_type": "stream",
          "name": "stderr",
          "text": [
            "WARNING:absl:`lr` is deprecated in Keras optimizer, please use `learning_rate` or use the legacy optimizer, e.g.,tf.keras.optimizers.legacy.Adam.\n"
          ]
        },
        {
          "output_type": "stream",
          "name": "stdout",
          "text": [
            "(60000, 28, 28)\n",
            "Model: \"sequential\"\n",
            "_________________________________________________________________\n",
            " Layer (type)                Output Shape              Param #   \n",
            "=================================================================\n",
            " dense (Dense)               (None, 256)               200960    \n",
            "                                                                 \n",
            " dense_1 (Dense)             (None, 256)               65792     \n",
            "                                                                 \n",
            " dense_2 (Dense)             (None, 10)                2570      \n",
            "                                                                 \n",
            "=================================================================\n",
            "Total params: 269322 (1.03 MB)\n",
            "Trainable params: 269322 (1.03 MB)\n",
            "Non-trainable params: 0 (0.00 Byte)\n",
            "_________________________________________________________________\n",
            "Epoch 1/15\n",
            "600/600 [==============================] - 8s 12ms/step - loss: 2.2554 - accuracy: 0.8966\n",
            "Epoch 2/15\n",
            "600/600 [==============================] - 8s 13ms/step - loss: 0.4541 - accuracy: 0.9447\n",
            "Epoch 3/15\n",
            "600/600 [==============================] - 5s 8ms/step - loss: 0.2880 - accuracy: 0.9567\n",
            "Epoch 4/15\n",
            "600/600 [==============================] - 7s 11ms/step - loss: 0.2030 - accuracy: 0.9641\n",
            "Epoch 5/15\n",
            "600/600 [==============================] - 7s 12ms/step - loss: 0.1562 - accuracy: 0.9710\n",
            "Epoch 6/15\n",
            "600/600 [==============================] - 8s 13ms/step - loss: 0.1461 - accuracy: 0.9707\n",
            "Epoch 7/15\n",
            "600/600 [==============================] - 7s 12ms/step - loss: 0.1266 - accuracy: 0.9737\n",
            "Epoch 8/15\n",
            "600/600 [==============================] - 7s 11ms/step - loss: 0.1090 - accuracy: 0.9757\n",
            "Epoch 9/15\n",
            "600/600 [==============================] - 7s 11ms/step - loss: 0.1017 - accuracy: 0.9769\n",
            "Epoch 10/15\n",
            "600/600 [==============================] - 6s 10ms/step - loss: 0.0769 - accuracy: 0.9804\n",
            "Epoch 11/15\n",
            "600/600 [==============================] - 7s 11ms/step - loss: 0.0751 - accuracy: 0.9802\n",
            "Epoch 12/15\n",
            "600/600 [==============================] - 5s 8ms/step - loss: 0.0790 - accuracy: 0.9793\n",
            "Epoch 13/15\n",
            "600/600 [==============================] - 5s 9ms/step - loss: 0.0741 - accuracy: 0.9811\n",
            "Epoch 14/15\n",
            "600/600 [==============================] - 5s 9ms/step - loss: 0.0694 - accuracy: 0.9822\n",
            "Epoch 15/15\n",
            "600/600 [==============================] - 5s 8ms/step - loss: 0.0672 - accuracy: 0.9830\n",
            "313/313 [==============================] - 1s 2ms/step\n",
            "index:  6039 actual y:  9 predicted y:  9\n",
            "index:  9429 actual y:  3 predicted y:  3\n",
            "index:  4420 actual y:  5 predicted y:  5\n",
            "index:  5507 actual y:  2 predicted y:  2\n",
            "index:  8809 actual y:  1 predicted y:  1\n",
            "index:  654 actual y:  5 predicted y:  5\n",
            "index:  7302 actual y:  8 predicted y:  8\n",
            "index:  8966 actual y:  2 predicted y:  2\n",
            "index:  6383 actual y:  0 predicted y:  0\n",
            "index:  9854 actual y:  8 predicted y:  8\n",
            "313/313 [==============================] - 1s 4ms/step - loss: 0.1785 - accuracy: 0.9672\n",
            "loss:  0.17847061157226562\n",
            "accuracy 0.967199981212616\n"
          ]
        }
      ],
      "source": [
        "import numpy as np\n",
        "import random\n",
        "import tensorflow as tf\n",
        "\n",
        "random.seed(777)  # for reproducibility\n",
        "learning_rate = 0.001\n",
        "batch_size = 100\n",
        "training_epochs = 15\n",
        "nb_classes = 10\n",
        "\n",
        "(x_train, y_train), (x_test2, y_test) = tf.keras.datasets.mnist.load_data()\n",
        "print(x_train.shape)\n",
        "\n",
        "x_train = x_train.reshape(x_train.shape[0], 28 * 28)\n",
        "x_test = x_test2.reshape(x_test2.shape[0], 28 * 28)\n",
        "\n",
        "y_train = tf.keras.utils.to_categorical(y_train, nb_classes)\n",
        "y_test = tf.keras.utils.to_categorical(y_test, nb_classes)\n",
        "\n",
        "tf.model = tf.keras.Sequential()\n",
        "tf.model.add(tf.keras.layers.Dense(input_dim=784, units=256, activation='relu')) # 입력층이 784개이다(이미지크기 28x28), 출력층은 사용자가 정한 256개이다\n",
        "tf.model.add(tf.keras.layers.Dense(units=256, activation='relu'))\n",
        "tf.model.add(tf.keras.layers.Dense(units=nb_classes, activation='softmax')) # 최종출력은 classification갯수이 10개\n",
        "tf.model.compile(loss='categorical_crossentropy',\n",
        "                 optimizer=tf.keras.optimizers.Adam(lr=learning_rate), metrics=['accuracy'])\n",
        "tf.model.summary()\n",
        "\n",
        "tf.model.fit(x_train, y_train, batch_size=batch_size, epochs=training_epochs)"
      ]
    },
    {
      "cell_type": "code",
      "source": [
        "# predict 10 random hand-writing data\n",
        "y_predicted = tf.model.predict(x_test)\n",
        "for x in range(0, 10):\n",
        "    random_index = random.randint(0, x_test.shape[0]-1)\n",
        "    print(\"index: \", random_index,\n",
        "          \"actual y: \", np.argmax(y_test[random_index]),\n",
        "          \"predicted y: \", np.argmax(y_predicted[random_index]))\n",
        "\n",
        "# evaluate test set\n",
        "evaluation = tf.model.evaluate(x_test, y_test)\n",
        "print('loss: ', evaluation[0])\n",
        "print('accuracy', evaluation[1])"
      ],
      "metadata": {
        "colab": {
          "base_uri": "https://localhost:8080/"
        },
        "id": "FJZdljFy3x05",
        "outputId": "d50b225b-b6c5-4454-9d4d-1b5a2378c503"
      },
      "execution_count": 2,
      "outputs": [
        {
          "output_type": "stream",
          "name": "stdout",
          "text": [
            "313/313 [==============================] - 1s 2ms/step\n",
            "index:  4734 actual y:  2 predicted y:  2\n",
            "index:  1979 actual y:  9 predicted y:  9\n",
            "index:  1871 actual y:  2 predicted y:  2\n",
            "index:  1277 actual y:  9 predicted y:  9\n",
            "index:  5458 actual y:  6 predicted y:  6\n",
            "index:  1697 actual y:  9 predicted y:  9\n",
            "index:  20 actual y:  9 predicted y:  9\n",
            "index:  9450 actual y:  8 predicted y:  8\n",
            "index:  5542 actual y:  3 predicted y:  3\n",
            "index:  4704 actual y:  6 predicted y:  6\n",
            "313/313 [==============================] - 1s 3ms/step - loss: 0.1785 - accuracy: 0.9672\n",
            "loss:  0.17847061157226562\n",
            "accuracy 0.967199981212616\n"
          ]
        }
      ]
    },
    {
      "cell_type": "code",
      "source": [],
      "metadata": {
        "id": "iXQ6fhOZ3xyH"
      },
      "execution_count": null,
      "outputs": []
    },
    {
      "cell_type": "code",
      "source": [],
      "metadata": {
        "id": "h-wRqZBZ3xvS"
      },
      "execution_count": null,
      "outputs": []
    }
  ]
}