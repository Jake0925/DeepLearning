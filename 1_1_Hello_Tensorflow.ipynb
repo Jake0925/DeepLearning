{
  "nbformat": 4,
  "nbformat_minor": 0,
  "metadata": {
    "colab": {
      "provenance": [],
      "authorship_tag": "ABX9TyNC6FOYYHnBI1LSsXgYz/Qw",
      "include_colab_link": true
    },
    "kernelspec": {
      "name": "python3",
      "display_name": "Python 3"
    },
    "language_info": {
      "name": "python"
    }
  },
  "cells": [
    {
      "cell_type": "markdown",
      "metadata": {
        "id": "view-in-github",
        "colab_type": "text"
      },
      "source": [
        "<a href=\"https://colab.research.google.com/github/Jake0925/DeepLearning/blob/master/1_1_Hello_Tensorflow.ipynb\" target=\"_parent\"><img src=\"https://colab.research.google.com/assets/colab-badge.svg\" alt=\"Open In Colab\"/></a>"
      ]
    },
    {
      "cell_type": "code",
      "execution_count": null,
      "metadata": {
        "id": "32lqQgxAHOJr"
      },
      "outputs": [],
      "source": [
        "import tensorflow as tf"
      ]
    },
    {
      "cell_type": "markdown",
      "source": [
        "예제1"
      ],
      "metadata": {
        "id": "Cqz1XvxWJ1Uy"
      }
    },
    {
      "cell_type": "code",
      "source": [
        "hello = tf.constant(\"Hello, tf\")\n",
        "\n",
        "# tf 1.0의경우\n",
        "# sess = tf.Session()\n",
        "# print(sess.run(hello))\n",
        "\n",
        "# tf 2.0의경우\n",
        "print(hello)"
      ],
      "metadata": {
        "colab": {
          "base_uri": "https://localhost:8080/"
        },
        "id": "bB4ZXJ30HTKz",
        "outputId": "9f6e546b-d93e-4587-9356-de2f76939ba0"
      },
      "execution_count": null,
      "outputs": [
        {
          "output_type": "stream",
          "name": "stdout",
          "text": [
            "tf.Tensor(b'Hello, tf', shape=(), dtype=string)\n"
          ]
        }
      ]
    },
    {
      "cell_type": "markdown",
      "source": [
        "예제2"
      ],
      "metadata": {
        "id": "umOsTnR2JzvF"
      }
    },
    {
      "cell_type": "code",
      "source": [
        "# Build graph(tensors)\n",
        "node1 = tf.constant(3.0, tf.float32)\n",
        "node2 = tf.constant(4.0)\n",
        "node3 = tf.add(node1, node2) # 더하기 연산 노드"
      ],
      "metadata": {
        "id": "c0zSwKrXJyyz"
      },
      "execution_count": null,
      "outputs": []
    },
    {
      "cell_type": "code",
      "source": [
        "print(node3)"
      ],
      "metadata": {
        "colab": {
          "base_uri": "https://localhost:8080/"
        },
        "id": "OAELPG6xJyv_",
        "outputId": "4547bb6f-ef70-4b6b-ca65-07f3952317e8"
      },
      "execution_count": null,
      "outputs": [
        {
          "output_type": "stream",
          "name": "stdout",
          "text": [
            "tf.Tensor(7.0, shape=(), dtype=float32)\n"
          ]
        }
      ]
    },
    {
      "cell_type": "markdown",
      "source": [
        "예제3\n",
        "Placeholder\n"
      ],
      "metadata": {
        "id": "VjcXxcmkKn1F"
      }
    },
    {
      "cell_type": "code",
      "source": [],
      "metadata": {
        "id": "FjobLSIKJyqh"
      },
      "execution_count": null,
      "outputs": []
    },
    {
      "cell_type": "code",
      "source": [],
      "metadata": {
        "id": "kW3Qbc8SJyne"
      },
      "execution_count": null,
      "outputs": []
    },
    {
      "cell_type": "code",
      "source": [],
      "metadata": {
        "id": "1PDGaG2uJykv"
      },
      "execution_count": null,
      "outputs": []
    }
  ]
}