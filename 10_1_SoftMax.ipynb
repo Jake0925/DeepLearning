{
  "nbformat": 4,
  "nbformat_minor": 0,
  "metadata": {
    "colab": {
      "provenance": [],
      "authorship_tag": "ABX9TyM3c0Nbk3y84MXRovcWHph1",
      "include_colab_link": true
    },
    "kernelspec": {
      "name": "python3",
      "display_name": "Python 3"
    },
    "language_info": {
      "name": "python"
    }
  },
  "cells": [
    {
      "cell_type": "markdown",
      "metadata": {
        "id": "view-in-github",
        "colab_type": "text"
      },
      "source": [
        "<a href=\"https://colab.research.google.com/github/Jake0925/DeepLearning/blob/master/10_1_SoftMax.ipynb\" target=\"_parent\"><img src=\"https://colab.research.google.com/assets/colab-badge.svg\" alt=\"Open In Colab\"/></a>"
      ]
    },
    {
      "cell_type": "markdown",
      "source": [
        "https://github.com/hunkim/DeepLearningZeroToAll/blob/master/tf2/tf2-10-1-mnist_softmax.py"
      ],
      "metadata": {
        "id": "ayHFh83yyb_3"
      }
    },
    {
      "cell_type": "code",
      "execution_count": 1,
      "metadata": {
        "colab": {
          "base_uri": "https://localhost:8080/"
        },
        "id": "koY0OXkZyIer",
        "outputId": "75b6be30-15c1-4934-9b70-b7eaf4447e29"
      },
      "outputs": [
        {
          "output_type": "stream",
          "name": "stdout",
          "text": [
            "Downloading data from https://storage.googleapis.com/tensorflow/tf-keras-datasets/mnist.npz\n",
            "11490434/11490434 [==============================] - 0s 0us/step\n",
            "(60000, 28, 28)\n",
            "Model: \"sequential\"\n",
            "_________________________________________________________________\n",
            " Layer (type)                Output Shape              Param #   \n",
            "=================================================================\n",
            " dense (Dense)               (None, 10)                7850      \n",
            "                                                                 \n",
            "=================================================================\n",
            "Total params: 7850 (30.66 KB)\n",
            "Trainable params: 7850 (30.66 KB)\n",
            "Non-trainable params: 0 (0.00 Byte)\n",
            "_________________________________________________________________\n",
            "Epoch 1/15\n",
            "600/600 [==============================] - 3s 4ms/step - loss: 0.6228 - accuracy: 0.8457\n",
            "Epoch 2/15\n",
            "600/600 [==============================] - 3s 4ms/step - loss: 0.3453 - accuracy: 0.9065\n",
            "Epoch 3/15\n",
            "600/600 [==============================] - 3s 4ms/step - loss: 0.3086 - accuracy: 0.9150\n",
            "Epoch 4/15\n",
            "600/600 [==============================] - 2s 3ms/step - loss: 0.2917 - accuracy: 0.9186\n",
            "Epoch 5/15\n",
            "600/600 [==============================] - 2s 4ms/step - loss: 0.2817 - accuracy: 0.9215\n",
            "Epoch 6/15\n",
            "600/600 [==============================] - 3s 4ms/step - loss: 0.2748 - accuracy: 0.9229\n",
            "Epoch 7/15\n",
            "600/600 [==============================] - 2s 4ms/step - loss: 0.2696 - accuracy: 0.9249\n",
            "Epoch 8/15\n",
            "600/600 [==============================] - 3s 5ms/step - loss: 0.2654 - accuracy: 0.9264\n",
            "Epoch 9/15\n",
            "600/600 [==============================] - 3s 4ms/step - loss: 0.2621 - accuracy: 0.9273\n",
            "Epoch 10/15\n",
            "600/600 [==============================] - 2s 3ms/step - loss: 0.2593 - accuracy: 0.9282\n",
            "Epoch 11/15\n",
            "600/600 [==============================] - 2s 3ms/step - loss: 0.2572 - accuracy: 0.9282\n",
            "Epoch 12/15\n",
            "600/600 [==============================] - 2s 3ms/step - loss: 0.2547 - accuracy: 0.9292\n",
            "Epoch 13/15\n",
            "600/600 [==============================] - 2s 3ms/step - loss: 0.2529 - accuracy: 0.9297\n",
            "Epoch 14/15\n",
            "600/600 [==============================] - 2s 3ms/step - loss: 0.2511 - accuracy: 0.9304\n",
            "Epoch 15/15\n",
            "600/600 [==============================] - 3s 5ms/step - loss: 0.2497 - accuracy: 0.9309\n",
            "313/313 [==============================] - 1s 2ms/step\n",
            "Prediction: \n",
            " [[1.5514365e-06 6.7034030e-12 6.4396513e-06 ... 9.9505234e-01\n",
            "  8.9166260e-06 2.4121212e-04]\n",
            " [2.6974783e-04 3.6097485e-06 9.8779780e-01 ... 3.0229491e-17\n",
            "  5.9616010e-05 1.1432906e-13]\n",
            " [1.4547624e-06 9.7881204e-01 1.1799726e-02 ... 9.5409516e-04\n",
            "  3.1599239e-03 2.4726384e-04]\n",
            " ...\n",
            " [8.6946992e-09 5.8208900e-09 5.0052772e-06 ... 1.5118595e-03\n",
            "  4.0030922e-03 1.5611943e-02]\n",
            " [1.1014045e-07 1.5247016e-07 1.7452372e-07 ... 9.9726094e-08\n",
            "  4.4016498e-03 9.5643507e-08]\n",
            " [7.1563687e-07 2.7911204e-14 4.9695493e-05 ... 5.7272720e-13\n",
            "  2.5478748e-08 3.5639977e-11]]\n",
            "1875/1875 [==============================] - 3s 2ms/step - loss: 0.2453 - accuracy: 0.9321\n",
            "Accuracy:  0.932116687297821\n"
          ]
        }
      ],
      "source": [
        "import tensorflow as tf\n",
        "\n",
        "learning_rate = 0.001\n",
        "batch_size = 100\n",
        "training_epochs = 15\n",
        "nb_classes = 10\n",
        "\n",
        "mnist = tf.keras.datasets.mnist\n",
        "\n",
        "(x_train, y_train), (x_test, y_test) = mnist.load_data()\n",
        "# normalizing data\n",
        "x_train, x_test = x_train / 255.0, x_test / 255.0\n",
        "\n",
        "# change data shape\n",
        "print(x_train.shape)  # (60000, 28, 28)\n",
        "x_train = x_train.reshape(x_train.shape[0], x_train.shape[1] * x_train.shape[2])\n",
        "x_test = x_test.reshape(x_test.shape[0], x_test.shape[1] * x_test.shape[2])\n",
        "\n",
        "# change result to one-hot encoding\n",
        "# in tf1, one_hot= True in read_data_sets(\"MNIST_data/\", one_hot=True)\n",
        "# took care of it, but here we need to manually convert them\n",
        "y_train = tf.keras.utils.to_categorical(y_train, 10)\n",
        "y_test = tf.keras.utils.to_categorical(y_test, 10)\n",
        "\n",
        "# # Consider an array of 5 labels out of a set of 3 classes {0, 1, 2}:\n",
        "# array([0, 2, 1, 2, 0])\n",
        "# `to_categorical` converts this into a matrix with as many columns as there are classes. The number of rows\n",
        "#  stays the same. to_categorical(labels)\n",
        "# array([[ 1.,  0.,  0.],\n",
        "#        [ 0.,  0.,  1.],\n",
        "#        [ 0.,  1.,  0.],\n",
        "#        [ 0.,  0.,  1.],\n",
        "#        [ 1.,  0.,  0.]], dtype=float32)\n",
        "\n",
        "tf.model = tf.keras.Sequential()\n",
        "tf.model.add(tf.keras.layers.Dense(units=10, input_dim=784, activation='softmax')) # 입력층이 784개이다(이미지크기 28x28) 출력층은 0~9이므로 10개이\n",
        "tf.model.compile(loss='categorical_crossentropy', optimizer=tf.optimizers.Adam(0.001), metrics=['accuracy'])\n",
        "tf.model.summary()\n",
        "\n",
        "history = tf.model.fit(x_train, y_train, batch_size=batch_size, epochs=training_epochs)\n",
        "\n",
        "predictions = tf.model.predict(x_test)\n",
        "print('Prediction: \\n', predictions)\n",
        "x_train\n",
        "score = tf.model.evaluate(x_train, y_train)\n",
        "print('Accuracy: ', score[1])"
      ]
    },
    {
      "cell_type": "code",
      "source": [
        "x_train[0].shape"
      ],
      "metadata": {
        "colab": {
          "base_uri": "https://localhost:8080/"
        },
        "id": "548cv35w2krk",
        "outputId": "175f5bcb-56dd-486d-a860-51d5f3e1043e"
      },
      "execution_count": 3,
      "outputs": [
        {
          "output_type": "execute_result",
          "data": {
            "text/plain": [
              "(784,)"
            ]
          },
          "metadata": {},
          "execution_count": 3
        }
      ]
    }
  ]
}