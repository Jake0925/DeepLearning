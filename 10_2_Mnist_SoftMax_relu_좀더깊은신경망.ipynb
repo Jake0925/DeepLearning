{
  "nbformat": 4,
  "nbformat_minor": 0,
  "metadata": {
    "colab": {
      "provenance": [],
      "authorship_tag": "ABX9TyNTRbUqKBYLQpTcd2llaGxi",
      "include_colab_link": true
    },
    "kernelspec": {
      "name": "python3",
      "display_name": "Python 3"
    },
    "language_info": {
      "name": "python"
    }
  },
  "cells": [
    {
      "cell_type": "markdown",
      "metadata": {
        "id": "view-in-github",
        "colab_type": "text"
      },
      "source": [
        "<a href=\"https://colab.research.google.com/github/Jake0925/DeepLearning/blob/master/10_2_Mnist_SoftMax_relu_%EC%A2%80%EB%8D%94%EA%B9%8A%EC%9D%80%EC%8B%A0%EA%B2%BD%EB%A7%9D.ipynb\" target=\"_parent\"><img src=\"https://colab.research.google.com/assets/colab-badge.svg\" alt=\"Open In Colab\"/></a>"
      ]
    },
    {
      "cell_type": "markdown",
      "source": [
        "https://github.com/hunkim/DeepLearningZeroToAll/blob/master/tf2/tf2-10-2-mnist_nn.py"
      ],
      "metadata": {
        "id": "i3Nt_GM33fux"
      }
    },
    {
      "cell_type": "code",
      "execution_count": 1,
      "metadata": {
        "colab": {
          "base_uri": "https://localhost:8080/"
        },
        "id": "vyARvSY92Qif",
        "outputId": "db16f74d-28fe-4c9b-aa4a-5de6f991c300"
      },
      "outputs": [
        {
          "output_type": "stream",
          "name": "stdout",
          "text": [
            "Downloading data from https://storage.googleapis.com/tensorflow/tf-keras-datasets/mnist.npz\n",
            "11490434/11490434 [==============================] - 0s 0us/step\n"
          ]
        },
        {
          "output_type": "stream",
          "name": "stderr",
          "text": [
            "WARNING:absl:`lr` is deprecated in Keras optimizer, please use `learning_rate` or use the legacy optimizer, e.g.,tf.keras.optimizers.legacy.Adam.\n"
          ]
        },
        {
          "output_type": "stream",
          "name": "stdout",
          "text": [
            "(60000, 28, 28)\n",
            "Model: \"sequential\"\n",
            "_________________________________________________________________\n",
            " Layer (type)                Output Shape              Param #   \n",
            "=================================================================\n",
            " dense (Dense)               (None, 256)               200960    \n",
            "                                                                 \n",
            " dense_1 (Dense)             (None, 256)               65792     \n",
            "                                                                 \n",
            " dense_2 (Dense)             (None, 10)                2570      \n",
            "                                                                 \n",
            "=================================================================\n",
            "Total params: 269322 (1.03 MB)\n",
            "Trainable params: 269322 (1.03 MB)\n",
            "Non-trainable params: 0 (0.00 Byte)\n",
            "_________________________________________________________________\n",
            "Epoch 1/15\n",
            "600/600 [==============================] - 8s 11ms/step - loss: 2.3546 - accuracy: 0.8956\n",
            "Epoch 2/15\n",
            "600/600 [==============================] - 8s 13ms/step - loss: 0.4499 - accuracy: 0.9438\n",
            "Epoch 3/15\n",
            "600/600 [==============================] - 7s 11ms/step - loss: 0.2862 - accuracy: 0.9565\n",
            "Epoch 4/15\n",
            "600/600 [==============================] - 6s 10ms/step - loss: 0.2103 - accuracy: 0.9632\n",
            "Epoch 5/15\n",
            "600/600 [==============================] - 5s 8ms/step - loss: 0.1732 - accuracy: 0.9682\n",
            "Epoch 6/15\n",
            "600/600 [==============================] - 6s 9ms/step - loss: 0.1466 - accuracy: 0.9714\n",
            "Epoch 7/15\n",
            "600/600 [==============================] - 7s 12ms/step - loss: 0.1086 - accuracy: 0.9755\n",
            "Epoch 8/15\n",
            "600/600 [==============================] - 5s 8ms/step - loss: 0.0973 - accuracy: 0.9770\n",
            "Epoch 9/15\n",
            "600/600 [==============================] - 7s 11ms/step - loss: 0.0802 - accuracy: 0.9801\n",
            "Epoch 10/15\n",
            "600/600 [==============================] - 6s 10ms/step - loss: 0.0878 - accuracy: 0.9782\n",
            "Epoch 11/15\n",
            "600/600 [==============================] - 6s 10ms/step - loss: 0.0877 - accuracy: 0.9786\n",
            "Epoch 12/15\n",
            "600/600 [==============================] - 5s 8ms/step - loss: 0.0814 - accuracy: 0.9798\n",
            "Epoch 13/15\n",
            "600/600 [==============================] - 7s 11ms/step - loss: 0.0694 - accuracy: 0.9824\n",
            "Epoch 14/15\n",
            "600/600 [==============================] - 9s 15ms/step - loss: 0.0743 - accuracy: 0.9807\n",
            "Epoch 15/15\n",
            "600/600 [==============================] - 11s 18ms/step - loss: 0.0673 - accuracy: 0.9829\n"
          ]
        },
        {
          "output_type": "execute_result",
          "data": {
            "text/plain": [
              "<keras.src.callbacks.History at 0x7a6a90a8b9d0>"
            ]
          },
          "metadata": {},
          "execution_count": 1
        }
      ],
      "source": [
        "import numpy as np\n",
        "import random\n",
        "import tensorflow as tf\n",
        "\n",
        "random.seed(777)  # for reproducibility\n",
        "learning_rate = 0.001\n",
        "batch_size = 100\n",
        "training_epochs = 15\n",
        "nb_classes = 10\n",
        "\n",
        "(x_train, y_train), (x_test2, y_test) = tf.keras.datasets.mnist.load_data()\n",
        "print(x_train.shape)\n",
        "\n",
        "x_train = x_train.reshape(x_train.shape[0], 28 * 28)\n",
        "x_test = x_test2.reshape(x_test2.shape[0], 28 * 28)\n",
        "\n",
        "y_train = tf.keras.utils.to_categorical(y_train, nb_classes)\n",
        "y_test = tf.keras.utils.to_categorical(y_test, nb_classes)\n",
        "\n",
        "tf.model = tf.keras.Sequential()\n",
        "tf.model.add(tf.keras.layers.Dense(input_dim=784, units=256, activation='relu')) # 입력층이 784개이다(이미지크기 28x28), 출력층은 사용자가 정한 256개이다\n",
        "tf.model.add(tf.keras.layers.Dense(units=256, activation='relu'))\n",
        "tf.model.add(tf.keras.layers.Dense(units=nb_classes, activation='softmax')) # 최종출력은 classification갯수이 10개\n",
        "tf.model.compile(loss='categorical_crossentropy',\n",
        "                 optimizer=tf.keras.optimizers.Adam(lr=learning_rate), metrics=['accuracy'])\n",
        "tf.model.summary()\n",
        "\n",
        "tf.model.fit(x_train, y_train, batch_size=batch_size, epochs=training_epochs)"
      ]
    },
    {
      "cell_type": "code",
      "source": [
        "import matplotlib.pyplot as plt\n",
        "# predict 10 random hand-writing data\n",
        "y_predicted = tf.model.predict(x_test)\n",
        "for x in range(0, 3):\n",
        "    random_index = random.randint(0, x_test.shape[0]-1)\n",
        "\n",
        "    plt.imshow(x_test2[random_index]), plt.show()\n",
        "    print(\"index: \", random_index,\n",
        "          \"actual y: \", np.argmax(y_test[random_index]),\n",
        "          \"predicted y: \", np.argmax(y_predicted[random_index]))\n",
        "\n"
      ],
      "metadata": {
        "colab": {
          "base_uri": "https://localhost:8080/",
          "height": 1000
        },
        "id": "FJZdljFy3x05",
        "outputId": "ae825475-8f7f-435f-b8ab-96f222f2c79f"
      },
      "execution_count": 9,
      "outputs": [
        {
          "output_type": "stream",
          "name": "stdout",
          "text": [
            "313/313 [==============================] - 1s 2ms/step\n"
          ]
        },
        {
          "output_type": "display_data",
          "data": {
            "text/plain": [
              "<Figure size 640x480 with 1 Axes>"
            ],
            "image/png": "[encoded data removed]"
          },
          "metadata": {}
        },
        {
          "output_type": "stream",
          "name": "stdout",
          "text": [
            "index:  1979 actual y:  9 predicted y:  9\n"
          ]
        },
        {
          "output_type": "display_data",
          "data": {
            "text/plain": [
              "<Figure size 640x480 with 1 Axes>"
            ],
            "image/png": "[encoded data removed]"
          },
          "metadata": {}
        },
        {
          "output_type": "stream",
          "name": "stdout",
          "text": [
            "index:  1871 actual y:  2 predicted y:  2\n"
          ]
        },
        {
          "output_type": "display_data",
          "data": {
            "text/plain": [
              "<Figure size 640x480 with 1 Axes>"
            ],
            "image/png": "[encoded data removed]"
          },
          "metadata": {}
        },
        {
          "output_type": "stream",
          "name": "stdout",
          "text": [
            "index:  1277 actual y:  9 predicted y:  9\n"
          ]
        }
      ]
    },
    {
      "cell_type": "code",
      "source": [
        "# evaluate test set\n",
        "evaluation = tf.model.evaluate(x_test, y_test)\n",
        "print('loss: ', evaluation[0])\n",
        "print('accuracy', evaluation[1])"
      ],
      "metadata": {
        "id": "iXQ6fhOZ3xyH",
        "colab": {
          "base_uri": "https://localhost:8080/"
        },
        "outputId": "2de33127-33ee-4ecb-b0a9-31e5f431352a"
      },
      "execution_count": 10,
      "outputs": [
        {
          "output_type": "stream",
          "name": "stdout",
          "text": [
            "313/313 [==============================] - 1s 2ms/step - loss: 0.2070 - accuracy: 0.9602\n",
            "loss:  0.2070249319076538\n",
            "accuracy 0.9602000117301941\n"
          ]
        }
      ]
    },
    {
      "cell_type": "code",
      "source": [],
      "metadata": {
        "id": "h-wRqZBZ3xvS"
      },
      "execution_count": null,
      "outputs": []
    }
  ]
}