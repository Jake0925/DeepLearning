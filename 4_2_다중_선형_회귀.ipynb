{
  "nbformat": 4,
  "nbformat_minor": 0,
  "metadata": {
    "colab": {
      "provenance": [],
      "authorship_tag": "ABX9TyPQ9KOydwnIXgiRgVQ7TJWA",
      "include_colab_link": true
    },
    "kernelspec": {
      "name": "python3",
      "display_name": "Python 3"
    },
    "language_info": {
      "name": "python"
    }
  },
  "cells": [
    {
      "cell_type": "markdown",
      "metadata": {
        "id": "view-in-github",
        "colab_type": "text"
      },
      "source": [
        "<a href=\"https://colab.research.google.com/github/Jake0925/DeepLearning/blob/master/4_2_%EB%8B%A4%EC%A4%91_%EC%84%A0%ED%98%95_%ED%9A%8C%EA%B7%80.ipynb\" target=\"_parent\"><img src=\"https://colab.research.google.com/assets/colab-badge.svg\" alt=\"Open In Colab\"/></a>"
      ]
    },
    {
      "cell_type": "code",
      "execution_count": null,
      "metadata": {
        "id": "Hnfl_ZGQj95J"
      },
      "outputs": [],
      "source": [
        "import torch\n",
        "import torch.nn as nn\n",
        "import torch.nn.functional as F"
      ]
    },
    {
      "cell_type": "code",
      "source": [
        "torch.manual_seed(1)"
      ],
      "metadata": {
        "id": "JB_09tlPkGmD"
      },
      "execution_count": null,
      "outputs": []
    },
    {
      "cell_type": "markdown",
      "source": [
        "여기서는 3개의 x로부터 하나의 y를 예측하는 문제입니다.\n",
        "\n",
        "즉, 가설 수식은 H(x) = w1x1 + w2x2 + w3x3 + b 입니다."
      ],
      "metadata": {
        "id": "1ArGMPq5kOhi"
      }
    },
    {
      "cell_type": "code",
      "source": [
        "# 데이터\n",
        "x_train = torch.FloatTensor([[73, 80, 75],\n",
        "                             [93, 88, 93],\n",
        "                             [89, 91, 90],\n",
        "                             [96, 98, 100],\n",
        "                             [73, 66, 70]])\n",
        "y_train = torch.FloatTensor([[152], [185], [180], [196], [142]])"
      ],
      "metadata": {
        "id": "Caxfvv8CkHX1"
      },
      "execution_count": null,
      "outputs": []
    },
    {
      "cell_type": "code",
      "source": [
        "# nn.Linear()는 입력의 차원, 출력의 차원을 인수로 받습니다.\n",
        "# 모델을 선언 및 초기화. 다중 선형 회귀이므로 input_dim=3, output_dim=1.\n",
        "# 위 torch.nn.Linear 인자로 3, 1을 사용하였습니다.\n",
        "# 3개의 입력 x에 대해서 하나의 출력 y을 가지므로, 입력 차원은 3, 출력 차원은 1을 인수로 사용하였습니다\n",
        "model = nn.Linear(3,1)\n"
      ],
      "metadata": {
        "id": "wU-BsxdJkHVP"
      },
      "execution_count": null,
      "outputs": []
    },
    {
      "cell_type": "code",
      "source": [
        "# model에는 3개의 가중치 w와 편향 b가 저장되어져 있습니다.\n",
        "# 이 값은 model.parameters()라는 함수를 사용하여 불러올 수 있는데, 한 번 출력해보겠습니다.\n",
        "# 첫번째 출력되는 것이 3개의 w고, 두번째 출력되는 것이 b에 해당됩니다.\n",
        "# 두 값 모두 현재는 랜덤 초기화가 되어져 있습니다.\n",
        "# 그리고 두 출력 결과 모두 학습의 대상이므로 requires_grad=True가 되어져 있는 것을 볼 수 있습니다.\n",
        "\n",
        "print(list(model.parameters()))"
      ],
      "metadata": {
        "colab": {
          "base_uri": "https://localhost:8080/"
        },
        "id": "SglrkfRukHST",
        "outputId": "42c5f18d-1975-47d4-c9a1-8f246ccb3741"
      },
      "execution_count": null,
      "outputs": [
        {
          "output_type": "stream",
          "name": "stdout",
          "text": [
            "[Parameter containing:\n",
            "tensor([[ 0.4139,  0.4772, -0.0361]], requires_grad=True), Parameter containing:\n",
            "tensor([-0.2222], requires_grad=True)]\n"
          ]
        }
      ]
    },
    {
      "cell_type": "markdown",
      "source": [
        "![image.png](data:image/png;base64,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)![image.png]\n",
        "\n",
        "위의 그림은 앞서 배웠던 내용으로, 학습률(learning rate)이 모델의 필요한 크기보다 높을 때, 기울기가 발산하는 현상을 보여줍니다"
      ],
      "metadata": {
        "id": "p--3ADvalLdi"
      }
    },
    {
      "cell_type": "code",
      "source": [
        "# 이제 옵티마이저를 정의합니다\n",
        "# model.parameters()를 사용하여 3개의 w와 b를 전달합니다.\n",
        "# 학습률(learning rate)은 0.00001로 정합니다.\n",
        "# 파이썬 코드로는 1e-5로도 표기합니다. 0.01로 하지 않는 이유는 기울기가 발산하기 때문입니다\n",
        "\n",
        "optimizer = torch.optim.SGD(model.parameters(), lr=1e-5)"
      ],
      "metadata": {
        "id": "Zr67fLmxkHPX"
      },
      "execution_count": null,
      "outputs": []
    },
    {
      "cell_type": "code",
      "source": [
        "nb_epochs = 2000\n",
        "for epoch in range(nb_epochs+1):\n",
        "\n",
        "    # H(x) 계산\n",
        "    prediction = model(x_train)\n",
        "    # model(x_train)은 model.forward(x_train)와 동일함.\n",
        "\n",
        "    # cost 계산\n",
        "    cost = F.mse_loss(prediction, y_train) # <== 파이토치에서 제공하는 평균 제곱 오차 함수\n",
        "\n",
        "    # cost로 H(x) 개선하는 부분\n",
        "    # gradient를 0으로 초기화\n",
        "    optimizer.zero_grad()\n",
        "    # 비용 함수를 미분하여 gradient 계산\n",
        "    cost.backward()\n",
        "    # W와 b를 업데이트\n",
        "    optimizer.step()\n",
        "\n",
        "    if epoch % 100 == 0:\n",
        "    # 100번마다 로그 출력\n",
        "      print('Epoch {:4d}/{} Cost: {:.6f}'.format(\n",
        "          epoch, nb_epochs, cost.item()\n",
        "      ))"
      ],
      "metadata": {
        "colab": {
          "base_uri": "https://localhost:8080/"
        },
        "id": "zHNv1xUqkHMq",
        "outputId": "be3ab015-fd34-4c98-d8a8-00789b4d7937"
      },
      "execution_count": null,
      "outputs": [
        {
          "output_type": "stream",
          "name": "stdout",
          "text": [
            "Epoch    0/2000 Cost: 1.560038\n",
            "Epoch  100/2000 Cost: 1.486888\n",
            "Epoch  200/2000 Cost: 1.417583\n",
            "Epoch  300/2000 Cost: 1.351954\n",
            "Epoch  400/2000 Cost: 1.289780\n",
            "Epoch  500/2000 Cost: 1.230888\n",
            "Epoch  600/2000 Cost: 1.175097\n",
            "Epoch  700/2000 Cost: 1.122252\n",
            "Epoch  800/2000 Cost: 1.072198\n",
            "Epoch  900/2000 Cost: 1.024783\n",
            "Epoch 1000/2000 Cost: 0.979870\n",
            "Epoch 1100/2000 Cost: 0.937337\n",
            "Epoch 1200/2000 Cost: 0.897011\n",
            "Epoch 1300/2000 Cost: 0.858862\n",
            "Epoch 1400/2000 Cost: 0.822688\n",
            "Epoch 1500/2000 Cost: 0.788428\n",
            "Epoch 1600/2000 Cost: 0.755994\n",
            "Epoch 1700/2000 Cost: 0.725258\n",
            "Epoch 1800/2000 Cost: 0.696141\n",
            "Epoch 1900/2000 Cost: 0.668566\n",
            "Epoch 2000/2000 Cost: 0.642449\n"
          ]
        }
      ]
    },
    {
      "cell_type": "code",
      "source": [
        "# x에 임의의 입력 [73, 80, 75]를 넣어 모델이 예측하는 y의 값을 확인해보겠습니다.\n",
        "\n",
        "# 임의의 입력 [73, 80, 75]를 선언\n",
        "new_var =  torch.FloatTensor([[73, 80, 75]])\n",
        "# 입력한 값 [73, 80, 75]에 대해서 예측값 y를 리턴받아서 pred_y에 저장\n",
        "pred_y = model(new_var)\n",
        "print(\"훈련 후 입력이 73, 80, 75일 때의 예측값 :\", pred_y)"
      ],
      "metadata": {
        "colab": {
          "base_uri": "https://localhost:8080/"
        },
        "id": "gEnqjp-jkHJw",
        "outputId": "ef6ef9d6-2846-46ee-d9be-ef3f357d33be"
      },
      "execution_count": null,
      "outputs": [
        {
          "output_type": "stream",
          "name": "stdout",
          "text": [
            "훈련 후 입력이 73, 80, 75일 때의 예측값 : tensor([[152.4962]], grad_fn=<AddmmBackward0>)\n"
          ]
        }
      ]
    },
    {
      "cell_type": "code",
      "source": [
        "# 학습 후의 3개의 w와 b의 값을 출력해보겠습니다.\n",
        "\n",
        "print(list(model.parameters()))"
      ],
      "metadata": {
        "colab": {
          "base_uri": "https://localhost:8080/"
        },
        "id": "Y5xW70z6k9Pd",
        "outputId": "deec5106-3060-4eee-aa9d-2b5de8816f4d"
      },
      "execution_count": null,
      "outputs": [
        {
          "output_type": "stream",
          "name": "stdout",
          "text": [
            "[Parameter containing:\n",
            "tensor([[0.9511, 0.6735, 0.3921]], requires_grad=True), Parameter containing:\n",
            "tensor([-0.2156], requires_grad=True)]\n"
          ]
        }
      ]
    },
    {
      "cell_type": "code",
      "source": [],
      "metadata": {
        "id": "qtG_AzBbk9Lu"
      },
      "execution_count": null,
      "outputs": []
    },
    {
      "cell_type": "code",
      "source": [],
      "metadata": {
        "id": "mCdhTtG1k9Iw"
      },
      "execution_count": null,
      "outputs": []
    },
    {
      "cell_type": "code",
      "source": [],
      "metadata": {
        "id": "FGn3e7k0k9F4"
      },
      "execution_count": null,
      "outputs": []
    },
    {
      "cell_type": "code",
      "source": [],
      "metadata": {
        "id": "Qmfi5uoOk9DB"
      },
      "execution_count": null,
      "outputs": []
    },
    {
      "cell_type": "code",
      "source": [],
      "metadata": {
        "id": "3UY71WgBk9AU"
      },
      "execution_count": null,
      "outputs": []
    },
    {
      "cell_type": "code",
      "source": [],
      "metadata": {
        "id": "M5xhAG__k89a"
      },
      "execution_count": null,
      "outputs": []
    }
  ]
}