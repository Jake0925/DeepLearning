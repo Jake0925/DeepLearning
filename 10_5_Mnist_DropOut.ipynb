{
  "nbformat": 4,
  "nbformat_minor": 0,
  "metadata": {
    "colab": {
      "provenance": [],
      "authorship_tag": "ABX9TyNscYL7z9AkOsGJ3YP+9cDn",
      "include_colab_link": true
    },
    "kernelspec": {
      "name": "python3",
      "display_name": "Python 3"
    },
    "language_info": {
      "name": "python"
    }
  },
  "cells": [
    {
      "cell_type": "markdown",
      "metadata": {
        "id": "view-in-github",
        "colab_type": "text"
      },
      "source": [
        "<a href=\"https://colab.research.google.com/github/Jake0925/DeepLearning/blob/master/10_5_Mnist_DropOut.ipynb\" target=\"_parent\"><img src=\"https://colab.research.google.com/assets/colab-badge.svg\" alt=\"Open In Colab\"/></a>"
      ]
    },
    {
      "cell_type": "code",
      "execution_count": null,
      "metadata": {
        "colab": {
          "base_uri": "https://localhost:8080/"
        },
        "id": "DFCZ86H-2A5p",
        "outputId": "662f7f92-0830-475e-ad06-3423e1eab5ae"
      },
      "outputs": [
        {
          "output_type": "stream",
          "name": "stdout",
          "text": [
            "Downloading data from https://storage.googleapis.com/tensorflow/tf-keras-datasets/mnist.npz\n",
            "11490434/11490434 [==============================] - 1s 0us/step\n",
            "(60000, 28, 28)\n"
          ]
        },
        {
          "output_type": "stream",
          "name": "stderr",
          "text": [
            "WARNING:absl:`lr` is deprecated in Keras optimizer, please use `learning_rate` or use the legacy optimizer, e.g.,tf.keras.optimizers.legacy.Adam.\n"
          ]
        },
        {
          "output_type": "stream",
          "name": "stdout",
          "text": [
            "Model: \"sequential\"\n",
            "_________________________________________________________________\n",
            " Layer (type)                Output Shape              Param #   \n",
            "=================================================================\n",
            " dense (Dense)               (None, 512)               401920    \n",
            "                                                                 \n",
            " dropout (Dropout)           (None, 512)               0         \n",
            "                                                                 \n",
            " dense_1 (Dense)             (None, 512)               262656    \n",
            "                                                                 \n",
            " dropout_1 (Dropout)         (None, 512)               0         \n",
            "                                                                 \n",
            " dense_2 (Dense)             (None, 512)               262656    \n",
            "                                                                 \n",
            " dropout_2 (Dropout)         (None, 512)               0         \n",
            "                                                                 \n",
            " dense_3 (Dense)             (None, 512)               262656    \n",
            "                                                                 \n",
            " dropout_3 (Dropout)         (None, 512)               0         \n",
            "                                                                 \n",
            " dense_4 (Dense)             (None, 10)                5130      \n",
            "                                                                 \n",
            "=================================================================\n",
            "Total params: 1195018 (4.56 MB)\n",
            "Trainable params: 1195018 (4.56 MB)\n",
            "Non-trainable params: 0 (0.00 Byte)\n",
            "_________________________________________________________________\n",
            "Epoch 1/15\n",
            "600/600 [==============================] - 22s 32ms/step - loss: 2.0725 - accuracy: 0.7660\n",
            "Epoch 2/15\n",
            "600/600 [==============================] - 17s 29ms/step - loss: 0.3661 - accuracy: 0.8982\n",
            "Epoch 3/15\n",
            "600/600 [==============================] - 17s 28ms/step - loss: 0.2735 - accuracy: 0.9259\n",
            "Epoch 4/15\n",
            "600/600 [==============================] - 19s 31ms/step - loss: 0.2231 - accuracy: 0.9398\n",
            "Epoch 5/15\n",
            "600/600 [==============================] - 17s 28ms/step - loss: 0.2043 - accuracy: 0.9451\n",
            "Epoch 6/15\n",
            "600/600 [==============================] - 17s 28ms/step - loss: 0.1926 - accuracy: 0.9484\n",
            "Epoch 7/15\n",
            "600/600 [==============================] - 18s 29ms/step - loss: 0.1761 - accuracy: 0.9527\n",
            "Epoch 8/15\n",
            "600/600 [==============================] - 18s 30ms/step - loss: 0.1798 - accuracy: 0.9528\n",
            "Epoch 9/15\n",
            "600/600 [==============================] - 17s 29ms/step - loss: 0.1772 - accuracy: 0.9548\n",
            "Epoch 10/15\n",
            "600/600 [==============================] - 17s 29ms/step - loss: 0.1829 - accuracy: 0.9541\n",
            "Epoch 11/15\n",
            "600/600 [==============================] - 18s 30ms/step - loss: 0.1712 - accuracy: 0.9572\n",
            "Epoch 12/15\n",
            "600/600 [==============================] - 18s 30ms/step - loss: 0.1737 - accuracy: 0.9577\n",
            "Epoch 13/15\n",
            "600/600 [==============================] - 17s 29ms/step - loss: 0.1656 - accuracy: 0.9596\n",
            "Epoch 14/15\n",
            "600/600 [==============================] - 17s 29ms/step - loss: 0.1611 - accuracy: 0.9605\n",
            "Epoch 15/15\n",
            "600/600 [==============================] - 18s 30ms/step - loss: 0.1677 - accuracy: 0.9627\n",
            "313/313 [==============================] - 2s 6ms/step\n",
            "index:  4420 actual y:  5 predicted y:  5\n",
            "index:  5507 actual y:  2 predicted y:  2\n",
            "index:  8809 actual y:  1 predicted y:  1\n",
            "index:  654 actual y:  5 predicted y:  5\n",
            "index:  7302 actual y:  8 predicted y:  8\n",
            "index:  8966 actual y:  2 predicted y:  2\n",
            "index:  6383 actual y:  0 predicted y:  0\n",
            "index:  9854 actual y:  8 predicted y:  8\n",
            "index:  4734 actual y:  2 predicted y:  2\n",
            "index:  1979 actual y:  9 predicted y:  9\n",
            "313/313 [==============================] - 2s 4ms/step - loss: 0.1181 - accuracy: 0.9762\n",
            "loss:  0.11810128390789032\n",
            "accuracy 0.9761999845504761\n"
          ]
        }
      ],
      "source": [
        "import numpy as np\n",
        "import random\n",
        "import tensorflow as tf\n",
        "\n",
        "random.seed(777)  # for reproducibility\n",
        "learning_rate = 0.001\n",
        "batch_size = 100\n",
        "training_epochs = 15\n",
        "nb_classes = 10\n",
        "drop_rate = 0.3\n",
        "(x_train, y_train), (x_test, y_test) = tf.keras.datasets.mnist.load_data()\n",
        "print(x_train.shape)\n",
        "\n",
        "x_train = x_train.reshape(x_train.shape[0], 28 * 28)\n",
        "x_test = x_test.reshape(x_test.shape[0], 28 * 28)\n",
        "\n",
        "y_train = tf.keras.utils.to_categorical(y_train, nb_classes)\n",
        "y_test = tf.keras.utils.to_categorical(y_test, nb_classes)\n",
        "\n",
        "tf.model = tf.keras.Sequential()\n",
        "# Glorot normal initializer, also called Xavier normal initializer.\n",
        "# see https://www.tensorflow.org/api_docs/python/tf/initializers\n",
        "\n",
        "tf.model.add(tf.keras.layers.Dense(input_dim=784, units=512, kernel_initializer='glorot_normal', activation='relu'))\n",
        "tf.model.add(tf.keras.layers.Dropout(drop_rate))\n",
        "tf.model.add(tf.keras.layers.Dense(units=512, kernel_initializer='glorot_normal', activation='relu'))\n",
        "tf.model.add(tf.keras.layers.Dropout(drop_rate))\n",
        "tf.model.add(tf.keras.layers.Dense(units=512, kernel_initializer='glorot_normal', activation='relu'))\n",
        "tf.model.add(tf.keras.layers.Dropout(drop_rate))\n",
        "tf.model.add(tf.keras.layers.Dense(units=512, kernel_initializer='glorot_normal', activation='relu'))\n",
        "tf.model.add(tf.keras.layers.Dropout(drop_rate))\n",
        "tf.model.add(tf.keras.layers.Dense(units=nb_classes, kernel_initializer='glorot_normal', activation='softmax'))\n",
        "tf.model.compile(loss='categorical_crossentropy',\n",
        "                 optimizer=tf.keras.optimizers.Adam(learning_rate=learning_rate), metrics=['accuracy'])\n",
        "tf.model.summary()\n",
        "\n",
        "history = tf.model.fit(x_train, y_train, batch_size=batch_size, epochs=training_epochs)\n",
        "\n",
        "# predict 10 random hand-writing data\n",
        "y_predicted = tf.model.predict(x_test)\n",
        "for x in range(0, 10):\n",
        "    random_index = random.randint(0, x_test.shape[0]-1)\n",
        "    print(\"index: \", random_index,\n",
        "          \"actual y: \", np.argmax(y_test[random_index]),\n",
        "          \"predicted y: \", np.argmax(y_predicted[random_index]))\n",
        "\n",
        "# evaluate test set\n",
        "evaluation = tf.model.evaluate(x_test, y_test)\n",
        "print('loss: ', evaluation[0])\n",
        "print('accuracy', evaluation[1])"
      ]
    },
    {
      "cell_type": "code",
      "source": [
        "import numpy as np\n",
        "import random\n",
        "import tensorflow as tf\n",
        "\n",
        "random.seed(777)  # for reproducibility\n",
        "learning_rate = 0.001\n",
        "batch_size = 100\n",
        "training_epochs = 15\n",
        "nb_classes = 10\n",
        "drop_rate = 0.3\n",
        "(x_train, y_train), (x_test, y_test) = tf.keras.datasets.mnist.load_data()\n",
        "print(x_train.shape)\n",
        "\n",
        "x_train = x_train.reshape(x_train.shape[0], 28 * 28)\n",
        "x_test = x_test.reshape(x_test.shape[0], 28 * 28)\n",
        "\n",
        "y_train = tf.keras.utils.to_categorical(y_train, nb_classes)\n",
        "y_test = tf.keras.utils.to_categorical(y_test, nb_classes)\n",
        "\n",
        "tf.model = tf.keras.Sequential()\n",
        "# Glorot normal initializer, also called Xavier normal initializer.\n",
        "# see https://www.tensorflow.org/api_docs/python/tf/initializers\n",
        "\n",
        "tf.model.add(tf.keras.layers.Dense(input_dim=784, units=512, kernel_initializer='glorot_normal', activation='relu'))\n",
        "tf.model.add(tf.keras.layers.Dropout(drop_rate)) # dropout\n",
        "tf.model.add(tf.keras.layers.Dense(units=512, kernel_initializer='glorot_normal', activation='relu'))\n",
        "tf.model.add(tf.keras.layers.Dropout(drop_rate))\n",
        "tf.model.add(tf.keras.layers.Dense(units=512, kernel_initializer='glorot_normal', activation='relu'))\n",
        "tf.model.add(tf.keras.layers.Dropout(drop_rate))\n",
        "tf.model.add(tf.keras.layers.Dense(units=512, kernel_initializer='glorot_normal', activation='relu'))\n",
        "tf.model.add(tf.keras.layers.Dropout(drop_rate))\n",
        "tf.model.add(tf.keras.layers.Dense(units=nb_classes, kernel_initializer='glorot_normal', activation='softmax'))\n",
        "tf.model.compile(loss='categorical_crossentropy',\n",
        "                 optimizer=tf.keras.optimizers.Adam(learning_rate=learning_rate), metrics=['accuracy'])\n",
        "tf.model.summary()"
      ],
      "metadata": {
        "colab": {
          "base_uri": "https://localhost:8080/",
          "height": 453
        },
        "id": "R3m2_Hgp2Df4",
        "outputId": "2269f68d-2092-42d1-9a6f-d284efb9b968"
      },
      "execution_count": 2,
      "outputs": [
        {
          "output_type": "stream",
          "name": "stdout",
          "text": [
            "(60000, 28, 28)\n"
          ]
        },
        {
          "output_type": "display_data",
          "data": {
            "text/plain": [
              "\u001b[1mModel: \"sequential_1\"\u001b[0m\n"
            ],
            "text/html": [
              "<pre style=\"white-space:pre;overflow-x:auto;line-height:normal;font-family:Menlo,'DejaVu Sans Mono',consolas,'Courier New',monospace\"><span style=\"font-weight: bold\">Model: \"sequential_1\"</span>\n",
              "</pre>\n"
            ]
          },
          "metadata": {}
        },
        {
          "output_type": "display_data",
          "data": {
            "text/plain": [
              "┏━━━━━━━━━━━━━━━━━━━━━━━━━━━━━━━━━━━━━━┳━━━━━━━━━━━━━━━━━━━━━━━━━━━━━┳━━━━━━━━━━━━━━━━━┓\n",
              "┃\u001b[1m \u001b[0m\u001b[1mLayer (type)                        \u001b[0m\u001b[1m \u001b[0m┃\u001b[1m \u001b[0m\u001b[1mOutput Shape               \u001b[0m\u001b[1m \u001b[0m┃\u001b[1m \u001b[0m\u001b[1m        Param #\u001b[0m\u001b[1m \u001b[0m┃\n",
              "┡━━━━━━━━━━━━━━━━━━━━━━━━━━━━━━━━━━━━━━╇━━━━━━━━━━━━━━━━━━━━━━━━━━━━━╇━━━━━━━━━━━━━━━━━┩\n",
              "│ dense_5 (\u001b[38;5;33mDense\u001b[0m)                      │ (\u001b[38;5;45mNone\u001b[0m, \u001b[38;5;34m512\u001b[0m)                 │         \u001b[38;5;34m401,920\u001b[0m │\n",
              "├──────────────────────────────────────┼─────────────────────────────┼─────────────────┤\n",
              "│ dropout_4 (\u001b[38;5;33mDropout\u001b[0m)                  │ (\u001b[38;5;45mNone\u001b[0m, \u001b[38;5;34m512\u001b[0m)                 │               \u001b[38;5;34m0\u001b[0m │\n",
              "├──────────────────────────────────────┼─────────────────────────────┼─────────────────┤\n",
              "│ dense_6 (\u001b[38;5;33mDense\u001b[0m)                      │ (\u001b[38;5;45mNone\u001b[0m, \u001b[38;5;34m512\u001b[0m)                 │         \u001b[38;5;34m262,656\u001b[0m │\n",
              "├──────────────────────────────────────┼─────────────────────────────┼─────────────────┤\n",
              "│ dropout_5 (\u001b[38;5;33mDropout\u001b[0m)                  │ (\u001b[38;5;45mNone\u001b[0m, \u001b[38;5;34m512\u001b[0m)                 │               \u001b[38;5;34m0\u001b[0m │\n",
              "├──────────────────────────────────────┼─────────────────────────────┼─────────────────┤\n",
              "│ dense_7 (\u001b[38;5;33mDense\u001b[0m)                      │ (\u001b[38;5;45mNone\u001b[0m, \u001b[38;5;34m512\u001b[0m)                 │         \u001b[38;5;34m262,656\u001b[0m │\n",
              "├──────────────────────────────────────┼─────────────────────────────┼─────────────────┤\n",
              "│ dropout_6 (\u001b[38;5;33mDropout\u001b[0m)                  │ (\u001b[38;5;45mNone\u001b[0m, \u001b[38;5;34m512\u001b[0m)                 │               \u001b[38;5;34m0\u001b[0m │\n",
              "├──────────────────────────────────────┼─────────────────────────────┼─────────────────┤\n",
              "│ dense_8 (\u001b[38;5;33mDense\u001b[0m)                      │ (\u001b[38;5;45mNone\u001b[0m, \u001b[38;5;34m512\u001b[0m)                 │         \u001b[38;5;34m262,656\u001b[0m │\n",
              "├──────────────────────────────────────┼─────────────────────────────┼─────────────────┤\n",
              "│ dropout_7 (\u001b[38;5;33mDropout\u001b[0m)                  │ (\u001b[38;5;45mNone\u001b[0m, \u001b[38;5;34m512\u001b[0m)                 │               \u001b[38;5;34m0\u001b[0m │\n",
              "├──────────────────────────────────────┼─────────────────────────────┼─────────────────┤\n",
              "│ dense_9 (\u001b[38;5;33mDense\u001b[0m)                      │ (\u001b[38;5;45mNone\u001b[0m, \u001b[38;5;34m10\u001b[0m)                  │           \u001b[38;5;34m5,130\u001b[0m │\n",
              "└──────────────────────────────────────┴─────────────────────────────┴─────────────────┘\n"
            ],
            "text/html": [
              "<pre style=\"white-space:pre;overflow-x:auto;line-height:normal;font-family:Menlo,'DejaVu Sans Mono',consolas,'Courier New',monospace\">┏━━━━━━━━━━━━━━━━━━━━━━━━━━━━━━━━━━━━━━┳━━━━━━━━━━━━━━━━━━━━━━━━━━━━━┳━━━━━━━━━━━━━━━━━┓\n",
              "┃<span style=\"font-weight: bold\"> Layer (type)                         </span>┃<span style=\"font-weight: bold\"> Output Shape                </span>┃<span style=\"font-weight: bold\">         Param # </span>┃\n",
              "┡━━━━━━━━━━━━━━━━━━━━━━━━━━━━━━━━━━━━━━╇━━━━━━━━━━━━━━━━━━━━━━━━━━━━━╇━━━━━━━━━━━━━━━━━┩\n",
              "│ dense_5 (<span style=\"color: #0087ff; text-decoration-color: #0087ff\">Dense</span>)                      │ (<span style=\"color: #00d7ff; text-decoration-color: #00d7ff\">None</span>, <span style=\"color: #00af00; text-decoration-color: #00af00\">512</span>)                 │         <span style=\"color: #00af00; text-decoration-color: #00af00\">401,920</span> │\n",
              "├──────────────────────────────────────┼─────────────────────────────┼─────────────────┤\n",
              "│ dropout_4 (<span style=\"color: #0087ff; text-decoration-color: #0087ff\">Dropout</span>)                  │ (<span style=\"color: #00d7ff; text-decoration-color: #00d7ff\">None</span>, <span style=\"color: #00af00; text-decoration-color: #00af00\">512</span>)                 │               <span style=\"color: #00af00; text-decoration-color: #00af00\">0</span> │\n",
              "├──────────────────────────────────────┼─────────────────────────────┼─────────────────┤\n",
              "│ dense_6 (<span style=\"color: #0087ff; text-decoration-color: #0087ff\">Dense</span>)                      │ (<span style=\"color: #00d7ff; text-decoration-color: #00d7ff\">None</span>, <span style=\"color: #00af00; text-decoration-color: #00af00\">512</span>)                 │         <span style=\"color: #00af00; text-decoration-color: #00af00\">262,656</span> │\n",
              "├──────────────────────────────────────┼─────────────────────────────┼─────────────────┤\n",
              "│ dropout_5 (<span style=\"color: #0087ff; text-decoration-color: #0087ff\">Dropout</span>)                  │ (<span style=\"color: #00d7ff; text-decoration-color: #00d7ff\">None</span>, <span style=\"color: #00af00; text-decoration-color: #00af00\">512</span>)                 │               <span style=\"color: #00af00; text-decoration-color: #00af00\">0</span> │\n",
              "├──────────────────────────────────────┼─────────────────────────────┼─────────────────┤\n",
              "│ dense_7 (<span style=\"color: #0087ff; text-decoration-color: #0087ff\">Dense</span>)                      │ (<span style=\"color: #00d7ff; text-decoration-color: #00d7ff\">None</span>, <span style=\"color: #00af00; text-decoration-color: #00af00\">512</span>)                 │         <span style=\"color: #00af00; text-decoration-color: #00af00\">262,656</span> │\n",
              "├──────────────────────────────────────┼─────────────────────────────┼─────────────────┤\n",
              "│ dropout_6 (<span style=\"color: #0087ff; text-decoration-color: #0087ff\">Dropout</span>)                  │ (<span style=\"color: #00d7ff; text-decoration-color: #00d7ff\">None</span>, <span style=\"color: #00af00; text-decoration-color: #00af00\">512</span>)                 │               <span style=\"color: #00af00; text-decoration-color: #00af00\">0</span> │\n",
              "├──────────────────────────────────────┼─────────────────────────────┼─────────────────┤\n",
              "│ dense_8 (<span style=\"color: #0087ff; text-decoration-color: #0087ff\">Dense</span>)                      │ (<span style=\"color: #00d7ff; text-decoration-color: #00d7ff\">None</span>, <span style=\"color: #00af00; text-decoration-color: #00af00\">512</span>)                 │         <span style=\"color: #00af00; text-decoration-color: #00af00\">262,656</span> │\n",
              "├──────────────────────────────────────┼─────────────────────────────┼─────────────────┤\n",
              "│ dropout_7 (<span style=\"color: #0087ff; text-decoration-color: #0087ff\">Dropout</span>)                  │ (<span style=\"color: #00d7ff; text-decoration-color: #00d7ff\">None</span>, <span style=\"color: #00af00; text-decoration-color: #00af00\">512</span>)                 │               <span style=\"color: #00af00; text-decoration-color: #00af00\">0</span> │\n",
              "├──────────────────────────────────────┼─────────────────────────────┼─────────────────┤\n",
              "│ dense_9 (<span style=\"color: #0087ff; text-decoration-color: #0087ff\">Dense</span>)                      │ (<span style=\"color: #00d7ff; text-decoration-color: #00d7ff\">None</span>, <span style=\"color: #00af00; text-decoration-color: #00af00\">10</span>)                  │           <span style=\"color: #00af00; text-decoration-color: #00af00\">5,130</span> │\n",
              "└──────────────────────────────────────┴─────────────────────────────┴─────────────────┘\n",
              "</pre>\n"
            ]
          },
          "metadata": {}
        },
        {
          "output_type": "display_data",
          "data": {
            "text/plain": [
              "\u001b[1m Total params: \u001b[0m\u001b[38;5;34m1,195,018\u001b[0m (4.56 MB)\n"
            ],
            "text/html": [
              "<pre style=\"white-space:pre;overflow-x:auto;line-height:normal;font-family:Menlo,'DejaVu Sans Mono',consolas,'Courier New',monospace\"><span style=\"font-weight: bold\"> Total params: </span><span style=\"color: #00af00; text-decoration-color: #00af00\">1,195,018</span> (4.56 MB)\n",
              "</pre>\n"
            ]
          },
          "metadata": {}
        },
        {
          "output_type": "display_data",
          "data": {
            "text/plain": [
              "\u001b[1m Trainable params: \u001b[0m\u001b[38;5;34m1,195,018\u001b[0m (4.56 MB)\n"
            ],
            "text/html": [
              "<pre style=\"white-space:pre;overflow-x:auto;line-height:normal;font-family:Menlo,'DejaVu Sans Mono',consolas,'Courier New',monospace\"><span style=\"font-weight: bold\"> Trainable params: </span><span style=\"color: #00af00; text-decoration-color: #00af00\">1,195,018</span> (4.56 MB)\n",
              "</pre>\n"
            ]
          },
          "metadata": {}
        },
        {
          "output_type": "display_data",
          "data": {
            "text/plain": [
              "\u001b[1m Non-trainable params: \u001b[0m\u001b[38;5;34m0\u001b[0m (0.00 B)\n"
            ],
            "text/html": [
              "<pre style=\"white-space:pre;overflow-x:auto;line-height:normal;font-family:Menlo,'DejaVu Sans Mono',consolas,'Courier New',monospace\"><span style=\"font-weight: bold\"> Non-trainable params: </span><span style=\"color: #00af00; text-decoration-color: #00af00\">0</span> (0.00 B)\n",
              "</pre>\n"
            ]
          },
          "metadata": {}
        }
      ]
    },
    {
      "cell_type": "code",
      "source": [
        "history = tf.model.fit(x_train, y_train, batch_size=batch_size, epochs=training_epochs)"
      ],
      "metadata": {
        "colab": {
          "base_uri": "https://localhost:8080/"
        },
        "id": "qq1wU71B2DdY",
        "outputId": "d40412d4-c01a-481b-81d0-70bd12610b1b"
      },
      "execution_count": null,
      "outputs": [
        {
          "output_type": "stream",
          "name": "stdout",
          "text": [
            "Epoch 1/15\n",
            "600/600 [==============================] - 18s 28ms/step - loss: 2.0617 - accuracy: 0.7620\n",
            "Epoch 2/15\n",
            "600/600 [==============================] - 17s 28ms/step - loss: 0.3712 - accuracy: 0.8979\n",
            "Epoch 3/15\n",
            "600/600 [==============================] - 18s 30ms/step - loss: 0.2721 - accuracy: 0.9247\n",
            "Epoch 4/15\n",
            "600/600 [==============================] - 17s 28ms/step - loss: 0.2251 - accuracy: 0.9382\n",
            "Epoch 5/15\n",
            "600/600 [==============================] - 17s 28ms/step - loss: 0.2071 - accuracy: 0.9441\n",
            "Epoch 6/15\n",
            "600/600 [==============================] - 17s 28ms/step - loss: 0.1905 - accuracy: 0.9487\n",
            "Epoch 7/15\n",
            "600/600 [==============================] - 18s 31ms/step - loss: 0.1833 - accuracy: 0.9509\n",
            "Epoch 8/15\n",
            "600/600 [==============================] - 17s 28ms/step - loss: 0.1891 - accuracy: 0.9514\n",
            "Epoch 9/15\n",
            "600/600 [==============================] - 17s 28ms/step - loss: 0.1842 - accuracy: 0.9525\n",
            "Epoch 10/15\n",
            "600/600 [==============================] - 17s 28ms/step - loss: 0.1740 - accuracy: 0.9557\n",
            "Epoch 11/15\n",
            "600/600 [==============================] - 18s 30ms/step - loss: 0.1753 - accuracy: 0.9554\n",
            "Epoch 12/15\n",
            "600/600 [==============================] - 17s 28ms/step - loss: 0.1806 - accuracy: 0.9557\n",
            "Epoch 13/15\n",
            "600/600 [==============================] - 17s 28ms/step - loss: 0.1740 - accuracy: 0.9590\n",
            "Epoch 14/15\n",
            "600/600 [==============================] - 17s 28ms/step - loss: 0.1665 - accuracy: 0.9599\n",
            "Epoch 15/15\n",
            "600/600 [==============================] - 17s 29ms/step - loss: 0.1668 - accuracy: 0.9602\n"
          ]
        }
      ]
    },
    {
      "cell_type": "code",
      "source": [
        "# predict 10 random hand-writing data\n",
        "y_predicted = tf.model.predict(x_test)\n",
        "for x in range(0, 10):\n",
        "    random_index = random.randint(0, x_test.shape[0]-1)\n",
        "    print(\"index: \", random_index,\n",
        "          \"actual y: \", np.argmax(y_test[random_index]),\n",
        "          \"predicted y: \", np.argmax(y_predicted[random_index]))\n",
        "\n"
      ],
      "metadata": {
        "colab": {
          "base_uri": "https://localhost:8080/"
        },
        "id": "fbAtE2_q2Dam",
        "outputId": "e9d8e300-07d1-45f1-bb12-7073de6926be"
      },
      "execution_count": null,
      "outputs": [
        {
          "output_type": "stream",
          "name": "stdout",
          "text": [
            "313/313 [==============================] - 1s 4ms/step\n",
            "index:  4420 actual y:  5 predicted y:  5\n",
            "index:  5507 actual y:  2 predicted y:  2\n",
            "index:  8809 actual y:  1 predicted y:  1\n",
            "index:  654 actual y:  5 predicted y:  5\n",
            "index:  7302 actual y:  8 predicted y:  8\n",
            "index:  8966 actual y:  2 predicted y:  2\n",
            "index:  6383 actual y:  0 predicted y:  0\n",
            "index:  9854 actual y:  8 predicted y:  8\n",
            "index:  4734 actual y:  2 predicted y:  2\n",
            "index:  1979 actual y:  9 predicted y:  9\n"
          ]
        }
      ]
    },
    {
      "cell_type": "code",
      "source": [
        "# evaluate test set\n",
        "evaluation = tf.model.evaluate(x_test, y_test)\n",
        "print('loss: ', evaluation[0])\n",
        "print('accuracy', evaluation[1])"
      ],
      "metadata": {
        "colab": {
          "base_uri": "https://localhost:8080/"
        },
        "id": "ttutHTlW2DXw",
        "outputId": "950bb5d0-7c77-4c07-8a69-8029d7b5350d"
      },
      "execution_count": null,
      "outputs": [
        {
          "output_type": "stream",
          "name": "stdout",
          "text": [
            "313/313 [==============================] - 1s 4ms/step - loss: 0.1368 - accuracy: 0.9709\n",
            "loss:  0.13684554398059845\n",
            "accuracy 0.9708999991416931\n"
          ]
        }
      ]
    },
    {
      "cell_type": "code",
      "source": [],
      "metadata": {
        "id": "wYndfI9K2DVE"
      },
      "execution_count": null,
      "outputs": []
    },
    {
      "cell_type": "code",
      "source": [],
      "metadata": {
        "id": "ixA9xv9c2DSJ"
      },
      "execution_count": null,
      "outputs": []
    }
  ]
}