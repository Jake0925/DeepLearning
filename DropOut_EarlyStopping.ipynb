{
  "nbformat": 4,
  "nbformat_minor": 0,
  "metadata": {
    "kernelspec": {
      "display_name": "Python 3",
      "language": "python",
      "name": "python3"
    },
    "language_info": {
      "codemirror_mode": {
        "name": "ipython",
        "version": 3
      },
      "file_extension": ".py",
      "mimetype": "text/x-python",
      "name": "python",
      "nbconvert_exporter": "python",
      "pygments_lexer": "ipython3",
      "version": "3.7.5"
    },
    "colab": {
      "name": "DropOut_EarlyStopping.ipynb",
      "provenance": [],
      "collapsed_sections": [],
      "include_colab_link": true
    }
  },
  "cells": [
    {
      "cell_type": "markdown",
      "metadata": {
        "id": "view-in-github",
        "colab_type": "text"
      },
      "source": [
        "<a href=\"https://colab.research.google.com/github/Jake0925/DeepLearning/blob/master/DropOut_EarlyStopping.ipynb\" target=\"_parent\"><img src=\"https://colab.research.google.com/assets/colab-badge.svg\" alt=\"Open In Colab\"/></a>"
      ]
    },
    {
      "cell_type": "code",
      "metadata": {
        "id": "_TO6P9bHG3IO"
      },
      "source": [
        "from __future__ import absolute_import, division, print_function, unicode_literals\n",
        "\n",
        "try:\n",
        "  %tensorflow_version 2.x\n",
        "except Exception:\n",
        "  pass\n",
        "\n",
        "import tensorflow as tf\n",
        "tf.random.set_seed(1)"
      ],
      "execution_count": null,
      "outputs": []
    },
    {
      "cell_type": "code",
      "metadata": {
        "id": "S9ucxjdOG3IQ"
      },
      "source": [
        "import tensorflow as tf\n",
        "from tensorflow.keras.models import Sequential\n",
        "from tensorflow.keras.layers import Flatten\n",
        "from tensorflow.keras.layers import Dense\n",
        "from tensorflow.keras.layers import Activation\n",
        "from tensorflow.keras.layers import Dropout\n",
        "from tensorflow.keras.callbacks import EarlyStopping, ModelCheckpoint"
      ],
      "execution_count": null,
      "outputs": []
    },
    {
      "cell_type": "markdown",
      "metadata": {
        "id": "mTPNd7I3G3IS"
      },
      "source": [
        "# Get MNIST Data"
      ]
    },
    {
      "cell_type": "code",
      "metadata": {
        "id": "cQNT91j7G3IT",
        "colab": {
          "base_uri": "https://localhost:8080/"
        },
        "outputId": "c27aa980-d421-44b0-f7bd-42c45fb95dd2"
      },
      "source": [
        "(x_train, y_train), (x_test, y_test) = tf.keras.datasets.mnist.load_data()\n",
        "x_train = x_train.astype('float32')\n",
        "x_test = x_test.astype('float32')\n",
        "\n",
        "gray_scale = 255\n",
        "x_train /= gray_scale\n",
        "x_test /= gray_scale"
      ],
      "execution_count": null,
      "outputs": [
        {
          "output_type": "stream",
          "text": [
            "Downloading data from https://storage.googleapis.com/tensorflow/tf-keras-datasets/mnist.npz\n",
            "11493376/11490434 [==============================] - 0s 0us/step\n"
          ],
          "name": "stdout"
        }
      ]
    },
    {
      "cell_type": "markdown",
      "metadata": {
        "id": "e8mRbu9VG3IU"
      },
      "source": [
        "# MLP Model for classifiation"
      ]
    },
    {
      "cell_type": "code",
      "metadata": {
        "id": "tVK7RqZ6G3IU"
      },
      "source": [
        "model = Sequential([\n",
        "    Flatten(input_shape=(28, 28)),   \n",
        "    Dense(256, activation='sigmoid'), # dense layer 1\n",
        "    Dropout(0.2), # 0.2는 노드중 20%는 제외함, Overfitting을 방지하기 위함\n",
        "    Dense(128, activation='sigmoid'), # dense layer 2\n",
        "    Dropout(0.1), # 노드중 10%는 제외함\n",
        "    Dense(10, activation='softmax'),  # dense layer 3\n",
        "])"
      ],
      "execution_count": null,
      "outputs": []
    },
    {
      "cell_type": "code",
      "metadata": {
        "id": "GB35KDGwG3IV"
      },
      "source": [
        "model.compile(optimizer='adam',\n",
        "              loss='sparse_categorical_crossentropy',\n",
        "              metrics=['accuracy'])"
      ],
      "execution_count": null,
      "outputs": []
    },
    {
      "cell_type": "markdown",
      "metadata": {
        "id": "Iwdr68G4G3IV"
      },
      "source": [
        "# Train"
      ]
    },
    {
      "cell_type": "code",
      "metadata": {
        "id": "7KoofvxVG3IV",
        "colab": {
          "base_uri": "https://localhost:8080/"
        },
        "outputId": "c1a620a9-7e5e-418c-9017-15e72c5553fa"
      },
      "source": [
        "callbacks = [EarlyStopping(monitor='val_accuracy', patience=3)] # Early Stopping , patience-validation accuracy가 3번이상 증강하지 않는경우 더이상 진행하지 말고 멈춰라\n",
        "model.fit(x_train, y_train, epochs=100, \n",
        "          batch_size=2000, validation_split = 0.2, callbacks=callbacks) # validation_split은 Train데이터중 설정한 %만큼 제외하여 Validate data로 사용"
      ],
      "execution_count": null,
      "outputs": [
        {
          "output_type": "stream",
          "text": [
            "Epoch 1/100\n",
            "24/24 [==============================] - 3s 78ms/step - loss: 2.2458 - accuracy: 0.2049 - val_loss: 1.6958 - val_accuracy: 0.6853\n",
            "Epoch 2/100\n",
            "24/24 [==============================] - 1s 60ms/step - loss: 1.5577 - accuracy: 0.6256 - val_loss: 1.0140 - val_accuracy: 0.7934\n",
            "Epoch 3/100\n",
            "24/24 [==============================] - 1s 60ms/step - loss: 0.9793 - accuracy: 0.7608 - val_loss: 0.6634 - val_accuracy: 0.8600\n",
            "Epoch 4/100\n",
            "24/24 [==============================] - 1s 60ms/step - loss: 0.6879 - accuracy: 0.8290 - val_loss: 0.4911 - val_accuracy: 0.8848\n",
            "Epoch 5/100\n",
            "24/24 [==============================] - 2s 81ms/step - loss: 0.5373 - accuracy: 0.8619 - val_loss: 0.4010 - val_accuracy: 0.9010\n",
            "Epoch 6/100\n",
            "24/24 [==============================] - 1s 60ms/step - loss: 0.4536 - accuracy: 0.8819 - val_loss: 0.3511 - val_accuracy: 0.9072\n",
            "Epoch 7/100\n",
            "24/24 [==============================] - 1s 60ms/step - loss: 0.3976 - accuracy: 0.8918 - val_loss: 0.3182 - val_accuracy: 0.9126\n",
            "Epoch 8/100\n",
            "24/24 [==============================] - 1s 61ms/step - loss: 0.3583 - accuracy: 0.8995 - val_loss: 0.2945 - val_accuracy: 0.9194\n",
            "Epoch 9/100\n",
            "24/24 [==============================] - 1s 61ms/step - loss: 0.3459 - accuracy: 0.9022 - val_loss: 0.2771 - val_accuracy: 0.9230\n",
            "Epoch 10/100\n",
            "24/24 [==============================] - 1s 62ms/step - loss: 0.3193 - accuracy: 0.9100 - val_loss: 0.2619 - val_accuracy: 0.9271\n",
            "Epoch 11/100\n",
            "24/24 [==============================] - 1s 61ms/step - loss: 0.3047 - accuracy: 0.9130 - val_loss: 0.2500 - val_accuracy: 0.9288\n",
            "Epoch 12/100\n",
            "24/24 [==============================] - 1s 60ms/step - loss: 0.2853 - accuracy: 0.9185 - val_loss: 0.2395 - val_accuracy: 0.9320\n",
            "Epoch 13/100\n",
            "24/24 [==============================] - 1s 60ms/step - loss: 0.2791 - accuracy: 0.9182 - val_loss: 0.2305 - val_accuracy: 0.9337\n",
            "Epoch 14/100\n",
            "24/24 [==============================] - 1s 60ms/step - loss: 0.2665 - accuracy: 0.9227 - val_loss: 0.2224 - val_accuracy: 0.9353\n",
            "Epoch 15/100\n",
            "24/24 [==============================] - 1s 61ms/step - loss: 0.2549 - accuracy: 0.9244 - val_loss: 0.2147 - val_accuracy: 0.9383\n",
            "Epoch 16/100\n",
            "24/24 [==============================] - 1s 60ms/step - loss: 0.2401 - accuracy: 0.9309 - val_loss: 0.2067 - val_accuracy: 0.9415\n",
            "Epoch 17/100\n",
            "24/24 [==============================] - 1s 60ms/step - loss: 0.2351 - accuracy: 0.9315 - val_loss: 0.2004 - val_accuracy: 0.9440\n",
            "Epoch 18/100\n",
            "24/24 [==============================] - 1s 60ms/step - loss: 0.2291 - accuracy: 0.9332 - val_loss: 0.1947 - val_accuracy: 0.9448\n",
            "Epoch 19/100\n",
            "24/24 [==============================] - 1s 61ms/step - loss: 0.2171 - accuracy: 0.9356 - val_loss: 0.1892 - val_accuracy: 0.9466\n",
            "Epoch 20/100\n",
            "24/24 [==============================] - 1s 59ms/step - loss: 0.2073 - accuracy: 0.9386 - val_loss: 0.1846 - val_accuracy: 0.9482\n",
            "Epoch 21/100\n",
            "24/24 [==============================] - 1s 60ms/step - loss: 0.2024 - accuracy: 0.9397 - val_loss: 0.1799 - val_accuracy: 0.9478\n",
            "Epoch 22/100\n",
            "24/24 [==============================] - 1s 60ms/step - loss: 0.1980 - accuracy: 0.9417 - val_loss: 0.1741 - val_accuracy: 0.9501\n",
            "Epoch 23/100\n",
            "24/24 [==============================] - 1s 60ms/step - loss: 0.1888 - accuracy: 0.9430 - val_loss: 0.1691 - val_accuracy: 0.9519\n",
            "Epoch 24/100\n",
            "24/24 [==============================] - 1s 61ms/step - loss: 0.1883 - accuracy: 0.9443 - val_loss: 0.1654 - val_accuracy: 0.9536\n",
            "Epoch 25/100\n",
            "24/24 [==============================] - 1s 60ms/step - loss: 0.1744 - accuracy: 0.9489 - val_loss: 0.1612 - val_accuracy: 0.9542\n",
            "Epoch 26/100\n",
            "24/24 [==============================] - 1s 61ms/step - loss: 0.1744 - accuracy: 0.9504 - val_loss: 0.1587 - val_accuracy: 0.9542\n",
            "Epoch 27/100\n",
            "24/24 [==============================] - 1s 61ms/step - loss: 0.1752 - accuracy: 0.9473 - val_loss: 0.1542 - val_accuracy: 0.9559\n",
            "Epoch 28/100\n",
            "24/24 [==============================] - 1s 60ms/step - loss: 0.1672 - accuracy: 0.9513 - val_loss: 0.1512 - val_accuracy: 0.9565\n",
            "Epoch 29/100\n",
            "24/24 [==============================] - 1s 60ms/step - loss: 0.1603 - accuracy: 0.9531 - val_loss: 0.1467 - val_accuracy: 0.9580\n",
            "Epoch 30/100\n",
            "24/24 [==============================] - 1s 60ms/step - loss: 0.1531 - accuracy: 0.9550 - val_loss: 0.1441 - val_accuracy: 0.9581\n",
            "Epoch 31/100\n",
            "24/24 [==============================] - 1s 60ms/step - loss: 0.1530 - accuracy: 0.9551 - val_loss: 0.1425 - val_accuracy: 0.9581\n",
            "Epoch 32/100\n",
            "24/24 [==============================] - 1s 60ms/step - loss: 0.1458 - accuracy: 0.9558 - val_loss: 0.1384 - val_accuracy: 0.9595\n",
            "Epoch 33/100\n",
            "24/24 [==============================] - 1s 62ms/step - loss: 0.1446 - accuracy: 0.9567 - val_loss: 0.1362 - val_accuracy: 0.9601\n",
            "Epoch 34/100\n",
            "24/24 [==============================] - 1s 60ms/step - loss: 0.1347 - accuracy: 0.9606 - val_loss: 0.1346 - val_accuracy: 0.9612\n",
            "Epoch 35/100\n",
            "24/24 [==============================] - 1s 60ms/step - loss: 0.1410 - accuracy: 0.9579 - val_loss: 0.1298 - val_accuracy: 0.9621\n",
            "Epoch 36/100\n",
            "24/24 [==============================] - 1s 62ms/step - loss: 0.1321 - accuracy: 0.9609 - val_loss: 0.1283 - val_accuracy: 0.9624\n",
            "Epoch 37/100\n",
            "24/24 [==============================] - 2s 67ms/step - loss: 0.1267 - accuracy: 0.9622 - val_loss: 0.1261 - val_accuracy: 0.9629\n",
            "Epoch 38/100\n",
            "24/24 [==============================] - 1s 62ms/step - loss: 0.1240 - accuracy: 0.9629 - val_loss: 0.1235 - val_accuracy: 0.9637\n",
            "Epoch 39/100\n",
            "24/24 [==============================] - 1s 62ms/step - loss: 0.1202 - accuracy: 0.9652 - val_loss: 0.1217 - val_accuracy: 0.9642\n",
            "Epoch 40/100\n",
            "24/24 [==============================] - 1s 62ms/step - loss: 0.1189 - accuracy: 0.9662 - val_loss: 0.1199 - val_accuracy: 0.9646\n",
            "Epoch 41/100\n",
            "24/24 [==============================] - 1s 61ms/step - loss: 0.1131 - accuracy: 0.9663 - val_loss: 0.1172 - val_accuracy: 0.9651\n",
            "Epoch 42/100\n",
            "24/24 [==============================] - 1s 60ms/step - loss: 0.1144 - accuracy: 0.9666 - val_loss: 0.1160 - val_accuracy: 0.9663\n",
            "Epoch 43/100\n",
            "24/24 [==============================] - 1s 61ms/step - loss: 0.1092 - accuracy: 0.9676 - val_loss: 0.1142 - val_accuracy: 0.9653\n",
            "Epoch 44/100\n",
            "24/24 [==============================] - 1s 61ms/step - loss: 0.1057 - accuracy: 0.9681 - val_loss: 0.1135 - val_accuracy: 0.9663\n",
            "Epoch 45/100\n",
            "24/24 [==============================] - 1s 61ms/step - loss: 0.1042 - accuracy: 0.9684 - val_loss: 0.1106 - val_accuracy: 0.9678\n",
            "Epoch 46/100\n",
            "24/24 [==============================] - 1s 61ms/step - loss: 0.0986 - accuracy: 0.9715 - val_loss: 0.1088 - val_accuracy: 0.9682\n",
            "Epoch 47/100\n",
            "24/24 [==============================] - 1s 62ms/step - loss: 0.1006 - accuracy: 0.9689 - val_loss: 0.1081 - val_accuracy: 0.9678\n",
            "Epoch 48/100\n",
            "24/24 [==============================] - 1s 60ms/step - loss: 0.0975 - accuracy: 0.9711 - val_loss: 0.1058 - val_accuracy: 0.9688\n",
            "Epoch 49/100\n",
            "24/24 [==============================] - 1s 60ms/step - loss: 0.0937 - accuracy: 0.9721 - val_loss: 0.1060 - val_accuracy: 0.9685\n",
            "Epoch 50/100\n",
            "24/24 [==============================] - 1s 60ms/step - loss: 0.0922 - accuracy: 0.9723 - val_loss: 0.1030 - val_accuracy: 0.9704\n",
            "Epoch 51/100\n",
            "24/24 [==============================] - 1s 61ms/step - loss: 0.0944 - accuracy: 0.9712 - val_loss: 0.1032 - val_accuracy: 0.9695\n",
            "Epoch 52/100\n",
            "24/24 [==============================] - 1s 61ms/step - loss: 0.0892 - accuracy: 0.9737 - val_loss: 0.1006 - val_accuracy: 0.9705\n",
            "Epoch 53/100\n",
            "24/24 [==============================] - 1s 60ms/step - loss: 0.0875 - accuracy: 0.9749 - val_loss: 0.1006 - val_accuracy: 0.9707\n",
            "Epoch 54/100\n",
            "24/24 [==============================] - 1s 62ms/step - loss: 0.0848 - accuracy: 0.9742 - val_loss: 0.0986 - val_accuracy: 0.9708\n",
            "Epoch 55/100\n",
            "24/24 [==============================] - 1s 60ms/step - loss: 0.0834 - accuracy: 0.9758 - val_loss: 0.0971 - val_accuracy: 0.9716\n",
            "Epoch 56/100\n",
            "24/24 [==============================] - 1s 61ms/step - loss: 0.0829 - accuracy: 0.9759 - val_loss: 0.0962 - val_accuracy: 0.9714\n",
            "Epoch 57/100\n",
            "24/24 [==============================] - 1s 61ms/step - loss: 0.0802 - accuracy: 0.9756 - val_loss: 0.0959 - val_accuracy: 0.9724\n",
            "Epoch 58/100\n",
            "24/24 [==============================] - 1s 61ms/step - loss: 0.0764 - accuracy: 0.9763 - val_loss: 0.0945 - val_accuracy: 0.9718\n",
            "Epoch 59/100\n",
            "24/24 [==============================] - 1s 61ms/step - loss: 0.0747 - accuracy: 0.9779 - val_loss: 0.0941 - val_accuracy: 0.9717\n",
            "Epoch 60/100\n",
            "24/24 [==============================] - 1s 60ms/step - loss: 0.0766 - accuracy: 0.9764 - val_loss: 0.0929 - val_accuracy: 0.9728\n",
            "Epoch 61/100\n",
            "24/24 [==============================] - 1s 62ms/step - loss: 0.0727 - accuracy: 0.9783 - val_loss: 0.0916 - val_accuracy: 0.9726\n",
            "Epoch 62/100\n",
            "24/24 [==============================] - 1s 61ms/step - loss: 0.0693 - accuracy: 0.9792 - val_loss: 0.0910 - val_accuracy: 0.9730\n",
            "Epoch 63/100\n",
            "24/24 [==============================] - 1s 60ms/step - loss: 0.0720 - accuracy: 0.9783 - val_loss: 0.0901 - val_accuracy: 0.9735\n",
            "Epoch 64/100\n",
            "24/24 [==============================] - 1s 60ms/step - loss: 0.0675 - accuracy: 0.9790 - val_loss: 0.0897 - val_accuracy: 0.9733\n",
            "Epoch 65/100\n",
            "24/24 [==============================] - 1s 60ms/step - loss: 0.0673 - accuracy: 0.9802 - val_loss: 0.0893 - val_accuracy: 0.9735\n",
            "Epoch 66/100\n",
            "24/24 [==============================] - 1s 61ms/step - loss: 0.0625 - accuracy: 0.9819 - val_loss: 0.0879 - val_accuracy: 0.9741\n",
            "Epoch 67/100\n",
            "24/24 [==============================] - 1s 60ms/step - loss: 0.0636 - accuracy: 0.9808 - val_loss: 0.0871 - val_accuracy: 0.9737\n",
            "Epoch 68/100\n",
            "24/24 [==============================] - 1s 62ms/step - loss: 0.0650 - accuracy: 0.9804 - val_loss: 0.0865 - val_accuracy: 0.9735\n",
            "Epoch 69/100\n",
            "24/24 [==============================] - 1s 60ms/step - loss: 0.0592 - accuracy: 0.9826 - val_loss: 0.0861 - val_accuracy: 0.9734\n"
          ],
          "name": "stdout"
        },
        {
          "output_type": "execute_result",
          "data": {
            "text/plain": [
              "<tensorflow.python.keras.callbacks.History at 0x7fa9127f0d30>"
            ]
          },
          "metadata": {
            "tags": []
          },
          "execution_count": 6
        }
      ]
    },
    {
      "cell_type": "markdown",
      "metadata": {
        "id": "VnddHYAyG3IW"
      },
      "source": [
        "# Test"
      ]
    },
    {
      "cell_type": "code",
      "metadata": {
        "id": "Q63Zwt8bG3IX"
      },
      "source": [
        "results = model.evaluate(x_test,  y_test, verbose = 0)"
      ],
      "execution_count": null,
      "outputs": []
    },
    {
      "cell_type": "code",
      "metadata": {
        "id": "sovd-oMuG3IX",
        "colab": {
          "base_uri": "https://localhost:8080/"
        },
        "outputId": "e21df01b-6bc4-439e-aa2a-e2a4bb3f2bb9"
      },
      "source": [
        "print('test loss, test acc:', results)"
      ],
      "execution_count": null,
      "outputs": [
        {
          "output_type": "stream",
          "text": [
            "test loss, test acc: [0.07951579988002777, 0.9750999808311462]\n"
          ],
          "name": "stdout"
        }
      ]
    },
    {
      "cell_type": "code",
      "metadata": {
        "id": "Z_mtL1B_G3IX"
      },
      "source": [
        ""
      ],
      "execution_count": null,
      "outputs": []
    }
  ]
}