{
  "nbformat": 4,
  "nbformat_minor": 0,
  "metadata": {
    "colab": {
      "name": "CNN.ipynb",
      "provenance": [],
      "collapsed_sections": [],
      "authorship_tag": "ABX9TyNsrWCE0nWYlCUSC8bjerSh",
      "include_colab_link": true
    },
    "kernelspec": {
      "name": "python3",
      "display_name": "Python 3"
    },
    "accelerator": "GPU"
  },
  "cells": [
    {
      "cell_type": "markdown",
      "metadata": {
        "id": "view-in-github",
        "colab_type": "text"
      },
      "source": [
        "<a href=\"https://colab.research.google.com/github/Jake0925/DeepLearning/blob/master/CNN.ipynb\" target=\"_parent\"><img src=\"https://colab.research.google.com/assets/colab-badge.svg\" alt=\"Open In Colab\"/></a>"
      ]
    },
    {
      "cell_type": "code",
      "metadata": {
        "id": "xO0JKAIO18XS"
      },
      "source": [
        "import tensorflow as tf\r\n",
        "from tensorflow.keras.datasets import mnist\r\n",
        "import numpy as np\r\n",
        "import matplotlib.pyplot as plt\r\n",
        "from tensorflow.keras import datasets, layers, models"
      ],
      "execution_count": 1,
      "outputs": []
    },
    {
      "cell_type": "code",
      "metadata": {
        "colab": {
          "base_uri": "https://localhost:8080/",
          "height": 208
        },
        "id": "kthEBhWU2nn9",
        "outputId": "80d14ef9-f678-4005-9910-96aea4a4d270"
      },
      "source": [
        "(x_train, t_train),(x_test, t_test) = mnist.load_data()\r\n",
        "x_train = x_train.reshape((60000, 28, 28, 1)) # 기존 28x28 2차원배열에서 [28,28,1] 3차원배열로 변환되면서 28열데이터가 1열데이터로 변경됨\r\n",
        "x_test = x_test.reshape((10000, 28, 28, 1))\r\n",
        "\r\n",
        "print('x_train shape: ', x_train.shape)\r\n",
        "print('x_test shape: ', x_test.shape)\r\n",
        "\r\n",
        "print('t_train: ', t_train)\r\n",
        "print('t_test: ', t_test)\r\n",
        "\r\n",
        "plt.figure(figsize=(5,5))\r\n",
        "for i in range(5):\r\n",
        "  plt.subplot(1,5,i+1)\r\n",
        "  plt.imshow(x_train[i].reshape(28,28), cmap='gray') # 위에서 reshape으로 인해 28x28x1로된 데이터를 28x28본래 크기 데이터로 원복\r\n",
        "\r\n",
        "plt.show()\r\n",
        "\r\n"
      ],
      "execution_count": 2,
      "outputs": [
        {
          "output_type": "stream",
          "text": [
            "Downloading data from https://storage.googleapis.com/tensorflow/tf-keras-datasets/mnist.npz\n",
            "11493376/11490434 [==============================] - 0s 0us/step\n",
            "x_train shape:  (60000, 28, 28, 1)\n",
            "x_test shape:  (10000, 28, 28, 1)\n",
            "t_train:  [5 0 4 ... 5 6 8]\n",
            "t_test:  [7 2 1 ... 4 5 6]\n"
          ],
          "name": "stdout"
        },
        {
          "output_type": "display_data",
          "data": {
            "image/png": "[encoded data removed]",
            "text/plain": [
              "<Figure size 360x360 with 5 Axes>"
            ]
          },
          "metadata": {
            "tags": [],
            "needs_background": "light"
          }
        }
      ]
    },
    {
      "cell_type": "markdown",
      "metadata": {
        "id": "mtbRLQz4JfVj"
      },
      "source": [
        "데이터 전처리"
      ]
    },
    {
      "cell_type": "code",
      "metadata": {
        "id": "8-d1SuNx3R9v"
      },
      "source": [
        "# 데이터 정규화\r\n",
        "x_train, x_test = (x_train - 0.0) / (255.0 - 0.0), (x_test - 0.0) / (255.0 - 0.0) "
      ],
      "execution_count": 3,
      "outputs": []
    },
    {
      "cell_type": "markdown",
      "metadata": {
        "id": "mh6Eq1ofKmkX"
      },
      "source": [
        "모델구축"
      ]
    },
    {
      "cell_type": "code",
      "metadata": {
        "colab": {
          "base_uri": "https://localhost:8080/"
        },
        "id": "jIcEGS-EKj6R",
        "outputId": "828187e0-680f-4d5e-86e3-21cd6cf5998d"
      },
      "source": [
        "# C: Convolution Layers\r\n",
        "model = models.Sequential()\r\n",
        "model.add(layers.Conv2D(32, (3,3), strides=(1,1), padding='same', activation='relu', input_shape=(28,28,1))) # 28x28크기의 이미지 100개씩\r\n",
        "model.add(layers.MaxPooling2D((2, 2)))\r\n",
        "model.add(layers.Conv2D(64, (3,3), strides=(1,1), padding='same', activation='relu'))\r\n",
        "model.add(layers.MaxPooling2D((2,2)))\r\n",
        "model.add(layers.Conv2D(64, (3,3), strides=(1,1), padding='same', activation='relu'))\r\n",
        "\r\n",
        "# NN: Neural Network Layers\r\n",
        "model.add(layers.Flatten())\r\n",
        "model.add(layers.Dense(64, activation='relu'))\r\n",
        "model.add(layers.Dense(10, activation='softmax'))\r\n",
        "model.summary()"
      ],
      "execution_count": 4,
      "outputs": [
        {
          "output_type": "stream",
          "text": [
            "Model: \"sequential\"\n",
            "_________________________________________________________________\n",
            "Layer (type)                 Output Shape              Param #   \n",
            "=================================================================\n",
            "conv2d (Conv2D)              (None, 28, 28, 32)        320       \n",
            "_________________________________________________________________\n",
            "max_pooling2d (MaxPooling2D) (None, 14, 14, 32)        0         \n",
            "_________________________________________________________________\n",
            "conv2d_1 (Conv2D)            (None, 14, 14, 64)        18496     \n",
            "_________________________________________________________________\n",
            "max_pooling2d_1 (MaxPooling2 (None, 7, 7, 64)          0         \n",
            "_________________________________________________________________\n",
            "conv2d_2 (Conv2D)            (None, 7, 7, 64)          36928     \n",
            "_________________________________________________________________\n",
            "flatten (Flatten)            (None, 3136)              0         \n",
            "_________________________________________________________________\n",
            "dense (Dense)                (None, 64)                200768    \n",
            "_________________________________________________________________\n",
            "dense_1 (Dense)              (None, 10)                650       \n",
            "=================================================================\n",
            "Total params: 257,162\n",
            "Trainable params: 257,162\n",
            "Non-trainable params: 0\n",
            "_________________________________________________________________\n"
          ],
          "name": "stdout"
        }
      ]
    },
    {
      "cell_type": "markdown",
      "metadata": {
        "id": "4w4eHA_HRrmF"
      },
      "source": [
        "모델 컴파일"
      ]
    },
    {
      "cell_type": "code",
      "metadata": {
        "id": "qQFJzxE2Rqqs"
      },
      "source": [
        "model.compile(optimizer='adam', loss='sparse_categorical_crossentropy', metrics=['accuracy'])"
      ],
      "execution_count": 5,
      "outputs": []
    },
    {
      "cell_type": "markdown",
      "metadata": {
        "id": "aKnozfteSRK0"
      },
      "source": [
        "모델학습"
      ]
    },
    {
      "cell_type": "code",
      "metadata": {
        "colab": {
          "base_uri": "https://localhost:8080/"
        },
        "id": "1F-ZkghMSJ3f",
        "outputId": "77b231e8-7d58-4391-c7ff-fdfe168a0080"
      },
      "source": [
        "model.fit(x_train, t_train, epochs=5)"
      ],
      "execution_count": 6,
      "outputs": [
        {
          "output_type": "stream",
          "text": [
            "Epoch 1/5\n",
            "1875/1875 [==============================] - 11s 2ms/step - loss: 0.3083 - accuracy: 0.9047\n",
            "Epoch 2/5\n",
            "1875/1875 [==============================] - 4s 2ms/step - loss: 0.0435 - accuracy: 0.9859\n",
            "Epoch 3/5\n",
            "1875/1875 [==============================] - 4s 2ms/step - loss: 0.0283 - accuracy: 0.9909\n",
            "Epoch 4/5\n",
            "1875/1875 [==============================] - 4s 2ms/step - loss: 0.0189 - accuracy: 0.9940\n",
            "Epoch 5/5\n",
            "1875/1875 [==============================] - 4s 2ms/step - loss: 0.0163 - accuracy: 0.9950\n"
          ],
          "name": "stdout"
        },
        {
          "output_type": "execute_result",
          "data": {
            "text/plain": [
              "<tensorflow.python.keras.callbacks.History at 0x7f5ab03627f0>"
            ]
          },
          "metadata": {
            "tags": []
          },
          "execution_count": 6
        }
      ]
    },
    {
      "cell_type": "markdown",
      "metadata": {
        "id": "kOj-ZFEbVThG"
      },
      "source": [
        "모델평가"
      ]
    },
    {
      "cell_type": "code",
      "metadata": {
        "colab": {
          "base_uri": "https://localhost:8080/"
        },
        "id": "VVLX5NR0Sp_l",
        "outputId": "913cf1bd-d4d4-4d33-81e6-e1a29aaf4169"
      },
      "source": [
        "test_loss, test_acc = model.evaluate(x_test, t_test, verbose=2)"
      ],
      "execution_count": 7,
      "outputs": [
        {
          "output_type": "stream",
          "text": [
            "313/313 - 1s - loss: 0.0267 - accuracy: 0.9909\n"
          ],
          "name": "stdout"
        }
      ]
    },
    {
      "cell_type": "markdown",
      "metadata": {
        "id": "DEHsJ8SdgRTw"
      },
      "source": [
        ""
      ]
    },
    {
      "cell_type": "code",
      "metadata": {
        "colab": {
          "base_uri": "https://localhost:8080/",
          "height": 901
        },
        "id": "8GQjNzpufBOG",
        "outputId": "8dd7ee0d-5e71-4223-f4ad-46ef1708972b"
      },
      "source": [
        "# 특정 layer에서 weights 추출\r\n",
        "# 구문: (특정 layer).get_weights()\r\n",
        "weight_1, bias_1 = model.layers[0].get_weights()\r\n",
        "weight_1n = (weight_1 - weight_1.min())/(weight_1.max()-weight_1.min()) # normalize\r\n",
        "n_filters = 32\r\n",
        "plt.figure()\r\n",
        "for i in range(n_filters):\r\n",
        "    ax = plt.subplot(8,4,i+1)\r\n",
        "    ax.set_xticks([])\r\n",
        "    ax.set_yticks([])\r\n",
        "    plt.imshow(weight_1n[:,:,0,i],cmap='gray')\r\n",
        "plt.show()\r\n",
        "\r\n",
        "# 특정 layer이후 특성맵 추출\r\n",
        "# 구문: keras.Model(input,(특정 layer).output)\r\n",
        "img_original = x_test[0:1][:]\r\n",
        "feature_extract = tf.keras.Model(inputs=model.inputs,outputs=model.layers[0].output)\r\n",
        "img_feature = feature_extract.predict(img_original)\r\n",
        "\r\n",
        "plt.figure()\r\n",
        "plt.imshow(img_original[0,:,:,0], cmap=plt.cm.binary)\r\n",
        "plt.title('Test Image :   '+str(t_test[0]))\r\n",
        "plt.xticks([])\r\n",
        "plt.yticks([])\r\n",
        "\r\n",
        "fig, axs = plt.subplots(8, 4,figsize=(7,7))\r\n",
        "n = 0\r\n",
        "for i in range(8):\r\n",
        "    for j in range(4):\r\n",
        "        axs[i,j].imshow(img_feature[0,:,:,n],cmap='gray')\r\n",
        "        axs[i,j].set_xticks([])\r\n",
        "        axs[i,j].set_yticks([])\r\n",
        "        n += 1\r\n",
        "plt.show()\r\n",
        "\r\n",
        "\r\n"
      ],
      "execution_count": 8,
      "outputs": [
        {
          "output_type": "display_data",
          "data": {
            "image/png": "[encoded data removed]",
            "text/plain": [
              "<Figure size 432x288 with 32 Axes>"
            ]
          },
          "metadata": {
            "tags": []
          }
        },
        {
          "output_type": "display_data",
          "data": {
            "image/png": "[encoded data removed]",
            "text/plain": [
              "<Figure size 432x288 with 1 Axes>"
            ]
          },
          "metadata": {
            "tags": []
          }
        },
        {
          "output_type": "display_data",
          "data": {
            "image/png": "[encoded data removed]",
            "text/plain": [
              "<Figure size 504x504 with 32 Axes>"
            ]
          },
          "metadata": {
            "tags": []
          }
        }
      ]
    }
  ]
}
