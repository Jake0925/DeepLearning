{
 "cells": [
  {
   "cell_type": "code",
   "execution_count": 2,
   "metadata": {},
   "outputs": [],
   "source": [
    "import numpy as np\n",
    "import numpy.linalg as lin\n",
    "import time \n",
    "import matplotlib.pyplot as plt"
   ]
  },
  {
   "cell_type": "markdown",
   "metadata": {},
   "source": [
    "# 배열 생성"
   ]
  },
  {
   "cell_type": "code",
   "execution_count": 8,
   "metadata": {
    "scrolled": false
   },
   "outputs": [
    {
     "name": "stdout",
     "output_type": "stream",
     "text": [
      "[[1, 2], [3, 4, 5]]\n",
      "[list([1, 2]) list([3, 4, 5])]\n"
     ]
    }
   ],
   "source": [
    "a = [[1, 2 ], [3,4,5]]\n",
    "print(a) # 일반적인 경우 배열로 생성될수 있다\n",
    "b = np.array([[1, 2 ], [3,4,5]])\n",
    "print(b) # numpy의 경우 격자 타입의 배열만 생성할수있다 이와같은 경우 각각의 list로 되버린다"
   ]
  },
  {
   "cell_type": "markdown",
   "metadata": {},
   "source": [
    "# 역행렬\n",
    "- 정방행렬에 대해서만 구할수 있다"
   ]
  },
  {
   "cell_type": "code",
   "execution_count": 106,
   "metadata": {},
   "outputs": [
    {
     "name": "stdout",
     "output_type": "stream",
     "text": [
      "float64\n",
      "[[ 0.08333333 -0.16666667  0.16666667]\n",
      " [ 0.41666667  0.16666667 -0.16666667]\n",
      " [-0.25        0.5         0.5       ]]\n"
     ]
    }
   ],
   "source": [
    "a = np.array([[2,2,0],[-2,1,1],[3,0,1]])\n",
    "inv = lin.inv(a)\n",
    "\n",
    "print(inv.dtype)\n",
    "print(inv)\n"
   ]
  },
  {
   "cell_type": "markdown",
   "metadata": {},
   "source": [
    "# 의사역행렬\n",
    "- 정방행렬이 아닌 행렬의 역행렬을 구하는 방법\n",
    "\n",
    "![의사역행렬](pinv.jpg)"
   ]
  },
  {
   "cell_type": "code",
   "execution_count": 119,
   "metadata": {},
   "outputs": [
    {
     "name": "stdout",
     "output_type": "stream",
     "text": [
      "[[1.  2. ]\n",
      " [2.  4. ]\n",
      " [3.  6.4]]\n",
      "[[ 3.2  6.4 -5. ]\n",
      " [-1.5 -3.   2.5]]\n"
     ]
    }
   ],
   "source": [
    "A = np.array([[1,2], [2,4], [3,6.4]]) \n",
    "pinv = np.matmul(np.linalg.inv(np.matmul(A.T, A)), A.T)  \n",
    "print(A)\n",
    "print(pinv)"
   ]
  },
  {
   "cell_type": "markdown",
   "metadata": {},
   "source": [
    "# 데이터 타입"
   ]
  },
  {
   "cell_type": "code",
   "execution_count": 7,
   "metadata": {},
   "outputs": [
    {
     "name": "stdout",
     "output_type": "stream",
     "text": [
      "<class 'int'>\n",
      "<class 'float'>\n",
      "<class 'numpy.float64'>\n",
      "<class 'numpy.float64'>\n"
     ]
    }
   ],
   "source": [
    "a = [1, 2.0]\n",
    "b = np.array([1, 2, 3.0] )\n",
    "\n",
    "print(type(a[0])) # 일반적인 배열을 사용하는 경우 각 원소마다 다른 데이터타입을 사용한다\n",
    "print(type(a[1]))\n",
    "print(type(b[0])) # numpy행렬의경우 일반적인 배열을 사용하는 경우와 다르게 계산을 효율적으로 하기위해서 \n",
    "print(type(b[2])) # 모든 원소의 데이터타입을 동일하게 맞춘다"
   ]
  },
  {
   "cell_type": "markdown",
   "metadata": {},
   "source": [
    "# shape, ndim, size, min, max, mean"
   ]
  },
  {
   "cell_type": "code",
   "execution_count": 19,
   "metadata": {},
   "outputs": [
    {
     "name": "stdout",
     "output_type": "stream",
     "text": [
      "[1 2 3]\n",
      "int32\n",
      "int32\n",
      "int64\n"
     ]
    },
    {
     "data": {
      "text/plain": [
       "array([1, 3, 4])"
      ]
     },
     "execution_count": 19,
     "metadata": {},
     "output_type": "execute_result"
    }
   ],
   "source": [
    "a = np.array([1,2,3]) # 정수는 8,16,32,64비트등  자료를 사용할수 있다\n",
    "b = np.array([1,2,3], dtype = 'int32') \n",
    "c = np.array([1,2,3], dtype = 'int64') \n",
    "print(a)\n",
    "\n",
    "a.shape # a객체의 형태 - 3개의 항목을 가진 1차원 배열\n",
    "\n",
    "a.ndim # a객체의 차원\n",
    "\n",
    "print(a.dtype) # a객체 내부 자료형\n",
    "print(b.dtype)\n",
    "print(c.dtype)\n",
    "\n",
    "a.itemsize # a객체내부 자료형이 차지하는 메모리 크기(byte)\n",
    "\n",
    "a.size # a객체읭 전체크기(항목수)\n",
    "\n",
    "a.max() # 최대값\n",
    "\n",
    "a.min() # 최소값\n",
    "\n",
    "a.mean() # 평균값\n",
    "\n",
    "b = np.array([[1,2], [3,4], [4,5]])\n",
    "b.min(axis = 0) # axis = 0는 열방향으로 최소값을 찾는다\n",
    "b.min(axis = 1) # axis = 1는 행방향으로 최소값을 찾는다\n"
   ]
  },
  {
   "cell_type": "markdown",
   "metadata": {},
   "source": [
    "# flatten(), append(), for문 배열연산"
   ]
  },
  {
   "cell_type": "code",
   "execution_count": 5,
   "metadata": {},
   "outputs": [
    {
     "data": {
      "text/plain": [
       "array([[1, 2, 3],\n",
       "       [4, 5, 6],\n",
       "       [7, 8, 9]])"
      ]
     },
     "execution_count": 5,
     "metadata": {},
     "output_type": "execute_result"
    }
   ],
   "source": [
    "import numpy as np\n",
    "\n",
    "a = np.array([[1,2], [3,4], [4,5]])\n",
    "\n",
    "a.flatten() # 다차원배열을 1차원배열로 변환\n",
    "\n",
    "\n",
    "\n",
    "\n",
    "\n",
    "b = np.array([[1,2,3], [4,5,6]])\n",
    "c = np.array([[11,12,13], [14,15,16]])\n",
    "\n",
    "np.append(b,c) # 1차원 배열형태로 뒤에 이어 붙인다\n",
    "\n",
    "\n",
    "\n",
    "\n",
    "\n",
    "d = np.array([1,2,3])\n",
    "e = np.array([[11,12,13], [14,15,16]])\n",
    "\n",
    "np.append([d],e, axis = 0) \n",
    "\n",
    "\n",
    "\n",
    "np.array([range(i, i+3) for i in[1,4,7]]) # for문의  i값 1,4,7이 range에 순서대로 들어가면서 range(1,4), range(4,7), rnage[7,10]의 값이 출력된다\n",
    "\n"
   ]
  },
  {
   "cell_type": "markdown",
   "metadata": {},
   "source": [
    "# random함수"
   ]
  },
  {
   "cell_type": "code",
   "execution_count": 1,
   "metadata": {},
   "outputs": [
    {
     "data": {
      "text/plain": [
       "array([7, 1, 2, 7, 1, 9, 7, 1, 7, 8])"
      ]
     },
     "execution_count": 1,
     "metadata": {},
     "output_type": "execute_result"
    }
   ],
   "source": [
    "import numpy as np\n",
    "\n",
    "np.random.rand(3,3)  # 0~1 사이의 난수생성\n",
    "\n",
    "np.random.randint(0, 10, size = 10)  # randint(최소값, 최대값, 배열사이즈) 최소값이상 최대값 미만의 값을 출력\n",
    "np.random.randint(10, size = 10)  # 위의 함수와 같은의미이다\n",
    "\n",
    "\n",
    "np.random.randint(0, 10, (3,3)) # 3 X 3 행렬의 0~10안의 랜덤값을 값는 배열 출력\n",
    "\n",
    "\n"
   ]
  },
  {
   "cell_type": "markdown",
   "metadata": {},
   "source": [
    "# 초기값을 가지는 행렬생성"
   ]
  },
  {
   "cell_type": "code",
   "execution_count": 5,
   "metadata": {},
   "outputs": [
    {
     "data": {
      "text/plain": [
       "array([[1., 0., 0.],\n",
       "       [0., 1., 0.],\n",
       "       [0., 0., 1.]])"
      ]
     },
     "execution_count": 5,
     "metadata": {},
     "output_type": "execute_result"
    }
   ],
   "source": [
    "import numpy as np\n",
    "\n",
    "np.zeros((2,3))   # 2 X 3 의 0 의값을 갖는 행렬생성\n",
    "\n",
    "np.ones((2,3))    # 2 X 3 의 1 의값을 갖는 행렬생성\n",
    "\n",
    "np.full((2,3), 10)  # 2 X 3 의 10의 값을 갖는 행렬생성\n",
    "\n",
    "np.eye(3)  #  3 X 3 의 대각선 방향으로 1의값을 갖는 행렬생성\n",
    "\n",
    "np.random.random((2,3)) # 2 X 3 의 0~1내의 랜덤값을 갖는 행렬생성\n"
   ]
  },
  {
   "cell_type": "markdown",
   "metadata": {},
   "source": [
    "# arange() 함수"
   ]
  },
  {
   "cell_type": "code",
   "execution_count": 67,
   "metadata": {},
   "outputs": [
    {
     "data": {
      "text/plain": [
       "array([0. , 0.2, 0.4, 0.6, 0.8])"
      ]
     },
     "execution_count": 67,
     "metadata": {},
     "output_type": "execute_result"
    }
   ],
   "source": [
    "np.arange(0,10) # 0~10내의 값을 갖는 배열생성\n",
    "\n",
    "np.arange(0,10, 2) # 0~10내에서 2개씩 값을 건너띈 값을 갖는 배열생성\n",
    "\n",
    "np.arange(0,1, 0.2) # 0~1내에서 0.2개씩 값을 건너띈 값을 갖는 배열생성 cf) range는 step를 정수만 사용할수있다"
   ]
  },
  {
   "cell_type": "markdown",
   "metadata": {},
   "source": [
    "# linspace() 함수"
   ]
  },
  {
   "cell_type": "code",
   "execution_count": 12,
   "metadata": {},
   "outputs": [
    {
     "data": {
      "text/plain": [
       "array([ 0. ,  2.5,  5. ,  7.5, 10. ])"
      ]
     },
     "execution_count": 12,
     "metadata": {},
     "output_type": "execute_result"
    }
   ],
   "source": [
    "import numpy as np\n",
    "\n",
    "np.linspace(0,10, 5)  # 0~10내의 값을 5개의 간격으로 나눈 배열생성 따라사 2.5간격으로 값을 건너띈 배열이 생성됨"
   ]
  },
  {
   "cell_type": "markdown",
   "metadata": {},
   "source": [
    "# reshape()\n",
    "- 원소의 갯수와 shpape행렬의 갯수는 일치해야한다"
   ]
  },
  {
   "cell_type": "code",
   "execution_count": 56,
   "metadata": {},
   "outputs": [
    {
     "name": "stdout",
     "output_type": "stream",
     "text": [
      "결과a: (6, 2)\n",
      "[[ 1  2]\n",
      " [ 3  4]\n",
      " [ 5  6]\n",
      " [ 7  8]\n",
      " [ 9 10]\n",
      " [11 12]]\n",
      "결과b: (3, 4)\n",
      "[[ 1  2  3  4]\n",
      " [ 5  6  7  8]\n",
      " [ 9 10 11 12]]\n",
      "결과d:  (2, 3)\n",
      "[[1 2 3]\n",
      " [4 5 6]]\n"
     ]
    }
   ],
   "source": [
    "a = np.array([[1,2], [3,4], [5,6], [7,8], [9,10], [11,12]])\n",
    "b = a.reshape(3,4) \n",
    "print(\"결과a:\", a.shape)\n",
    "print(a)\n",
    "print(\"결과b:\", b.shape)\n",
    "print(b)\n",
    "\n",
    "c = np.array([1,2,3,4,5,6])\n",
    "d = c.reshape(2,3) \n",
    "print('결과d:', d.shape)\n",
    "print(d)\n"
   ]
  },
  {
   "cell_type": "markdown",
   "metadata": {},
   "source": [
    "# transpose()함수\n",
    "\n",
    "- 1차원 벡터에서는 사용할수없다. 사용하더라도 변환이 일어나지 않는다"
   ]
  },
  {
   "cell_type": "code",
   "execution_count": 19,
   "metadata": {
    "scrolled": true
   },
   "outputs": [
    {
     "name": "stdout",
     "output_type": "stream",
     "text": [
      "결과1:\n",
      "[[0 1]\n",
      " [2 3]\n",
      " [4 5]]\n",
      "결과2: (2, 3)\n",
      "결과3: (2, 3)\n",
      "d의 shape: (4, 2, 3)\n",
      "e의 shape: (3, 4, 2)\n"
     ]
    }
   ],
   "source": [
    "a = np.arange(0,6).reshape(3,2) # 0~5을 3 X 2 배열로 정렬\n",
    "print('결과1:')\n",
    "print(a)\n",
    "\n",
    "b = np.transpose(a) # 3 X 2 배열인 a의 행과열을 뒤바꿔 2 X 3의 배열로 변환한다\n",
    "print('결과2:', b.shape)\n",
    "\n",
    "\n",
    "c = np.array([[1,2],[3,4],[5,6]]).T # 3 X 2 배열인 a의 행과열을 뒤바꿔 2 X 3의 배열로 변환한다 transpose()의 축약형\n",
    "print('결과3:', c.shape)    \n",
    "\n",
    "d = np.array([[[1,2,3], [4,5,6]],  \n",
    "              [[11,12,13],[14,15,16]],   \n",
    "              [[21,22,23],[24,25,26]],\n",
    "              [[31,32,33],[34,35,36]]])\n",
    "e = d.transpose(2,0,1) # 배열 shape을 설정하여 변경\n",
    "print('d의 shape:', d.shape)\n",
    "print('e의 shape:', e.shape)"
   ]
  },
  {
   "cell_type": "markdown",
   "metadata": {},
   "source": [
    "# Swapaxes()함수\n",
    "- 배열의 두개 축을 설정한대로 변경해준다\n",
    "- np.swapaxes(변경할배열입력, 변경할축, 변경할축)\n",
    "- 변경축: 0 - 가장높은축, 1 - 그다음높은축, 2 ....\n",
    "\n",
    "* 출처: https://supermemi.tistory.com/15 [SuperMemi's Study]"
   ]
  },
  {
   "cell_type": "code",
   "execution_count": 7,
   "metadata": {},
   "outputs": [
    {
     "name": "stdout",
     "output_type": "stream",
     "text": [
      "원본배열:  [[0 1 2]]\n",
      "변환shape:  (3, 1)\n",
      "변환배열: \n",
      "[[0]\n",
      " [1]\n",
      " [2]]\n",
      "원본배열2: \n",
      "[[0 1 2]\n",
      " [3 4 5]]\n",
      "변환shape2:  (3, 2)\n",
      "변환배열2: \n",
      "[[0 3]\n",
      " [1 4]\n",
      " [2 5]]\n"
     ]
    }
   ],
   "source": [
    "a = np.arange(3).reshape(1,3) # (1 X 3) 2D array \n",
    "print('원본배열: ', a)\n",
    "\n",
    "y = np.swapaxes(a, 0, 1) # 0은 가장 높은 차수의 축, 2차원 \n",
    "print('변환shape: ', y.shape) # (3 X 1) 2D array \n",
    "print('변환배열: ')  # 1은 그다음 높은 차수의 축, 1차원 \n",
    "print(y)             # 즉, 원소의 행과 열을 바꾸어라는것.\n",
    "                     # (1,3) -> (3,1) 로 바뀌었다.\n",
    "\n",
    "\n",
    "\n",
    "\n",
    "\n",
    "a = np.arange(6).reshape(2,3) # (2 X 3) 2D array \n",
    "print('원본배열2: ')\n",
    "print(a)\n",
    "\n",
    "y = np.swapaxes(a, 0, 1) # 행과 열을 바꾸면. \n",
    "print('변환shape2: ', y.shape) # (3 X 2 ) 2D array. \n",
    "print('변환배열2: ')    # 원소의 위치이동에 집중해서 보자.[1, 4]\n",
    "print(y)                # 1은 (1,2)의 위치에 있었지만, 축을 바꾼 후 (2,1)의 위치에 있다.\n",
    "                        # 5는 (2,3)의 위치에 있었지만, 축을 바꾼 후 (3,2)에 위치한 것을 알 수있다. \n",
    "\n"
   ]
  },
  {
   "cell_type": "code",
   "execution_count": 8,
   "metadata": {},
   "outputs": [
    {
     "name": "stdout",
     "output_type": "stream",
     "text": [
      "원본배열: \n",
      "[[[0 1 2]\n",
      "  [3 4 5]]]\n",
      "변환배열: \n",
      "[[[0 3]\n",
      "  [1 4]\n",
      "  [2 5]]]\n",
      "변환배열2:\n",
      "[[[0 1 2]]\n",
      "\n",
      " [[3 4 5]]]\n",
      "변환배열3: \n",
      "[[[0]\n",
      "  [3]]\n",
      "\n",
      " [[1]\n",
      "  [4]]\n",
      "\n",
      " [[2]\n",
      "  [5]]]\n"
     ]
    }
   ],
   "source": [
    "a = np.arange(6).reshape(1,2,3) # (1 x 2 x 3) 3D array이다\n",
    "print('원본배열: ')\n",
    "print(a)\n",
    "\n",
    "y = np.swapaxes(a, 1, 2) # 2차원 축과, 1차원 축을 바꿔라.  \n",
    "print('변환배열: ')     # (1 x 2 x 3) -> (1 x 3 x 2) 3D array. \n",
    "print(y)                # 1은 원래 (1,1,2)의 자리에서 (1,2,1)의 자리로 이동했다.\n",
    "                        # 2는 원래 (1,1,3)의 자리에서 (1,3,1)의 자리로 이동했다\n",
    "                        #... 나머지 원소들도 위와 같은 규칙으로 전부 바뀌었다. \n",
    "\n",
    "\n",
    "y = np.swapaxes(a, 0, 1) # 3차원 축과, 2차원 축을 바꿔라. \n",
    "print('변환배열2:')      # (1 x 2 x 3) -> (2 x 1 x 3) 3D array. \n",
    "print(y)                 # 3은 원래 (1,2,1)의 자리에서 (2,1,1)의 자리로 이동했다. \n",
    "                         # 5은 원래 (1,2,3)의 자리에서 (2,1,3)의 자리로 이동했다. \n",
    "\n",
    "y = np.swapaxes(a, 0, 2) # 3차원 축과, 1차원 축을 바꿔라. \n",
    "print('변환배열3: ')     # (1 x 2 x 3) -> (3 x 2 x 1) 3D array. \n",
    "print(y)                 # 2은 원래 (1,1,3)의 자리에서 (3,1,1)의 자리로 이동했다. \n",
    "                         # 5은 원래 (1,2,3)의 자리에서 (3,2,1)의 자리로 이동했다. "
   ]
  },
  {
   "cell_type": "markdown",
   "metadata": {},
   "source": [
    "# insert()함수"
   ]
  },
  {
   "cell_type": "code",
   "execution_count": 62,
   "metadata": {},
   "outputs": [
    {
     "data": {
      "text/plain": [
       "array([[ 1, 20,  1],\n",
       "       [ 2, 20,  2],\n",
       "       [ 3, 20,  3]])"
      ]
     },
     "execution_count": 62,
     "metadata": {},
     "output_type": "execute_result"
    }
   ],
   "source": [
    "import numpy as np\n",
    "\n",
    "a = np.array([1,3,4,5])\n",
    "np.insert(a, 1, 2) # a배열의 인덱스1에 값 2를 삽입한다\n",
    "\n",
    "\n",
    "a = np.array([[1,1], [2,2], [3,3]])\n",
    "np.insert(a, 1, 10, axis = 0) # a배열의 열방향으로 인덱스1에 값 10를 삽입한다\n",
    "np.insert(a, 1, 20, axis = 1) # a배열의 행방향으로 인덱스1에 값 10를 삽입한다"
   ]
  },
  {
   "cell_type": "markdown",
   "metadata": {},
   "source": [
    "# 인덱싱\n",
    "-배열의 원소에 접근하는 방법"
   ]
  },
  {
   "cell_type": "code",
   "execution_count": 23,
   "metadata": {},
   "outputs": [
    {
     "name": "stdout",
     "output_type": "stream",
     "text": [
      "결과1:  [1 2 3 4 5]\n",
      "결과2:  1 12 23\n",
      "결과3:  5 4 3\n",
      "결과4:  [[ 1  2  3  4  5]\n",
      " [21 22 23 24 25]]\n",
      "결과5:  3\n",
      "결과6:  [2 3]\n"
     ]
    }
   ],
   "source": [
    "a = np.array([[1,2,3,4,5], [11,12,13,14,15], [21,22,23,24,25]])\n",
    "\n",
    "print(\"결과1: \", a[0])\n",
    "print(\"결과2: \", a[0,0], a[1,1], a[2,2])\n",
    "print(\"결과3: \", a[0,-1], a[0,-2], a[0,-3])\n",
    "\n",
    "i = [0, 2]\n",
    "b = a[i, :] # 0과 2 행의 모든 데이터\n",
    "print(\"결과4: \", b)\n",
    "\n",
    "# 3차원 배열\n",
    "a = np.arange(0,24).reshape(4,3,2)\n",
    "print(\"결과5: \",a[0,1,1]) #(깊이, 행, 열)\n",
    "print(\"결과6: \",a[0,1]) #(깊이, 행) 열값이 없으므로 해당 행에 대한 값을 모두 출력한다"
   ]
  },
  {
   "cell_type": "markdown",
   "metadata": {},
   "source": [
    "# 리스트와 슬라이싱\n",
    "슬라이싱 -부분집합을 꺼내는 방법\n",
    "-[Start : End : Step]\n",
    "         -Start를 생략하면 0이고 Step을 생략하면 1이 되지만 End를 생략하면 맨뒤값이 된다"
   ]
  },
  {
   "cell_type": "code",
   "execution_count": 35,
   "metadata": {},
   "outputs": [
    {
     "name": "stdout",
     "output_type": "stream",
     "text": [
      "결과1:  [[0 1 2]\n",
      " [3 4 5]\n",
      " [6 7 8]]\n",
      "결과2:  [0 1 2]\n",
      "결과3:  [[0 1]\n",
      " [3 4]\n",
      " [6 7]]\n",
      "결과4:  [0 1 2]\n",
      "결과5:  [0 3 6]\n",
      "결과6:  [0 1]\n",
      "결과7:  [0 1]\n",
      "결과8:  [[0 1]\n",
      " [3 4]]\n",
      "결과9:  [[4 5]\n",
      " [7 8]]\n",
      "결과10:  [4 5]\n",
      "결과11:  [[100   1   2]\n",
      " [200   4   5]\n",
      " [300   7   8]]\n",
      "결과12:\n",
      "[[ 1  2  3  4]\n",
      " [ 5  6  7  8]\n",
      " [ 9 10 11 12]\n",
      " [13 14 15 16]]\n",
      "결과13:\n",
      "[[ 1  2  3  4]\n",
      " [ 5  0  0  8]\n",
      " [ 9  0  0 12]\n",
      " [13 14 15 16]]\n"
     ]
    }
   ],
   "source": [
    "import numpy as np\n",
    "\n",
    "aList = [1,2,3,4,5,6,7,8,9,10]\n",
    "aList[2:5] #인덱스 2~5의 값을 가져온다\n",
    "aList[:5] #인덱스 0~5의 값을 가져온다\n",
    "aList[:] #인덱스 모든값을 가져온다\n",
    "aList[::2] #인덱스 2Step한 값을 가져온다\n",
    "aList[::-1] #인덱스 역순값을 가져온다\n",
    "\n",
    "\n",
    "a = np.arange(0,9).reshape(3,3)\n",
    "print(\"결과1: \", a)\n",
    "print(\"결과2: \", a[0])\n",
    "print(\"결과3: \", a[0:3, 0:2]) # 행은 0~2 열은 0~1 까지의 값을 출력\n",
    "print(\"결과4: \", a[0,:]) # 0번 행에대한 모든값 출력\n",
    "print(\"결과5: \", a[:,0]) # 모든행애서 0번열인 값 모두 출력\n",
    "print(\"결과6: \", a[0, 0:2])\n",
    "print(\"결과7: \", a[0, :2])\n",
    "print(\"결과8: \", a[:2, :2])\n",
    "print(\"결과9: \", a[1:, 1:])\n",
    "print(\"결과10: \", a[1, 1:])\n",
    "\n",
    "a[:, 0] = [100, 200, 300] # 모든행 1열 데이터를 입력값으로 변경\n",
    "print(\"결과11: \", a)\n",
    "\n",
    "b = np.array([[1,2,3,4], [5,6,7,8], [9,10,11,12,], [13,14,15,16]] )\n",
    "print(\"결과12:\")\n",
    "print(b)\n",
    "\n",
    "b[1:-1,1:-1] = 0 # 1~(3 - 1)행과 1~(3 -1)열의 데이터를 모두 0으로 변경\n",
    "print(\"결과13:\")\n",
    "print(b)\n"
   ]
  },
  {
   "cell_type": "markdown",
   "metadata": {},
   "source": [
    "# 배열 연산\n",
    "- 데이터타입이 서로 다른 벡터인경우 큰쪽의 데이터타입에 맞춰 결과가 생성된다\n",
    "- 두배열간 원소 갯수가 다른경우 연산할수 없다"
   ]
  },
  {
   "cell_type": "code",
   "execution_count": 15,
   "metadata": {},
   "outputs": [
    {
     "name": "stdout",
     "output_type": "stream",
     "text": [
      "결과1: [[2 4]\n",
      " [6 8]]\n",
      "결과2: [[0 0]\n",
      " [0 0]]\n",
      "결과3: [[ 1  4]\n",
      " [ 9 16]]\n",
      "결과4: [[1. 1.]\n",
      " [1. 1.]]\n",
      "결과5: 10\n",
      "결과6: [4 6]\n",
      "결과7: [3 7]\n",
      "결과8: [[ 9 12 15]\n",
      " [19 26 33]\n",
      " [29 40 51]]\n",
      "결과8: [[ 9 12 15]\n",
      " [19 26 33]\n",
      " [29 40 51]]\n",
      "결과9: [[ 9 12 15]\n",
      " [19 26 33]\n",
      " [29 40 51]]\n",
      "결과10: [[2 3]\n",
      " [4 5]]\n",
      "결과11: [[100 200]\n",
      " [300 400]]\n",
      "결과12: [[ 1  4]\n",
      " [ 9 16]]\n",
      "결과13: 55\n"
     ]
    }
   ],
   "source": [
    "import numpy as np\n",
    "\n",
    "a = np.array([[1,2], [3,4]])\n",
    "b = np.array([[1,2], [3,4]])\n",
    "\n",
    "# 원소간의 연산\n",
    "print('결과1:', a + b)\n",
    "print('결과2:', a - b)\n",
    "print('결과3:', a * b)\n",
    "print('결과4:', a / b)\n",
    "\n",
    "# 모든원소의 연산\n",
    "print('결과5:', a.sum()) # axis를 지정해주지 않으면 값을 모두 합한다\n",
    "print('결과6:',a.sum(axis = 0)) # axis = 0는 열방향으로 연산\n",
    "print('결과7:',a.sum(axis = 1)) # axis = 0는 행방향으로 연산\n",
    "\n",
    "\n",
    "# 행렬곱 - 첫번째배열의 열과 두번째배열의 행의 갯수가 동일하면 행렬곱을 연산할수 있다\n",
    "# [a, b]      [1, 2]     두배열의 곱은  [(a*1 + b*3),  (a*2 + b*4)]\n",
    "# [c, d]      [3, 4]                    [(c*1 + d*3),  (c*2 + d*4)] \n",
    "\n",
    "c = np.array([[1,2], [3,4], [5,6]])\n",
    "d = np.array([[1,2,3], [4,5,6]])\n",
    "\n",
    "print('결과8:',np.matmul(c, d)) \n",
    "print('결과8:',np.dot(c, d)) \n",
    "print('결과9:',c @ d) # np.matmul(c, d) 와 동일한 결과가 출력된다\n",
    "\n",
    "\n",
    "\n",
    "\n",
    "e = np.array([[1,2], [3,4]])\n",
    "\n",
    "print('결과10:',e + 1)\n",
    "print('결과11:',e * 100)\n",
    "print('결과12:',e ** 2)# 제곱승이 된다\n",
    "\n",
    "\n",
    "a = np.array([1, 2, 3, 4, 5])\n",
    "b = np.array([1, 2, 3, 4, 5])\n",
    "print('결과13:', np.sum(a*b))\n"
   ]
  },
  {
   "cell_type": "markdown",
   "metadata": {},
   "source": [
    "![벡터거리](distance.jpg)"
   ]
  },
  {
   "cell_type": "code",
   "execution_count": null,
   "metadata": {},
   "outputs": [],
   "source": [
    "p = np.array([2, 2])\n",
    "q = np.array([3, 7])\n",
    "(np.sum(  (p-q) ** 2) ) ** (0.5)"
   ]
  },
  {
   "cell_type": "markdown",
   "metadata": {},
   "source": [
    "### 행열곱 연산시간 비교"
   ]
  },
  {
   "cell_type": "code",
   "execution_count": 104,
   "metadata": {},
   "outputs": [
    {
     "name": "stdout",
     "output_type": "stream",
     "text": [
      "numpy연산시간:  0.0017812252044677734\n",
      "[[-0.03293866  0.07234983  0.02878353  0.11289538  0.00319228]\n",
      " [ 0.09608236 -0.00231667 -0.18878777 -0.25033997 -0.10978657]\n",
      " [ 0.07947689 -0.12854569 -0.10046373  0.02032905  0.00690528]\n",
      " [-0.27183699 -0.0692416  -0.04992924 -0.18016077  0.17972405]\n",
      " [-0.13575772 -0.00167727  0.08236657  0.04761077  0.09268548]]\n",
      "일반연산시간:  0.0006251335144042969\n"
     ]
    }
   ],
   "source": [
    "# Numpy 연산 시간\n",
    "a = np.random.normal(0, 0.1, [200,200]) # 200 * 200 행렬 생성\n",
    "b = np.random.normal(0, 0.1, [200,200])\n",
    "\n",
    "start_time = time.time() \n",
    "c = np.matmul(a, b)\n",
    "print('numpy연산시간: ', time.time() - start_time)\n",
    "\n",
    "# 일반 연산시간\n",
    "def matmul_py(A, B):\n",
    "    m = len(A)\n",
    "    n = len(A[0])\n",
    "    p = len(B[0])\n",
    "    C = [[0]*p for i in range(m)]      \n",
    "\n",
    "    \n",
    "    for i in range(0,m):\n",
    "        for j in range(0,p):\n",
    "            for k in range(0,n):\n",
    "                C[i][j] += A[i][k]*B[k][j] \n",
    "    return C\n",
    "\n",
    "\n",
    "A = a.tolist()\n",
    "B = b.tolist()\n",
    "start_time = time.time() \n",
    "matmul_py(A,B)\n",
    "print('일반연산시간: ', time.time() - start_time)\n"
   ]
  },
  {
   "cell_type": "markdown",
   "metadata": {},
   "source": [
    "# 연립방정식 linalg.solve()\n",
    "\n",
    "ex)    \n",
    "2x + 3y = 1  \n",
    "x -2y = 4"
   ]
  },
  {
   "cell_type": "code",
   "execution_count": 72,
   "metadata": {},
   "outputs": [
    {
     "name": "stdout",
     "output_type": "stream",
     "text": [
      "[ 2. -1.]\n"
     ]
    }
   ],
   "source": [
    "import numpy as np\n",
    "#numpy_linear_ex.py\n",
    "\n",
    "a = np.array([[2,3], [1,-2]])\n",
    "b = np.array([1,4])\n",
    "x = np.linalg.solve(a,b)\n",
    "print(x)\n",
    "\n"
   ]
  },
  {
   "cell_type": "markdown",
   "metadata": {},
   "source": [
    "# concatenate()\n",
    "-배열객체를 연결한다"
   ]
  },
  {
   "cell_type": "code",
   "execution_count": 8,
   "metadata": {},
   "outputs": [
    {
     "data": {
      "text/plain": [
       "array([[1, 2, 3, 1, 2, 3],\n",
       "       [4, 5, 6, 4, 5, 6]])"
      ]
     },
     "execution_count": 8,
     "metadata": {},
     "output_type": "execute_result"
    }
   ],
   "source": [
    "import numpy as np\n",
    "\n",
    "list1 = [1,2,3]\n",
    "list2 = [4,5,6]\n",
    "\n",
    "np.concatenate([list1,list2]) # 두개의 배열이 합쳐짐\n",
    "\n",
    "arr1 = np.concatenate([list1,list2], axis = 0) # axis = 0 은 열방향을 의미\n",
    "arr1\n",
    "\n",
    "arr2 = arr1.reshape(-1, 3) # arr1배열을 2행 3열로 변환\n",
    "arr2\n",
    "\n",
    "np.concatenate([arr2, arr2], axis = 0) # 열방향으로 배열이 연결됨\n",
    "\n",
    "np.concatenate([arr2, arr2], axis = 1) # 행방향으로 배열이 연결됨\n"
   ]
  },
  {
   "cell_type": "markdown",
   "metadata": {},
   "source": [
    "# vstack()\n"
   ]
  },
  {
   "cell_type": "code",
   "execution_count": 12,
   "metadata": {},
   "outputs": [
    {
     "data": {
      "text/plain": [
       "array([[1, 2, 3, 1, 2, 3],\n",
       "       [4, 5, 6, 4, 5, 6]])"
      ]
     },
     "execution_count": 12,
     "metadata": {},
     "output_type": "execute_result"
    }
   ],
   "source": [
    "import numpy as np\n",
    "\n",
    "arr1 = [1,2,3],[4,5,6]\n",
    "\n",
    "np.vstack([arr1, arr1]) # 열방향으로 배열이 연결됨\n",
    "\n",
    "np.hstack([arr1, arr1]) # 행방향으로 배열이 연결됨"
   ]
  },
  {
   "cell_type": "markdown",
   "metadata": {},
   "source": [
    "# 브로드캐스팅\n",
    "- 배열간 연산을 위해선 행열Shape가 일치해야하는데 동일하지 않은경우 동일하게 맞춰주는 기능\n",
    "- 벡터와 실수에 대한 사칙연산"
   ]
  },
  {
   "cell_type": "code",
   "execution_count": 120,
   "metadata": {},
   "outputs": [
    {
     "name": "stdout",
     "output_type": "stream",
     "text": [
      "결과1:  [ 5  6  7  8  9 10]\n",
      "결과2:  [ 2  4  6  8 10 12]\n",
      "결과3:  [ 5  7  9 11 13 15]\n"
     ]
    }
   ],
   "source": [
    "a = np.array([1, 2, 3, 4, 5, 6])\n",
    "print('결과1: ', a + 4)\n",
    "print('결과2: ', a * 2)\n",
    "print('결과3: ', a * 2 + 3)"
   ]
  },
  {
   "cell_type": "code",
   "execution_count": 121,
   "metadata": {},
   "outputs": [
    {
     "name": "stdout",
     "output_type": "stream",
     "text": [
      "[120 460]\n"
     ]
    }
   ],
   "source": [
    "#정수반올림\n",
    "a = np.array([121.5732, 458.4221])\n",
    "b =  ((a +5)/ 10).astype(int) * 10 # (a +5)/ 10)연산후 int형으로 변환뒤 10을 곱함\n",
    "print(b)"
   ]
  },
  {
   "cell_type": "code",
   "execution_count": 122,
   "metadata": {},
   "outputs": [
    {
     "name": "stdout",
     "output_type": "stream",
     "text": [
      "[31.6  8.4]\n"
     ]
    }
   ],
   "source": [
    "#실수반올림\n",
    "a = np.array([31.5732, 8.4221])\n",
    "b =  ((a +0.05)* 10).astype(int) / 10 #소수점 둘째자리에서 반올림 \n",
    "print(b)"
   ]
  },
  {
   "cell_type": "code",
   "execution_count": 124,
   "metadata": {},
   "outputs": [
    {
     "name": "stdout",
     "output_type": "stream",
     "text": [
      "[4 4 4 4 4 4]\n",
      "[ 5  6  7  8  9 10]\n"
     ]
    }
   ],
   "source": [
    "a = np.array([1, 2, 3, 4, 5, 6])\n",
    "a2 = np.array([4 for i in range(6)])\n",
    "print(a2)\n",
    "print(a + a2)"
   ]
  },
  {
   "cell_type": "code",
   "execution_count": 125,
   "metadata": {},
   "outputs": [
    {
     "name": "stdout",
     "output_type": "stream",
     "text": [
      "[[1 2 3]\n",
      " [1 2 3]\n",
      " [1 2 3]]\n"
     ]
    }
   ],
   "source": [
    "a = np.array([ [1,1,1], [1,1,1], [1,1,1] ])         \n",
    "b = np.array([0,1,2])  \n",
    "print( a + b) "
   ]
  },
  {
   "cell_type": "code",
   "execution_count": 126,
   "metadata": {
    "scrolled": true
   },
   "outputs": [
    {
     "name": "stdout",
     "output_type": "stream",
     "text": [
      "[[ 1.5  2.8  5.3]\n",
      " [ 2.1  3.8  7.9]\n",
      " [ 2.7  4.8 10.5]\n",
      " [ 3.3  5.8 13.1]]\n"
     ]
    }
   ],
   "source": [
    "x = np.array([ [1,2], [3 ,4], [5,6], [7,8] ]) \n",
    "w = np.array([ [0.1,0.2, 0.3], [0.2,0.3, 1]])\n",
    "b = np.array([1,2,3])\n",
    "print(np.matmul(x, w) + b)"
   ]
  },
  {
   "cell_type": "code",
   "execution_count": 127,
   "metadata": {},
   "outputs": [
    {
     "name": "stdout",
     "output_type": "stream",
     "text": [
      "[[ 0.1  2.  34. ]\n",
      " [ 0.9  7.  12. ]\n",
      " [ 0.2  1.   6. ]\n",
      " [ 0.5  1.5 27. ]]\n",
      "[[0.11111111 0.28571429 1.        ]\n",
      " [1.         1.         0.35294118]\n",
      " [0.22222222 0.14285714 0.17647059]\n",
      " [0.55555556 0.21428571 0.79411765]]\n"
     ]
    }
   ],
   "source": [
    "a = np.array([ [0.1, 2, 34], [0.9, 7, 12], [0.2, 1, 6], [0.5, 1.5, 27] ])\n",
    "n = a / np.max(a, axis=0) # 각 열에서의 최대값으로 나눈다 [0.9],[7],[34]\n",
    "print(a)\n",
    "print(n)"
   ]
  },
  {
   "cell_type": "code",
   "execution_count": 22,
   "metadata": {},
   "outputs": [
    {
     "data": {
      "text/plain": [
       "array([[ 0.02779771,  0.08904756,  0.00655999],\n",
       "       [ 0.02386739, -0.20248701,  0.04969073],\n",
       "       [-0.08342858,  0.26563119,  0.36745938],\n",
       "       [-0.13757427,  0.16558323, -0.06730846],\n",
       "       [ 0.04702877,  0.29945483, -0.52516732],\n",
       "       [-0.43388649, -0.60592341,  0.23641646],\n",
       "       [ 0.25714096,  0.24387034,  0.38241496],\n",
       "       [ 0.27814277, -0.16466245,  0.18432579],\n",
       "       [-0.40274137,  0.01377921, -0.45285009],\n",
       "       [ 0.42365312, -0.10429349, -0.18154144]])"
      ]
     },
     "execution_count": 22,
     "metadata": {},
     "output_type": "execute_result"
    }
   ],
   "source": [
    "np.random.seed(0)\n",
    "\n",
    "X = np.random.random((10, 3))\n",
    "Xmean = X.mean(axis = 0) # 열방향으로 각열의 평균값을 구하므로 1행 3열의 결과가 나온다\n",
    "XResult = X - Xmean # 두 배열간 행렬은 다르지만 Xmean을 10행 3열구조로 브로드캐스팅에 의해 변경하여 연산이 된다\n",
    "XResult # 평균으로부터 편차값이 연산됨"
   ]
  },
  {
   "cell_type": "markdown",
   "metadata": {},
   "source": [
    "# 부울배열과 마스킹연산\n",
    "-조건식에 충족하는 결과(true)에 대해서만 연산을 진행하여 결과값을 추출"
   ]
  },
  {
   "cell_type": "code",
   "execution_count": 39,
   "metadata": {},
   "outputs": [
    {
     "name": "stdout",
     "output_type": "stream",
     "text": [
      "[[6 1 4 4]\n",
      " [8 4 6 3]\n",
      " [5 8 7 9]]\n"
     ]
    },
    {
     "data": {
      "text/plain": [
       "array([6, 1, 4, 4, 8, 4, 6, 3, 5, 8, 7, 9])"
      ]
     },
     "execution_count": 39,
     "metadata": {},
     "output_type": "execute_result"
    }
   ],
   "source": [
    "import numpy as np\n",
    "np.random.seed(0)\n",
    "\n",
    "X = np.random.randint(1,10, size=(3,4))\n",
    "print(X)\n",
    "\n",
    "# and조건에 만족한 결과 배열에 대해서만 연산\n",
    "(X>5)&(X<8)\n",
    "np.sum((X>5)&(X<8)) # 결과가 true인 총갯수\n",
    "np.sum((X>5)&(X<8), axis = 0) # 각 열방향으로 true인 갯수\n",
    "np.sum((X>5)&(X<8), axis = 1) # 각 행방향으로 true인 갯수\n",
    "X[(X>5)&(X<8)] # True결과인 원소값\n",
    "\n",
    "\n",
    "#  or조건에 만족한 결과 배열에 대해서만 연산\n",
    "(X>5)|(X<8)\n",
    "np.sum((X>5)|(X<8)) # 결과가 true인 총갯수\n",
    "np.sum((X>5)|(X<8), axis = 0) # 각 열방향으로 true인 갯수\n",
    "np.sum((X>5)|(X<8), axis = 1) # 각 행방향으로 true인 갯수\n",
    "X[(X>5)|(X<8)] # True결과인 원소값"
   ]
  },
  {
   "cell_type": "markdown",
   "metadata": {},
   "source": [
    "# 팬시인덱싱\n",
    "-행렬 범위를 설정하여 배열의 일부분의 데이터만 추출하는 방법"
   ]
  },
  {
   "cell_type": "code",
   "execution_count": 59,
   "metadata": {},
   "outputs": [
    {
     "name": "stdout",
     "output_type": "stream",
     "text": [
      "[[ 0  1  2  3]\n",
      " [ 4  5  6  7]\n",
      " [ 8  9 10 11]]\n",
      "[[0 1 2 3]\n",
      " [4 5 6 7]]\n",
      "[[0 1]\n",
      " [4 5]\n",
      " [8 9]]\n",
      "[0 5]\n"
     ]
    }
   ],
   "source": [
    "X = np.arange(12).reshape((3,4))\n",
    "print(X)\n",
    "\n",
    "test1 = np.array([0,1])\n",
    "\n",
    "print(X[test1])\n",
    "print(X[:,test1])\n",
    "print(X[test1,test1])"
   ]
  },
  {
   "cell_type": "code",
   "execution_count": 93,
   "metadata": {},
   "outputs": [
    {
     "name": "stdout",
     "output_type": "stream",
     "text": [
      "[[0 1 2]\n",
      " [3 4 5]\n",
      " [6 7 8]]\n",
      "[[  0   1   2]\n",
      " [100   4   5]\n",
      " [  6   7   8]]\n",
      "[[  0   1   2]\n",
      " [100   4   5]\n",
      " [200   7 200]]\n",
      "[[300   1   2]\n",
      " [100   4   5]\n",
      " [200 300 200]]\n",
      "[[500 500   2]\n",
      " [500 500   5]\n",
      " [200 300 200]]\n"
     ]
    }
   ],
   "source": [
    "X = np.arange(9).reshape((3,3))\n",
    "print(X)\n",
    "\n",
    "X[1, 0] = 100 # 1행 0열의 100삽입\n",
    "print(X)\n",
    "\n",
    "X[2, [0,2]] = 200 # 2행의 0과2열에 200삽입\n",
    "print(X)\n",
    "\n",
    "X[[0,2], [0,1]] = 300 # 0행0열과 2행1열에 300삽입\n",
    "print(X)\n",
    "\n",
    "X[0:2, [0,1]] = 500 # 0:2은 0부터 1행까지 따라서 [0,0], [1,0], [0,1], [1,1]의 원소값을 500으로 변경\n",
    "print(X)"
   ]
  },
  {
   "cell_type": "markdown",
   "metadata": {},
   "source": [
    "# Sort(), Argsort()\n",
    "- Argsort 는 정렬된 원소의 인덱스값을 리턴한다"
   ]
  },
  {
   "cell_type": "code",
   "execution_count": 103,
   "metadata": {},
   "outputs": [
    {
     "name": "stdout",
     "output_type": "stream",
     "text": [
      "[5 0 3 3 7]\n",
      "[1 2 3 0 4]\n",
      "[0 3 3 5 7]\n"
     ]
    }
   ],
   "source": [
    "np.random.seed(0)\n",
    "\n",
    "X = np.random.randint(10, size=5)\n",
    "print(X)\n",
    "\n",
    "np.sort(X)\n",
    "# X.sort()\n",
    "# print(X)\n",
    "\n",
    "index = np.argsort(X)\n",
    "print(index)\n",
    "print(X[index])"
   ]
  },
  {
   "cell_type": "markdown",
   "metadata": {},
   "source": [
    "# 저장과 로딩"
   ]
  },
  {
   "cell_type": "code",
   "execution_count": 66,
   "metadata": {},
   "outputs": [
    {
     "name": "stdout",
     "output_type": "stream",
     "text": [
      "결과b:\n",
      "[[1 2 3]\n",
      " [4 5 6]\n",
      " [7 8 9]]\n",
      "결과 csv:\n",
      "[[3.2 0.2]\n",
      " [3.1 0.2]\n",
      " [3.6 0.2]]\n"
     ]
    }
   ],
   "source": [
    "a = np.array([[1, 2, 3], [4, 5, 6], [7, 8, 9]] )\n",
    "np.save(\"Test.npy\", a) # 현재폴더에 저장된다\n",
    "b = np.load(\"Test.npy\")   \n",
    "print('결과b:')\n",
    "print(b)\n",
    "\n",
    "\n",
    "data = np.loadtxt(\"iris.csv\", delimiter=\",\", dtype=np.float32) # loadtxt - CSV파일 로딩함수\n",
    "print('결과 csv:')                                             # (파일이름, 구분자, 데이터타입)\n",
    "print(data[2:5, [1,3] ]) # 행:2~4,  열:1과 3열"
   ]
  },
  {
   "cell_type": "markdown",
   "metadata": {},
   "source": [
    "# Maximum\n",
    "- ReLU 함수 표현"
   ]
  },
  {
   "cell_type": "code",
   "execution_count": 14,
   "metadata": {},
   "outputs": [
    {
     "data": {
      "text/plain": [
       "[<matplotlib.lines.Line2D at 0x1f8799d7490>]"
      ]
     },
     "execution_count": 14,
     "metadata": {},
     "output_type": "execute_result"
    },
    {
     "data": {
      "image/png": "[encoded data removed]",
      "text/plain": [
       "<Figure size 432x288 with 1 Axes>"
      ]
     },
     "metadata": {
      "needs_background": "light"
     },
     "output_type": "display_data"
    }
   ],
   "source": [
    "def ReLU(x):\n",
    "    return np.maximum(0 , x)\n",
    "\n",
    "def LeakReLU(x):\n",
    "    a = 0.1\n",
    "    return np.maximum(a*x , x)\n",
    "\n",
    "\n",
    "x=np.arange(-5,5,0.5)\n",
    "y1 = ReLU(x)\n",
    "y2 = LeakReLU(x)\n",
    "\n",
    "plt.plot(x,y1, 'ro', x, y2,'bo')\n"
   ]
  }
 ],
 "metadata": {
  "kernelspec": {
   "display_name": "Python 3",
   "language": "python",
   "name": "python3"
  },
  "language_info": {
   "codemirror_mode": {
    "name": "ipython",
    "version": 3
   },
   "file_extension": ".py",
   "mimetype": "text/x-python",
   "name": "python",
   "nbconvert_exporter": "python",
   "pygments_lexer": "ipython3",
   "version": "3.8.3"
  }
 },
 "nbformat": 4,
 "nbformat_minor": 4
}
