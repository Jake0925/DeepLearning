{
  "nbformat": 4,
  "nbformat_minor": 0,
  "metadata": {
    "colab": {
      "name": "Numpy2.ipynb",
      "provenance": [],
      "collapsed_sections": [],
      "authorship_tag": "ABX9TyPQewxCzh5owO41mENhBDfh",
      "include_colab_link": true
    },
    "kernelspec": {
      "name": "python3",
      "display_name": "Python 3"
    }
  },
  "cells": [
    {
      "cell_type": "markdown",
      "metadata": {
        "id": "view-in-github",
        "colab_type": "text"
      },
      "source": [
        "<a href=\"https://colab.research.google.com/github/Jake0925/DeepLearning/blob/master/Numpy2.ipynb\" target=\"_parent\"><img src=\"https://colab.research.google.com/assets/colab-badge.svg\" alt=\"Open In Colab\"/></a>"
      ]
    },
    {
      "cell_type": "markdown",
      "metadata": {
        "id": "1reF2DxPngmm"
      },
      "source": [
        "Random"
      ]
    },
    {
      "cell_type": "code",
      "metadata": {
        "id": "ol3xpfQznmLv"
      },
      "source": [
        "import numpy as np"
      ],
      "execution_count": 1,
      "outputs": []
    },
    {
      "cell_type": "code",
      "metadata": {
        "colab": {
          "base_uri": "https://localhost:8080/"
        },
        "id": "ZFfjx5Eqnc2K",
        "outputId": "2d168ca9-aaf6-4863-96af-6f631a2e1ed9"
      },
      "source": [
        "np.random.rand(3,3)  # 0~1 사이의 난수생성\r\n",
        "\r\n",
        "np.random.randint(0, 10, size = 10)  # randint(최소값, 최대값, 배열사이즈) 최소값이상 최대값 미만의 값을 출력\r\n",
        "np.random.randint(10, size = 10)  # 위의 함수와 같은의미이다\r\n",
        "\r\n",
        "\r\n",
        "np.random.randint(0, 10, (3,3)) # 3 X 3 행렬의 0~10안의 랜덤값을 값는 배열 출력"
      ],
      "execution_count": 2,
      "outputs": [
        {
          "output_type": "execute_result",
          "data": {
            "text/plain": [
              "array([[1, 9, 6],\n",
              "       [4, 7, 6],\n",
              "       [4, 3, 9]])"
            ]
          },
          "metadata": {
            "tags": []
          },
          "execution_count": 2
        }
      ]
    },
    {
      "cell_type": "markdown",
      "metadata": {
        "id": "6l7B0_GRodXK"
      },
      "source": [
        "cumsum\r\n",
        "- 각 원소들의 누적 합을 표시"
      ]
    },
    {
      "cell_type": "code",
      "metadata": {
        "colab": {
          "base_uri": "https://localhost:8080/"
        },
        "id": "9Rhv-jwFnoBK",
        "outputId": "7feba95a-c9cb-4ac1-b14c-656f29ef0566"
      },
      "source": [
        "a =  np.arange(0,8).reshape(2,4)\r\n",
        "\r\n",
        "b = np.cumsum(a)\r\n",
        "c = np.cumsum(a, dtype = float) # 값의 변수 type을 설정하면서 누적\r\n",
        "d = np.cumsum(a, axis = 0)      # axis = 0은 같은 column 끼리의 누적 합을 함\r\n",
        "e = np.cumsum(a, axis = 1)      # 같은 row끼리의 누적 합을 함\r\n",
        "\r\n",
        "print('a: \\n', a)\r\n",
        "print('b: ', b)\r\n",
        "print('c: ', c) \r\n",
        "print('d: \\n', d) \r\n",
        "print('e: \\n', e) "
      ],
      "execution_count": 13,
      "outputs": [
        {
          "output_type": "stream",
          "text": [
            "a: \n",
            " [[0 1 2 3]\n",
            " [4 5 6 7]]\n",
            "b:  [ 0  1  3  6 10 15 21 28]\n",
            "c:  [ 0.  1.  3.  6. 10. 15. 21. 28.]\n",
            "d: \n",
            " [[ 0  1  2  3]\n",
            " [ 4  6  8 10]]\n",
            "e: \n",
            " [[ 0  1  3  6]\n",
            " [ 4  9 15 22]]\n"
          ],
          "name": "stdout"
        }
      ]
    },
    {
      "cell_type": "code",
      "metadata": {
        "id": "Yzi5Ugren3_C"
      },
      "source": [
        ""
      ],
      "execution_count": null,
      "outputs": []
    }
  ]
}
