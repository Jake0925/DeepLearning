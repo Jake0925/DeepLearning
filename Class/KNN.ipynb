{
  "nbformat": 4,
  "nbformat_minor": 0,
  "metadata": {
    "colab": {
      "name": "KNN ",
      "provenance": [],
      "collapsed_sections": [],
      "include_colab_link": true
    },
    "kernelspec": {
      "name": "python3",
      "display_name": "Python 3"
    }
  },
  "cells": [
    {
      "cell_type": "markdown",
      "metadata": {
        "id": "view-in-github",
        "colab_type": "text"
      },
      "source": [
        "<a href=\"https://colab.research.google.com/github/Jake0925/DeepLearning/blob/master/KNN.ipynb\" target=\"_parent\"><img src=\"https://colab.research.google.com/assets/colab-badge.svg\" alt=\"Open In Colab\"/></a>"
      ]
    },
    {
      "cell_type": "markdown",
      "metadata": {
        "id": "zd6X4p1HtmJo"
      },
      "source": [
        "# KNN Algorithm\n",
        "[강의 노트](https://github.com/ndb796/Python-Data-Analysis-and-Image-Processing-Tutorial/blob/master/16.%20KNN%20Algorithm/Python%20%EB%8D%B0%EC%9D%B4%ED%84%B0%20%EB%B6%84%EC%84%9D%EA%B3%BC%20%EC%9D%B4%EB%AF%B8%EC%A7%80%20%EC%B2%98%EB%A6%AC%20-%20KNN%20Algorithm.pdf)"
      ]
    },
    {
      "cell_type": "markdown",
      "metadata": {
        "id": "lNDNFWfBYeud"
      },
      "source": [
        "# 예제 1\r\n",
        "- opencv"
      ]
    },
    {
      "cell_type": "code",
      "metadata": {
        "id": "CnkiaPOMUFIG"
      },
      "source": [
        "import cv2\r\n",
        "import numpy as np\r\n",
        "from matplotlib import pyplot as plt"
      ],
      "execution_count": 1,
      "outputs": []
    },
    {
      "cell_type": "code",
      "metadata": {
        "id": "V6cipVlJUH9l"
      },
      "source": [
        "# 각 데이터의 위치: 25 X 2 크기에 각각 0 ~ 100\r\n",
        "trainData = np.random.randint(0, 100, (25, 2)).astype(np.float32)\r\n",
        "\r\n",
        "# 각 데이터는 0 or 1\r\n",
        "response = np.random.randint(0, 2, (25, 1)).astype(np.float32)"
      ],
      "execution_count": 2,
      "outputs": []
    },
    {
      "cell_type": "code",
      "metadata": {
        "id": "WVvV3P8iUXmg",
        "colab": {
          "base_uri": "https://localhost:8080/",
          "height": 284
        },
        "outputId": "60c59563-a0e4-4338-ecbe-63ae56b25045"
      },
      "source": [
        "# 값이 0인 데이터를 각각 (x, y) 위치에 빨간색으로 칠합니다.\r\n",
        "red = trainData[response.ravel() == 0] # response의값이 0인 인덱스를 trainData에 대입\r\n",
        "plt.scatter(red[:, 0], red[:, 1], 80, 'r', '^')\r\n",
        "\r\n",
        "# 값이 1인 데이터를 각각 (x, y) 위치에 파란색으로 칠합니다.\r\n",
        "blue = trainData[response.ravel() == 1]\r\n",
        "plt.scatter(blue[:, 0], blue[:, 1], 80, 'b', 's')\r\n",
        "\r\n",
        "# (0 ~ 100, 0 ~ 100) 위치의 데이터를 하나 생성해 칠합니다.\r\n",
        "newcomer = np.random.randint(0, 100, (1, 2)).astype(np.float32)\r\n",
        "plt.scatter(newcomer[:, 0], newcomer[:, 1], 80, 'g', 'o')"
      ],
      "execution_count": 22,
      "outputs": [
        {
          "output_type": "execute_result",
          "data": {
            "text/plain": [
              "<matplotlib.collections.PathCollection at 0x7f81ad479160>"
            ]
          },
          "metadata": {
            "tags": []
          },
          "execution_count": 22
        },
        {
          "output_type": "display_data",
          "data": {
            "image/png": "[encoded data removed]",
            "text/plain": [
              "<Figure size 432x288 with 1 Axes>"
            ]
          },
          "metadata": {
            "tags": [],
            "needs_background": "light"
          }
        }
      ]
    },
    {
      "cell_type": "code",
      "metadata": {
        "id": "YWIUKT9VWOsj"
      },
      "source": [
        "knn = cv2.ml.KNearest_create()\r\n",
        "knn.train(trainData, cv2.ml.ROW_SAMPLE, response)\r\n",
        "ret, results, neighbours, dist = knn.findNearest(newcomer, 3) # 녹색원으로부터 일정범위안에  가장가까운 3개의 데이터를 확인"
      ],
      "execution_count": 4,
      "outputs": []
    },
    {
      "cell_type": "code",
      "metadata": {
        "id": "Kce7P2rKtmxe",
        "colab": {
          "base_uri": "https://localhost:8080/"
        },
        "outputId": "25e2a611-bde6-4bce-b7df-10c9c19624fc"
      },
      "source": [
        "# 가까운 3개를 찾고, 거리를 고려하여 자신을 정합니다.\n",
        "print(\"result : \", results) # 녹색원이 0 또는 1에 해당하는지 결과\n",
        "print(\"neighbours :\", neighbours) # 녹색원 주변 가까운 3개의 데이터\n",
        "print(\"distance: \", dist) # 녹색원으로부터 3개 데이터의 각 거리값\n",
        "\n",
        "plt.show()"
      ],
      "execution_count": 5,
      "outputs": [
        {
          "output_type": "stream",
          "text": [
            "result :  [[1.]]\n",
            "neighbours : [[0. 1. 1.]]\n",
            "distance:  [[ 89. 157. 185.]]\n"
          ],
          "name": "stdout"
        }
      ]
    },
    {
      "cell_type": "markdown",
      "metadata": {
        "id": "Fv3MspT7YkrM"
      },
      "source": [
        "# 예제2\r\n",
        "- sklearn\r\n",
        "- 참고: https://blog.naver.com/baek2sm/221763552440\r\n",
        "        https://www.youtube.com/watch?v=nKh3s19Yxwc&list=PLwvr-xPygMX9TaQFW3C1UGEuD0zJF7pCk&index=67"
      ]
    },
    {
      "cell_type": "code",
      "metadata": {
        "id": "q_47oLwrWWMf",
        "colab": {
          "base_uri": "https://localhost:8080/",
          "height": 296
        },
        "outputId": "3c2f8dec-c4cb-4835-da46-50527465c512"
      },
      "source": [
        "from sklearn.datasets import load_iris \r\n",
        "from sklearn.neighbors import KNeighborsClassifier \r\n",
        "from sklearn.model_selection import train_test_split # traindata와 testdata분리를 위함\r\n",
        "from sklearn.preprocessing import StandardScaler \r\n",
        "from sklearn.model_selection import GridSearchCV \r\n",
        "import seaborn as sns\r\n",
        "import pandas as pd\r\n",
        " \r\n",
        "# 분류용 샘플 데이터 불러오기 \r\n",
        "iris = load_iris() \r\n",
        "X, y, labels = iris.data, iris.target, iris.target_names \r\n",
        "df = pd.DataFrame(iris.data)\r\n",
        "df.describe()"
      ],
      "execution_count": 6,
      "outputs": [
        {
          "output_type": "execute_result",
          "data": {
            "text/html": [
              "<div>\n",
              "<style scoped>\n",
              "    .dataframe tbody tr th:only-of-type {\n",
              "        vertical-align: middle;\n",
              "    }\n",
              "\n",
              "    .dataframe tbody tr th {\n",
              "        vertical-align: top;\n",
              "    }\n",
              "\n",
              "    .dataframe thead th {\n",
              "        text-align: right;\n",
              "    }\n",
              "</style>\n",
              "<table border=\"1\" class=\"dataframe\">\n",
              "  <thead>\n",
              "    <tr style=\"text-align: right;\">\n",
              "      <th></th>\n",
              "      <th>0</th>\n",
              "      <th>1</th>\n",
              "      <th>2</th>\n",
              "      <th>3</th>\n",
              "    </tr>\n",
              "  </thead>\n",
              "  <tbody>\n",
              "    <tr>\n",
              "      <th>count</th>\n",
              "      <td>150.000000</td>\n",
              "      <td>150.000000</td>\n",
              "      <td>150.000000</td>\n",
              "      <td>150.000000</td>\n",
              "    </tr>\n",
              "    <tr>\n",
              "      <th>mean</th>\n",
              "      <td>5.843333</td>\n",
              "      <td>3.057333</td>\n",
              "      <td>3.758000</td>\n",
              "      <td>1.199333</td>\n",
              "    </tr>\n",
              "    <tr>\n",
              "      <th>std</th>\n",
              "      <td>0.828066</td>\n",
              "      <td>0.435866</td>\n",
              "      <td>1.765298</td>\n",
              "      <td>0.762238</td>\n",
              "    </tr>\n",
              "    <tr>\n",
              "      <th>min</th>\n",
              "      <td>4.300000</td>\n",
              "      <td>2.000000</td>\n",
              "      <td>1.000000</td>\n",
              "      <td>0.100000</td>\n",
              "    </tr>\n",
              "    <tr>\n",
              "      <th>25%</th>\n",
              "      <td>5.100000</td>\n",
              "      <td>2.800000</td>\n",
              "      <td>1.600000</td>\n",
              "      <td>0.300000</td>\n",
              "    </tr>\n",
              "    <tr>\n",
              "      <th>50%</th>\n",
              "      <td>5.800000</td>\n",
              "      <td>3.000000</td>\n",
              "      <td>4.350000</td>\n",
              "      <td>1.300000</td>\n",
              "    </tr>\n",
              "    <tr>\n",
              "      <th>75%</th>\n",
              "      <td>6.400000</td>\n",
              "      <td>3.300000</td>\n",
              "      <td>5.100000</td>\n",
              "      <td>1.800000</td>\n",
              "    </tr>\n",
              "    <tr>\n",
              "      <th>max</th>\n",
              "      <td>7.900000</td>\n",
              "      <td>4.400000</td>\n",
              "      <td>6.900000</td>\n",
              "      <td>2.500000</td>\n",
              "    </tr>\n",
              "  </tbody>\n",
              "</table>\n",
              "</div>"
            ],
            "text/plain": [
              "                0           1           2           3\n",
              "count  150.000000  150.000000  150.000000  150.000000\n",
              "mean     5.843333    3.057333    3.758000    1.199333\n",
              "std      0.828066    0.435866    1.765298    0.762238\n",
              "min      4.300000    2.000000    1.000000    0.100000\n",
              "25%      5.100000    2.800000    1.600000    0.300000\n",
              "50%      5.800000    3.000000    4.350000    1.300000\n",
              "75%      6.400000    3.300000    5.100000    1.800000\n",
              "max      7.900000    4.400000    6.900000    2.500000"
            ]
          },
          "metadata": {
            "tags": []
          },
          "execution_count": 6
        }
      ]
    },
    {
      "cell_type": "markdown",
      "metadata": {
        "id": "QhbrYbZq0tOI"
      },
      "source": [
        "# 데이터 전처리\r\n",
        "정규화\r\n",
        "- fit_transform\r\n",
        "      fit()한 다음에 transform() 하는 것입니다\r\n",
        "      fit()이란 평균 𝜇과  표준편차 𝜎를 계산하는 작업\r\n",
        "      transform이란 정규화 즉, 통계에서 정규분포를 만들게 하기 위해서 \" (x - 평균) / 표준편차 \" 연산을 한다\r\n",
        "\r\n",
        "train_test_split\r\n",
        "\r\n",
        "- test_size: 테스트 셋 구성의 비율을 나타냅니다. train_size의 옵션과 반대 관계에 있는 옵션 값이며, 주로 test_size를 지정해 줍니다. 0.2는 전체 데이터 셋의 20%를 test (validation) 셋으로 지정하겠다는 의미입니다.\r\n",
        "- shuffle: default=True 입니다. split을 해주기 이전에 섞을건지 여부입니다.\r\n",
        "- stratify: default=None 입니다. classification을 다룰 때 매우 중요한 옵션값입니다. stratify 값을 target으로 지정해주면 각각의 class 비율(ratio)을 train / validation에 유지해 줍니다. (한 쪽에 쏠려서 분배되는 것을 방지합니다) 만약 이 옵션을 지정해 주지 않고 classification 문제를 다룬다면, 성능의 차이가 많이 날 수 있습니다.\r\n",
        "- 참고: https://teddylee777.github.io/scikit-learn/train-test-split"
      ]
    },
    {
      "cell_type": "markdown",
      "metadata": {
        "id": "L8niENRW1igj"
      },
      "source": [
        "스케일링의 종류\r\n",
        "\r\n",
        "- StandardScaler\r\n",
        "      기본 스케일. 평균과 표준편차 사용\r\n",
        "      평균을 제거하고 데이터를 단위 분산으로 조정한다. \r\n",
        "      그러나 이상치가 있다면 평균과 표준편차에 영향을 미쳐 변환된 데이터의 확산은 매우 달라지게 된다.\r\n",
        "      따라서 이상치가 있는 경우 균형 잡힌 척도를 보장할 수 없다\r\n",
        "\r\n",
        "- MinMaxScaler\r\n",
        "      최대/최소값이 각각 1, 0이 되도록 스케일링\r\n",
        "      모든 feature 값이 0~1사이에 있도록 데이터를 재조정한다. \r\n",
        "      다만 이상치가 있는 경우 변환된 값이 매우 좁은 범위로 압축될 수 있다.\r\n",
        "      즉, MinMaxScaler 역시 아웃라이어의 존재에 매우 민감하다.\r\n",
        "\r\n",
        "- MaxAbsScaler\r\n",
        "      최대절대값과 0이 각각 1, 0이 되도록 스케일링\r\n",
        "      절대값이 0~1사이에 매핑되도록 한다. \r\n",
        "      즉 -1~1 사이로 재조정한다. \r\n",
        "      양수 데이터로만 구성된 특징 데이터셋에서는 MinMaxScaler와 유사하게 동작하며, 큰 이상치에 민감할 수 있다.\r\n",
        "\r\n",
        "- RobustScaler\r\n",
        "      중앙값(median)과 IQR(interquartile range) 사용. 아웃라이어의 영향을 최소화\r\n",
        "      아웃라이어의 영향을 최소화한 기법이다. \r\n",
        "      중앙값(median)과 IQR(interquartile range)을 사용하기 때문에 StandardScaler와 비교해보면 표준화 후 동일한 값을 더 넓게 분포 시키고 있음을 확인 할 수 있다.\r\n",
        "      IQR = Q3 - Q1 : 즉, 25%에서부터 75%범위안의 값들을 다룬다.\r\n",
        "\r\n",
        "- 참고: https://mkjjo.github.io/python/2019/01/10/scaler.html\r\n"
      ]
    },
    {
      "cell_type": "code",
      "metadata": {
        "id": "6CdKrBWiYwg4"
      },
      "source": [
        "# 학습/테스트 데이터셋 분할 \r\n",
        "X_train, X_test, y_train, y_test = train_test_split(X, y, test_size=0.3, random_state=1, stratify=y)  # train과 test data분리\r\n",
        "\r\n",
        "std = StandardScaler() \r\n",
        "X_train_std = std.fit_transform(X_train) \r\n",
        "X_test_std = std.transform(X_test)"
      ],
      "execution_count": 24,
      "outputs": []
    },
    {
      "cell_type": "code",
      "metadata": {
        "colab": {
          "base_uri": "https://localhost:8080/",
          "height": 283
        },
        "id": "viF8p0C3l4_K",
        "outputId": "e1d1a2fd-3f19-4f47-d04f-723abc3d078c"
      },
      "source": [
        "# 그래프\r\n",
        "red = X_train_std[y_train.ravel() == 0] # y_train의 값이 0인 인덱스를 X_train_std에 대입\r\n",
        "plt.scatter(red[:, 0], red[:, 1], 80, 'r', '^')\r\n",
        "blue = X_train_std[y_train.ravel() == 1]\r\n",
        "plt.scatter(blue[:,0], blue[:,1], 80, 'b', 's')\r\n",
        "green = X_train_std[y_train.ravel() == 2]\r\n",
        "plt.scatter(green[:, 0], green[:,1], 80, 'g', 'o')"
      ],
      "execution_count": 21,
      "outputs": [
        {
          "output_type": "execute_result",
          "data": {
            "text/plain": [
              "<matplotlib.collections.PathCollection at 0x7f81adb819e8>"
            ]
          },
          "metadata": {
            "tags": []
          },
          "execution_count": 21
        },
        {
          "output_type": "display_data",
          "data": {
            "image/png": "[encoded data removed]",
            "text/plain": [
              "<Figure size 432x288 with 1 Axes>"
            ]
          },
          "metadata": {
            "tags": [],
            "needs_background": "light"
          }
        }
      ]
    },
    {
      "cell_type": "markdown",
      "metadata": {
        "id": "cfP8MItwZKg3"
      },
      "source": [
        "모델 학습\r\n",
        "- KNN + 그리드서치로 모델 학습\r\n",
        "- k값등 을 임의로 선택하기 보단 GridSearchCV를 통해 하이퍼파라미터의 최적의 값을 찾아내는것이 좋다 "
      ]
    },
    {
      "cell_type": "code",
      "metadata": {
        "colab": {
          "base_uri": "https://localhost:8080/"
        },
        "id": "Q6tIoCTRZMjr",
        "outputId": "4e8ddcb8-8ed0-4db4-8c72-4778cce03a2d"
      },
      "source": [
        "knn = KNeighborsClassifier() \r\n",
        "param_grid = [{'n_neighbors': range(3, 10)}]  # n_neighbors를 3,4,5,6,7,8,9,10중 어느것이 가장좋은 설정값인지 찾게한다\r\n",
        "gs = GridSearchCV(estimator=knn, param_grid=param_grid, scoring='accuracy', cv=5, n_jobs=-1) \r\n",
        "gs.fit(X_train_std, y_train) "
      ],
      "execution_count": 9,
      "outputs": [
        {
          "output_type": "execute_result",
          "data": {
            "text/plain": [
              "GridSearchCV(cv=5, error_score=nan,\n",
              "             estimator=KNeighborsClassifier(algorithm='auto', leaf_size=30,\n",
              "                                            metric='minkowski',\n",
              "                                            metric_params=None, n_jobs=None,\n",
              "                                            n_neighbors=5, p=2,\n",
              "                                            weights='uniform'),\n",
              "             iid='deprecated', n_jobs=-1,\n",
              "             param_grid=[{'n_neighbors': range(3, 10)}],\n",
              "             pre_dispatch='2*n_jobs', refit=True, return_train_score=False,\n",
              "             scoring='accuracy', verbose=0)"
            ]
          },
          "metadata": {
            "tags": []
          },
          "execution_count": 9
        }
      ]
    },
    {
      "cell_type": "code",
      "metadata": {
        "colab": {
          "base_uri": "https://localhost:8080/"
        },
        "id": "lyUADrP9Y1tW",
        "outputId": "00f986d6-00b6-4e79-82c1-e5fa8b37edab"
      },
      "source": [
        "# 그리드서치 학습 결과 출력 \r\n",
        "print(gs.best_params_) # 3~10 까지의 입력값중 가장 좋은 K값 출력\r\n",
        "print(gs.best_score_) # 가장좋은 하이퍼파라미터 사용시 정확도 \r\n",
        "model = gs.best_estimator_ # 최적화 모델"
      ],
      "execution_count": 10,
      "outputs": [
        {
          "output_type": "stream",
          "text": [
            "{'n_neighbors': 8}\n",
            "0.9619047619047618\n"
          ],
          "name": "stdout"
        }
      ]
    },
    {
      "cell_type": "markdown",
      "metadata": {
        "id": "Lw-oE3P1gg_e"
      },
      "source": [
        "Test data"
      ]
    },
    {
      "cell_type": "code",
      "metadata": {
        "colab": {
          "base_uri": "https://localhost:8080/"
        },
        "id": "CKi9wYdAfqt3",
        "outputId": "40ed0977-7ac9-42ce-a5c2-6a9236a5a995"
      },
      "source": [
        "score = model.score(X_test_std, y_test) # 최적화 모델을 적용하여 Test값 정확도 산출\r\n",
        "print('Test accuracy: {0:.2f}'.format(score)) \r\n",
        "\r\n",
        "predicted_y = model.predict(X_test_std)    # 최적화 모델을 적용하여 Test값 predict\r\n",
        "for i in range(10): \r\n",
        "    print('실제 값: {0}, 예측 값: {1}'.format(labels[y_test[i]], labels[predicted_y[i]])) "
      ],
      "execution_count": 11,
      "outputs": [
        {
          "output_type": "stream",
          "text": [
            "Test accuracy: 0.93\n",
            "실제 값: virginica, 예측 값: virginica\n",
            "실제 값: setosa, 예측 값: setosa\n",
            "실제 값: setosa, 예측 값: setosa\n",
            "실제 값: virginica, 예측 값: versicolor\n",
            "실제 값: versicolor, 예측 값: versicolor\n",
            "실제 값: versicolor, 예측 값: versicolor\n",
            "실제 값: virginica, 예측 값: virginica\n",
            "실제 값: versicolor, 예측 값: versicolor\n",
            "실제 값: virginica, 예측 값: virginica\n",
            "실제 값: setosa, 예측 값: setosa\n"
          ],
          "name": "stdout"
        }
      ]
    },
    {
      "cell_type": "code",
      "metadata": {
        "id": "B62KExscgU4f"
      },
      "source": [
        ""
      ],
      "execution_count": 11,
      "outputs": []
    }
  ]
}
