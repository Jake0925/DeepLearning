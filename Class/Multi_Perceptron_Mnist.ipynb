{
  "nbformat": 4,
  "nbformat_minor": 0,
  "metadata": {
    "kernelspec": {
      "display_name": "Python 3",
      "language": "python",
      "name": "python3"
    },
    "language_info": {
      "codemirror_mode": {
        "name": "ipython",
        "version": 3
      },
      "file_extension": ".py",
      "mimetype": "text/x-python",
      "name": "python",
      "nbconvert_exporter": "python",
      "pygments_lexer": "ipython3",
      "version": "3.8.3"
    },
    "colab": {
      "name": "Multi_Perceptron_Mnist.ipynb",
      "provenance": [],
      "collapsed_sections": [],
      "include_colab_link": true
    },
    "accelerator": "GPU"
  },
  "cells": [
    {
      "cell_type": "markdown",
      "metadata": {
        "id": "view-in-github",
        "colab_type": "text"
      },
      "source": [
        "<a href=\"https://colab.research.google.com/github/Jake0925/DeepLearning/blob/master/Multi_Perceptron_Mnist.ipynb\" target=\"_parent\"><img src=\"https://colab.research.google.com/assets/colab-badge.svg\" alt=\"Open In Colab\"/></a>"
      ]
    },
    {
      "cell_type": "code",
      "metadata": {
        "id": "YRf5wTZ0h_ii"
      },
      "source": [
        "import tensorflow as tf\n",
        "from tensorflow.keras.datasets import mnist\n",
        "import numpy as np\n",
        "import matplotlib.pyplot as plt"
      ],
      "execution_count": 37,
      "outputs": []
    },
    {
      "cell_type": "code",
      "metadata": {
        "id": "W5zaWbr9h_io",
        "colab": {
          "base_uri": "https://localhost:8080/",
          "height": 208
        },
        "outputId": "6d36e12c-7810-4212-8728-5000e800808e"
      },
      "source": [
        "(x_train,t_train), (x_test,t_test) = mnist.load_data()\r\n",
        "\r\n",
        "print('x_train shape: ', x_train.shape)\r\n",
        "print('x_test', x_test.shape)\r\n",
        "\r\n",
        "# 결과데이터\r\n",
        "print('\\ntrain label: ', t_train)\r\n",
        "print('test label: ', t_test)\r\n",
        "\r\n",
        "# 일부이미지 출력\r\n",
        "\r\n",
        "plt.figure(figsize=(7,7))\r\n",
        "\r\n",
        "for i in range(5):\r\n",
        "  plt.subplot(1,5, i+1)\r\n",
        "  plt.imshow(x_train[i], cmap = 'gray')\r\n",
        "\r\n",
        "plt.show()"
      ],
      "execution_count": 38,
      "outputs": [
        {
          "output_type": "stream",
          "text": [
            "x_train shape:  (60000, 28, 28)\n",
            "x_test (10000, 28, 28)\n",
            "\n",
            "train label:  [5 0 4 ... 5 6 8]\n",
            "test label:  [7 2 1 ... 4 5 6]\n"
          ],
          "name": "stdout"
        },
        {
          "output_type": "display_data",
          "data": {
            "image/png": "[encoded data removed]",
            "text/plain": [
              "<Figure size 504x504 with 5 Axes>"
            ]
          },
          "metadata": {
            "tags": [],
            "needs_background": "light"
          }
        }
      ]
    },
    {
      "cell_type": "markdown",
      "metadata": {
        "id": "fKlDxQGbqmyR"
      },
      "source": [
        "# 데이터 전처리"
      ]
    },
    {
      "cell_type": "code",
      "metadata": {
        "id": "m2rkdZDnqrVg",
        "outputId": "f807007a-5ddf-4ce6-a3f0-00e6a6517e31",
        "colab": {
          "base_uri": "https://localhost:8080/"
        }
      },
      "source": [
        "# 데이터 정규화 \r\n",
        "# 입력데이터에 대해 진행한다 \r\n",
        "# 0~1사이의 값을 갖도록 함, MinMiax알고리즘\r\n",
        "x_train = (x_train  - 0.0) / (255.0 - 0.0)\r\n",
        "x_test = (x_test - 0.0) / (255.0 - 0.0)\r\n",
        "\r\n",
        "\r\n",
        "\r\n",
        "print('t_test 원본값: \\n',t_test)\r\n",
        "# onehot encoding\r\n",
        "# 출력데이터에 대해 진행한다\r\n",
        "t_train = tf.keras.utils.to_categorical(t_train, num_classes=10) # num_classes - 출력값이 0~9까지이므로 10개로 설정 \r\n",
        "t_test = tf.keras.utils.to_categorical(t_test, num_classes=10)\r\n",
        "\r\n",
        "print('\\n t_test onehot으로 변환한값: \\n',t_test)"
      ],
      "execution_count": 39,
      "outputs": [
        {
          "output_type": "stream",
          "text": [
            "t_test 원본값: \n",
            " [7 2 1 ... 4 5 6]\n",
            "\n",
            " t_test onehot으로 변환한값: \n",
            " [[0. 0. 0. ... 1. 0. 0.]\n",
            " [0. 0. 1. ... 0. 0. 0.]\n",
            " [0. 1. 0. ... 0. 0. 0.]\n",
            " ...\n",
            " [0. 0. 0. ... 0. 0. 0.]\n",
            " [0. 0. 0. ... 0. 0. 0.]\n",
            " [0. 0. 0. ... 0. 0. 0.]]\n"
          ],
          "name": "stdout"
        }
      ]
    },
    {
      "cell_type": "markdown",
      "metadata": {
        "id": "IBFlA26axdCY"
      },
      "source": [
        "# 모델구축"
      ]
    },
    {
      "cell_type": "code",
      "metadata": {
        "id": "7YHiqaZNh_io"
      },
      "source": [
        "model = tf.keras.Sequential()\r\n",
        "model.add(tf.keras.layers.Flatten(input_shape=(28, 28)))\r\n",
        "model.add(tf.keras.layers.Dense(100, activation='relu'))\r\n",
        "model.add(tf.keras.layers.Dense(10, activation='softmax'))"
      ],
      "execution_count": 40,
      "outputs": []
    },
    {
      "cell_type": "markdown",
      "metadata": {
        "id": "XAqAYx1t0VGY"
      },
      "source": [
        "# 모델컴파일"
      ]
    },
    {
      "cell_type": "code",
      "metadata": {
        "colab": {
          "base_uri": "https://localhost:8080/"
        },
        "id": "ZKwZ0oqPj-Md",
        "outputId": "9856d50c-ff76-428d-a8a9-2002eee4bfdd"
      },
      "source": [
        "model.compile(optimizer=tf.keras.optimizers.Adam(learning_rate=1e-3), loss='categorical_crossentropy', metrics=['accuracy'])\r\n",
        "model.summary()"
      ],
      "execution_count": 41,
      "outputs": [
        {
          "output_type": "stream",
          "text": [
            "Model: \"sequential_5\"\n",
            "_________________________________________________________________\n",
            "Layer (type)                 Output Shape              Param #   \n",
            "=================================================================\n",
            "flatten_5 (Flatten)          (None, 784)               0         \n",
            "_________________________________________________________________\n",
            "dense_10 (Dense)             (None, 100)               78500     \n",
            "_________________________________________________________________\n",
            "dense_11 (Dense)             (None, 10)                1010      \n",
            "=================================================================\n",
            "Total params: 79,510\n",
            "Trainable params: 79,510\n",
            "Non-trainable params: 0\n",
            "_________________________________________________________________\n"
          ],
          "name": "stdout"
        }
      ]
    },
    {
      "cell_type": "markdown",
      "metadata": {
        "id": "2SInVBme4IJC"
      },
      "source": [
        "모델 학습"
      ]
    },
    {
      "cell_type": "code",
      "metadata": {
        "colab": {
          "base_uri": "https://localhost:8080/"
        },
        "id": "98E-q-9f3sE7",
        "outputId": "bb0b12c9-8692-42fa-ed26-55ab09bba2fb"
      },
      "source": [
        "hist = model.fit(x_train, t_train, epochs = 30, validation_split=0.3)"
      ],
      "execution_count": 44,
      "outputs": [
        {
          "output_type": "stream",
          "text": [
            "Epoch 1/30\n",
            "1313/1313 [==============================] - 4s 3ms/step - loss: 0.5165 - accuracy: 0.8527 - val_loss: 0.1959 - val_accuracy: 0.9429\n",
            "Epoch 2/30\n",
            "1313/1313 [==============================] - 4s 3ms/step - loss: 0.1521 - accuracy: 0.9550 - val_loss: 0.1397 - val_accuracy: 0.9592\n",
            "Epoch 3/30\n",
            "1313/1313 [==============================] - 4s 3ms/step - loss: 0.1028 - accuracy: 0.9702 - val_loss: 0.1227 - val_accuracy: 0.9649\n",
            "Epoch 4/30\n",
            "1313/1313 [==============================] - 4s 3ms/step - loss: 0.0763 - accuracy: 0.9778 - val_loss: 0.1049 - val_accuracy: 0.9687\n",
            "Epoch 5/30\n",
            "1313/1313 [==============================] - 4s 3ms/step - loss: 0.0577 - accuracy: 0.9838 - val_loss: 0.1022 - val_accuracy: 0.9699\n",
            "Epoch 6/30\n",
            "1313/1313 [==============================] - 4s 3ms/step - loss: 0.0483 - accuracy: 0.9860 - val_loss: 0.1049 - val_accuracy: 0.9692\n",
            "Epoch 7/30\n",
            "1313/1313 [==============================] - 4s 3ms/step - loss: 0.0365 - accuracy: 0.9892 - val_loss: 0.1108 - val_accuracy: 0.9683\n",
            "Epoch 8/30\n",
            "1313/1313 [==============================] - 4s 3ms/step - loss: 0.0307 - accuracy: 0.9914 - val_loss: 0.1063 - val_accuracy: 0.9713\n",
            "Epoch 9/30\n",
            "1313/1313 [==============================] - 4s 3ms/step - loss: 0.0239 - accuracy: 0.9930 - val_loss: 0.1039 - val_accuracy: 0.9724\n",
            "Epoch 10/30\n",
            "1313/1313 [==============================] - 4s 3ms/step - loss: 0.0190 - accuracy: 0.9949 - val_loss: 0.1077 - val_accuracy: 0.9713\n",
            "Epoch 11/30\n",
            "1313/1313 [==============================] - 4s 3ms/step - loss: 0.0165 - accuracy: 0.9952 - val_loss: 0.1176 - val_accuracy: 0.9701\n",
            "Epoch 12/30\n",
            "1313/1313 [==============================] - 4s 3ms/step - loss: 0.0129 - accuracy: 0.9966 - val_loss: 0.1223 - val_accuracy: 0.9694\n",
            "Epoch 13/30\n",
            "1313/1313 [==============================] - 4s 3ms/step - loss: 0.0125 - accuracy: 0.9969 - val_loss: 0.1144 - val_accuracy: 0.9718\n",
            "Epoch 14/30\n",
            "1313/1313 [==============================] - 4s 3ms/step - loss: 0.0100 - accuracy: 0.9974 - val_loss: 0.1167 - val_accuracy: 0.9719\n",
            "Epoch 15/30\n",
            "1313/1313 [==============================] - 4s 3ms/step - loss: 0.0107 - accuracy: 0.9968 - val_loss: 0.1187 - val_accuracy: 0.9727\n",
            "Epoch 16/30\n",
            "1313/1313 [==============================] - 4s 3ms/step - loss: 0.0055 - accuracy: 0.9992 - val_loss: 0.1211 - val_accuracy: 0.9722\n",
            "Epoch 17/30\n",
            "1313/1313 [==============================] - 4s 3ms/step - loss: 0.0061 - accuracy: 0.9986 - val_loss: 0.1487 - val_accuracy: 0.9684\n",
            "Epoch 18/30\n",
            "1313/1313 [==============================] - 4s 3ms/step - loss: 0.0049 - accuracy: 0.9991 - val_loss: 0.1235 - val_accuracy: 0.9731\n",
            "Epoch 19/30\n",
            "1313/1313 [==============================] - 4s 3ms/step - loss: 0.0062 - accuracy: 0.9982 - val_loss: 0.1327 - val_accuracy: 0.9719\n",
            "Epoch 20/30\n",
            "1313/1313 [==============================] - 4s 3ms/step - loss: 0.0047 - accuracy: 0.9989 - val_loss: 0.1380 - val_accuracy: 0.9723\n",
            "Epoch 21/30\n",
            "1313/1313 [==============================] - 4s 3ms/step - loss: 0.0052 - accuracy: 0.9988 - val_loss: 0.1349 - val_accuracy: 0.9735\n",
            "Epoch 22/30\n",
            "1313/1313 [==============================] - 4s 3ms/step - loss: 0.0036 - accuracy: 0.9993 - val_loss: 0.1470 - val_accuracy: 0.9711\n",
            "Epoch 23/30\n",
            "1313/1313 [==============================] - 4s 3ms/step - loss: 0.0045 - accuracy: 0.9988 - val_loss: 0.1394 - val_accuracy: 0.9732\n",
            "Epoch 24/30\n",
            "1313/1313 [==============================] - 4s 3ms/step - loss: 0.0038 - accuracy: 0.9991 - val_loss: 0.1423 - val_accuracy: 0.9713\n",
            "Epoch 25/30\n",
            "1313/1313 [==============================] - 4s 3ms/step - loss: 0.0050 - accuracy: 0.9982 - val_loss: 0.1421 - val_accuracy: 0.9729\n",
            "Epoch 26/30\n",
            "1313/1313 [==============================] - 4s 3ms/step - loss: 0.0023 - accuracy: 0.9996 - val_loss: 0.1409 - val_accuracy: 0.9742\n",
            "Epoch 27/30\n",
            "1313/1313 [==============================] - 4s 3ms/step - loss: 0.0038 - accuracy: 0.9988 - val_loss: 0.1471 - val_accuracy: 0.9726\n",
            "Epoch 28/30\n",
            "1313/1313 [==============================] - 4s 3ms/step - loss: 0.0038 - accuracy: 0.9989 - val_loss: 0.1416 - val_accuracy: 0.9748\n",
            "Epoch 29/30\n",
            "1313/1313 [==============================] - 4s 3ms/step - loss: 0.0020 - accuracy: 0.9994 - val_loss: 0.1794 - val_accuracy: 0.9697\n",
            "Epoch 30/30\n",
            "1313/1313 [==============================] - 4s 3ms/step - loss: 0.0063 - accuracy: 0.9979 - val_loss: 0.1594 - val_accuracy: 0.9723\n"
          ],
          "name": "stdout"
        }
      ]
    },
    {
      "cell_type": "markdown",
      "metadata": {
        "id": "W-GJC32a5Nm8"
      },
      "source": [
        "# 모델평가"
      ]
    },
    {
      "cell_type": "code",
      "metadata": {
        "colab": {
          "base_uri": "https://localhost:8080/"
        },
        "id": "RonZyaCo5BmX",
        "outputId": "291dfb61-35b3-4b25-b720-e472e400e30d"
      },
      "source": [
        "model.evaluate(x_test, t_test)"
      ],
      "execution_count": 45,
      "outputs": [
        {
          "output_type": "stream",
          "text": [
            "313/313 [==============================] - 1s 2ms/step - loss: 0.1378 - accuracy: 0.9748\n"
          ],
          "name": "stdout"
        },
        {
          "output_type": "execute_result",
          "data": {
            "text/plain": [
              "[0.13784654438495636, 0.9747999906539917]"
            ]
          },
          "metadata": {
            "tags": []
          },
          "execution_count": 45
        }
      ]
    },
    {
      "cell_type": "code",
      "metadata": {
        "id": "_NsjdkEq5cgF"
      },
      "source": [
        ""
      ],
      "execution_count": 43,
      "outputs": []
    }
  ]
}
