{
  "nbformat": 4,
  "nbformat_minor": 0,
  "metadata": {
    "colab": {
      "name": "KNN ",
      "provenance": [],
      "collapsed_sections": [],
      "include_colab_link": true
    },
    "kernelspec": {
      "name": "python3",
      "display_name": "Python 3"
    }
  },
  "cells": [
    {
      "cell_type": "markdown",
      "metadata": {
        "id": "view-in-github",
        "colab_type": "text"
      },
      "source": [
        "<a href=\"https://colab.research.google.com/github/Jake0925/DeepLearning/blob/master/KNN.ipynb\" target=\"_parent\"><img src=\"https://colab.research.google.com/assets/colab-badge.svg\" alt=\"Open In Colab\"/></a>"
      ]
    },
    {
      "cell_type": "markdown",
      "metadata": {
        "id": "zd6X4p1HtmJo"
      },
      "source": [
        "# KNN Algorithm\n",
        "[강의 노트](https://github.com/ndb796/Python-Data-Analysis-and-Image-Processing-Tutorial/blob/master/16.%20KNN%20Algorithm/Python%20%EB%8D%B0%EC%9D%B4%ED%84%B0%20%EB%B6%84%EC%84%9D%EA%B3%BC%20%EC%9D%B4%EB%AF%B8%EC%A7%80%20%EC%B2%98%EB%A6%AC%20-%20KNN%20Algorithm.pdf)"
      ]
    },
    {
      "cell_type": "markdown",
      "metadata": {
        "id": "lNDNFWfBYeud"
      },
      "source": [
        "# 예제 1\r\n",
        "- opencv"
      ]
    },
    {
      "cell_type": "code",
      "metadata": {
        "id": "CnkiaPOMUFIG"
      },
      "source": [
        "import cv2\r\n",
        "import numpy as np\r\n",
        "from matplotlib import pyplot as plt"
      ],
      "execution_count": 15,
      "outputs": []
    },
    {
      "cell_type": "code",
      "metadata": {
        "id": "V6cipVlJUH9l"
      },
      "source": [
        "# 각 데이터의 위치: 25 X 2 크기에 각각 0 ~ 100\r\n",
        "trainData = np.random.randint(0, 100, (25, 2)).astype(np.float32)\r\n",
        "\r\n",
        "# 각 데이터는 0 or 1\r\n",
        "response = np.random.randint(0, 2, (25, 1)).astype(np.float32)"
      ],
      "execution_count": 49,
      "outputs": []
    },
    {
      "cell_type": "code",
      "metadata": {
        "id": "WVvV3P8iUXmg",
        "colab": {
          "base_uri": "https://localhost:8080/",
          "height": 283
        },
        "outputId": "a705bd9a-213c-47a9-cadc-c56bed156a11"
      },
      "source": [
        "# 값이 0인 데이터를 각각 (x, y) 위치에 빨간색으로 칠합니다.\r\n",
        "red = trainData[response.ravel() == 0]\r\n",
        "plt.scatter(red[:, 0], red[:, 1], 80, 'r', '^')\r\n",
        "\r\n",
        "# 값이 1인 데이터를 각각 (x, y) 위치에 파란색으로 칠합니다.\r\n",
        "blue = trainData[response.ravel() == 1]\r\n",
        "plt.scatter(blue[:, 0], blue[:, 1], 80, 'b', 's')\r\n",
        "\r\n",
        "# (0 ~ 100, 0 ~ 100) 위치의 데이터를 하나 생성해 칠합니다.\r\n",
        "newcomer = np.random.randint(0, 100, (1, 2)).astype(np.float32)\r\n",
        "plt.scatter(newcomer[:, 0], newcomer[:, 1], 80, 'g', 'o')"
      ],
      "execution_count": 50,
      "outputs": [
        {
          "output_type": "execute_result",
          "data": {
            "text/plain": [
              "<matplotlib.collections.PathCollection at 0x7fd1a53c8c88>"
            ]
          },
          "metadata": {
            "tags": []
          },
          "execution_count": 50
        },
        {
          "output_type": "display_data",
          "data": {
            "image/png": "[encoded data removed]",
            "text/plain": [
              "<Figure size 432x288 with 1 Axes>"
            ]
          },
          "metadata": {
            "tags": [],
            "needs_background": "light"
          }
        }
      ]
    },
    {
      "cell_type": "code",
      "metadata": {
        "id": "YWIUKT9VWOsj"
      },
      "source": [
        "knn = cv2.ml.KNearest_create()\r\n",
        "knn.train(trainData, cv2.ml.ROW_SAMPLE, response)\r\n",
        "ret, results, neighbours, dist = knn.findNearest(newcomer, 3) # 녹색원으로부터 일정범위안에  가장가까운 3개의 데이터를 확인"
      ],
      "execution_count": 10,
      "outputs": []
    },
    {
      "cell_type": "code",
      "metadata": {
        "id": "Kce7P2rKtmxe",
        "colab": {
          "base_uri": "https://localhost:8080/"
        },
        "outputId": "a598a8ed-6941-4d04-d6e1-841b147143bf"
      },
      "source": [
        "# 가까운 3개를 찾고, 거리를 고려하여 자신을 정합니다.\n",
        "print(\"result : \", results) # 녹색원이 0 또는 1에 해당하는지 결과\n",
        "print(\"neighbours :\", neighbours) # 녹색원 주변 가까운 3개의 데이터\n",
        "print(\"distance: \", dist) # 녹색원으로부터 3개 데이터의 각 거리값\n",
        "\n",
        "plt.show()"
      ],
      "execution_count": 11,
      "outputs": [
        {
          "output_type": "stream",
          "text": [
            "result :  [[0.]]\n",
            "neighbours : [[0. 0. 1.]]\n",
            "distance:  [[ 293.  538. 1025.]]\n"
          ],
          "name": "stdout"
        }
      ]
    },
    {
      "cell_type": "markdown",
      "metadata": {
        "id": "Fv3MspT7YkrM"
      },
      "source": [
        "# 예제2\r\n",
        "- sklearn\r\n",
        "- 출처: https://blog.naver.com/baek2sm/221763552440"
      ]
    },
    {
      "cell_type": "code",
      "metadata": {
        "id": "q_47oLwrWWMf",
        "colab": {
          "base_uri": "https://localhost:8080/",
          "height": 296
        },
        "outputId": "0cdaad64-a3f1-45ad-a1f3-301927d9aea7"
      },
      "source": [
        "from sklearn.datasets import load_iris \r\n",
        "from sklearn.neighbors import KNeighborsClassifier \r\n",
        "from sklearn.model_selection import train_test_split \r\n",
        "from sklearn.preprocessing import StandardScaler \r\n",
        "from sklearn.model_selection import GridSearchCV \r\n",
        "import seaborn as sns\r\n",
        "import pandas as pd\r\n",
        " \r\n",
        "# 분류용 샘플 데이터 불러오기 \r\n",
        "iris = load_iris() \r\n",
        "X, y, labels = iris.data, iris.target, iris.target_names \r\n",
        "df = pd.DataFrame(iris.data)\r\n",
        "df.describe()"
      ],
      "execution_count": 38,
      "outputs": [
        {
          "output_type": "execute_result",
          "data": {
            "text/html": [
              "<div>\n",
              "<style scoped>\n",
              "    .dataframe tbody tr th:only-of-type {\n",
              "        vertical-align: middle;\n",
              "    }\n",
              "\n",
              "    .dataframe tbody tr th {\n",
              "        vertical-align: top;\n",
              "    }\n",
              "\n",
              "    .dataframe thead th {\n",
              "        text-align: right;\n",
              "    }\n",
              "</style>\n",
              "<table border=\"1\" class=\"dataframe\">\n",
              "  <thead>\n",
              "    <tr style=\"text-align: right;\">\n",
              "      <th></th>\n",
              "      <th>0</th>\n",
              "      <th>1</th>\n",
              "      <th>2</th>\n",
              "      <th>3</th>\n",
              "    </tr>\n",
              "  </thead>\n",
              "  <tbody>\n",
              "    <tr>\n",
              "      <th>count</th>\n",
              "      <td>150.000000</td>\n",
              "      <td>150.000000</td>\n",
              "      <td>150.000000</td>\n",
              "      <td>150.000000</td>\n",
              "    </tr>\n",
              "    <tr>\n",
              "      <th>mean</th>\n",
              "      <td>5.843333</td>\n",
              "      <td>3.057333</td>\n",
              "      <td>3.758000</td>\n",
              "      <td>1.199333</td>\n",
              "    </tr>\n",
              "    <tr>\n",
              "      <th>std</th>\n",
              "      <td>0.828066</td>\n",
              "      <td>0.435866</td>\n",
              "      <td>1.765298</td>\n",
              "      <td>0.762238</td>\n",
              "    </tr>\n",
              "    <tr>\n",
              "      <th>min</th>\n",
              "      <td>4.300000</td>\n",
              "      <td>2.000000</td>\n",
              "      <td>1.000000</td>\n",
              "      <td>0.100000</td>\n",
              "    </tr>\n",
              "    <tr>\n",
              "      <th>25%</th>\n",
              "      <td>5.100000</td>\n",
              "      <td>2.800000</td>\n",
              "      <td>1.600000</td>\n",
              "      <td>0.300000</td>\n",
              "    </tr>\n",
              "    <tr>\n",
              "      <th>50%</th>\n",
              "      <td>5.800000</td>\n",
              "      <td>3.000000</td>\n",
              "      <td>4.350000</td>\n",
              "      <td>1.300000</td>\n",
              "    </tr>\n",
              "    <tr>\n",
              "      <th>75%</th>\n",
              "      <td>6.400000</td>\n",
              "      <td>3.300000</td>\n",
              "      <td>5.100000</td>\n",
              "      <td>1.800000</td>\n",
              "    </tr>\n",
              "    <tr>\n",
              "      <th>max</th>\n",
              "      <td>7.900000</td>\n",
              "      <td>4.400000</td>\n",
              "      <td>6.900000</td>\n",
              "      <td>2.500000</td>\n",
              "    </tr>\n",
              "  </tbody>\n",
              "</table>\n",
              "</div>"
            ],
            "text/plain": [
              "                0           1           2           3\n",
              "count  150.000000  150.000000  150.000000  150.000000\n",
              "mean     5.843333    3.057333    3.758000    1.199333\n",
              "std      0.828066    0.435866    1.765298    0.762238\n",
              "min      4.300000    2.000000    1.000000    0.100000\n",
              "25%      5.100000    2.800000    1.600000    0.300000\n",
              "50%      5.800000    3.000000    4.350000    1.300000\n",
              "75%      6.400000    3.300000    5.100000    1.800000\n",
              "max      7.900000    4.400000    6.900000    2.500000"
            ]
          },
          "metadata": {
            "tags": []
          },
          "execution_count": 38
        }
      ]
    },
    {
      "cell_type": "markdown",
      "metadata": {
        "id": "sQfVJZ6lY3f_"
      },
      "source": [
        "데이터 전처리\r\n",
        "- 정규화"
      ]
    },
    {
      "cell_type": "code",
      "metadata": {
        "id": "6CdKrBWiYwg4"
      },
      "source": [
        "# 학습/테스트 데이터셋 분할 \r\n",
        "X_train, X_test, y_train, y_test = train_test_split(X, y, test_size=0.3, random_state=1, stratify=y) \r\n",
        "\r\n",
        "# 데이터 전처리(표준화, Standardization) \r\n",
        "# 표준편차화, std값이 거의 1로 변환됨\r\n",
        "std = StandardScaler() \r\n",
        "X_train_std = std.fit_transform(X_train) \r\n",
        "X_test_std = std.transform(X_test)"
      ],
      "execution_count": 48,
      "outputs": []
    },
    {
      "cell_type": "code",
      "metadata": {
        "colab": {
          "base_uri": "https://localhost:8080/",
          "height": 283
        },
        "id": "viF8p0C3l4_K",
        "outputId": "6d5983c0-2d48-49a4-a6cc-b11f193cab3e"
      },
      "source": [
        "# 그래프\r\n",
        "red = X_train_std[y_train.ravel() == 0]\r\n",
        "plt.scatter(red[:, 0], red[:, 1], 80, 'r', '^')\r\n",
        "blue = X_train_std[y_train.ravel() == 1]\r\n",
        "plt.scatter(blue[:,0], blue[:,1], 80, 'b', 's')\r\n",
        "green = X_train_std[y_train.ravel() == 2]\r\n",
        "plt.scatter(green[:, 0], green[:,1], 80, 'g', 'o')"
      ],
      "execution_count": 47,
      "outputs": [
        {
          "output_type": "execute_result",
          "data": {
            "text/plain": [
              "<matplotlib.collections.PathCollection at 0x7fd1a53ef240>"
            ]
          },
          "metadata": {
            "tags": []
          },
          "execution_count": 47
        },
        {
          "output_type": "display_data",
          "data": {
            "image/png": "[encoded data removed]",
            "text/plain": [
              "<Figure size 432x288 with 1 Axes>"
            ]
          },
          "metadata": {
            "tags": [],
            "needs_background": "light"
          }
        }
      ]
    },
    {
      "cell_type": "markdown",
      "metadata": {
        "id": "cfP8MItwZKg3"
      },
      "source": [
        "모델 학습\r\n",
        "- KNN + 그리드서치로 모델 학습\r\n",
        "- k값을 임의로 선택하기 보단 GridSearchCV를 통해 최적의 값을 찾아내는것이 좋다 "
      ]
    },
    {
      "cell_type": "code",
      "metadata": {
        "colab": {
          "base_uri": "https://localhost:8080/"
        },
        "id": "Q6tIoCTRZMjr",
        "outputId": "8ff54d77-b964-43d4-aa9b-270557122de0"
      },
      "source": [
        "knn = KNeighborsClassifier() \r\n",
        "param_grid = [{'n_neighbors': range(3, 10)}] \r\n",
        "gs = GridSearchCV(estimator=knn, param_grid=param_grid, scoring='accuracy', cv=5, n_jobs=-1) \r\n",
        "gs.fit(X_train_std, y_train) "
      ],
      "execution_count": 32,
      "outputs": [
        {
          "output_type": "execute_result",
          "data": {
            "text/plain": [
              "GridSearchCV(cv=5, error_score=nan,\n",
              "             estimator=KNeighborsClassifier(algorithm='auto', leaf_size=30,\n",
              "                                            metric='minkowski',\n",
              "                                            metric_params=None, n_jobs=None,\n",
              "                                            n_neighbors=5, p=2,\n",
              "                                            weights='uniform'),\n",
              "             iid='deprecated', n_jobs=-1,\n",
              "             param_grid=[{'n_neighbors': range(3, 10)}],\n",
              "             pre_dispatch='2*n_jobs', refit=True, return_train_score=False,\n",
              "             scoring='accuracy', verbose=0)"
            ]
          },
          "metadata": {
            "tags": []
          },
          "execution_count": 32
        }
      ]
    },
    {
      "cell_type": "code",
      "metadata": {
        "colab": {
          "base_uri": "https://localhost:8080/"
        },
        "id": "lyUADrP9Y1tW",
        "outputId": "7502b8e9-47c4-4d42-938e-6fb143f00e57"
      },
      "source": [
        "# 그리드서치 학습 결과 출력 \r\n",
        "print('K값: {0}'.format(gs.best_params_)) \r\n",
        "print('K값이 베스트 하이퍼 파라미터 일 때 정확도: {0:.2f}'.format(gs.best_score_)) \r\n",
        "\r\n",
        "# 최적화 모델 추출 \r\n",
        "model = gs.best_estimator_ "
      ],
      "execution_count": 36,
      "outputs": [
        {
          "output_type": "stream",
          "text": [
            "K값: {'n_neighbors': 8}\n",
            "K값이 베스트 하이퍼 파라미터 일 때 정확도: 0.96\n"
          ],
          "name": "stdout"
        }
      ]
    },
    {
      "cell_type": "markdown",
      "metadata": {
        "id": "Lw-oE3P1gg_e"
      },
      "source": [
        "Test data"
      ]
    },
    {
      "cell_type": "code",
      "metadata": {
        "colab": {
          "base_uri": "https://localhost:8080/"
        },
        "id": "CKi9wYdAfqt3",
        "outputId": "0a1e7299-1c81-4422-9bdf-34343dd2a824"
      },
      "source": [
        "score = model.score(X_test_std, y_test) \r\n",
        "print('테스트세트에서의 정확도: {0:.2f}'.format(score)) \r\n",
        " \r\n",
        "# 테스트세트 예측 결과 샘플 출력 \r\n",
        "predicted_y = model.predict(X_test_std) \r\n",
        "for i in range(10): \r\n",
        "    print('실제 값: {0}, 예측 값: {1}'.format(labels[y_test[i]], labels[predicted_y[i]])) "
      ],
      "execution_count": 52,
      "outputs": [
        {
          "output_type": "stream",
          "text": [
            "테스트세트에서의 정확도: 0.93\n",
            "실제 값: virginica, 예측 값: virginica\n",
            "실제 값: setosa, 예측 값: setosa\n",
            "실제 값: setosa, 예측 값: setosa\n",
            "실제 값: virginica, 예측 값: versicolor\n",
            "실제 값: versicolor, 예측 값: versicolor\n",
            "실제 값: versicolor, 예측 값: versicolor\n",
            "실제 값: virginica, 예측 값: virginica\n",
            "실제 값: versicolor, 예측 값: versicolor\n",
            "실제 값: virginica, 예측 값: virginica\n",
            "실제 값: setosa, 예측 값: setosa\n"
          ],
          "name": "stdout"
        }
      ]
    },
    {
      "cell_type": "code",
      "metadata": {
        "id": "B62KExscgU4f"
      },
      "source": [
        ""
      ],
      "execution_count": null,
      "outputs": []
    }
  ]
}