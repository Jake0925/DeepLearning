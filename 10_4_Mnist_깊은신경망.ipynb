{
  "nbformat": 4,
  "nbformat_minor": 0,
  "metadata": {
    "colab": {
      "provenance": [],
      "authorship_tag": "ABX9TyNoq+24ODUxpQBjDfjtWX8/",
      "include_colab_link": true
    },
    "kernelspec": {
      "name": "python3",
      "display_name": "Python 3"
    },
    "language_info": {
      "name": "python"
    }
  },
  "cells": [
    {
      "cell_type": "markdown",
      "metadata": {
        "id": "view-in-github",
        "colab_type": "text"
      },
      "source": [
        "<a href=\"https://colab.research.google.com/github/Jake0925/DeepLearning/blob/master/10_4_Mnist_%EA%B9%8A%EC%9D%80%EC%8B%A0%EA%B2%BD%EB%A7%9D.ipynb\" target=\"_parent\"><img src=\"https://colab.research.google.com/assets/colab-badge.svg\" alt=\"Open In Colab\"/></a>"
      ]
    },
    {
      "cell_type": "markdown",
      "source": [
        "Overfitting으로 인해 결과가 비교적 낮고 좁은 신경망보다 안좋다"
      ],
      "metadata": {
        "id": "h5PZSaIX1xFJ"
      }
    },
    {
      "cell_type": "code",
      "execution_count": 1,
      "metadata": {
        "colab": {
          "base_uri": "https://localhost:8080/"
        },
        "id": "QvQHelGb0DoD",
        "outputId": "89a58e6d-dd0e-4f29-e3b6-854ca8ec4148"
      },
      "outputs": [
        {
          "output_type": "stream",
          "name": "stdout",
          "text": [
            "Downloading data from https://storage.googleapis.com/tensorflow/tf-keras-datasets/mnist.npz\n",
            "11490434/11490434 [==============================] - 0s 0us/step\n",
            "(60000, 28, 28)\n"
          ]
        },
        {
          "output_type": "stream",
          "name": "stderr",
          "text": [
            "WARNING:absl:`lr` is deprecated in Keras optimizer, please use `learning_rate` or use the legacy optimizer, e.g.,tf.keras.optimizers.legacy.Adam.\n"
          ]
        },
        {
          "output_type": "stream",
          "name": "stdout",
          "text": [
            "Model: \"sequential\"\n",
            "_________________________________________________________________\n",
            " Layer (type)                Output Shape              Param #   \n",
            "=================================================================\n",
            " dense (Dense)               (None, 512)               401920    \n",
            "                                                                 \n",
            " dense_1 (Dense)             (None, 512)               262656    \n",
            "                                                                 \n",
            " dense_2 (Dense)             (None, 512)               262656    \n",
            "                                                                 \n",
            " dense_3 (Dense)             (None, 512)               262656    \n",
            "                                                                 \n",
            " dense_4 (Dense)             (None, 10)                5130      \n",
            "                                                                 \n",
            "=================================================================\n",
            "Total params: 1195018 (4.56 MB)\n",
            "Trainable params: 1195018 (4.56 MB)\n",
            "Non-trainable params: 0 (0.00 Byte)\n",
            "_________________________________________________________________\n"
          ]
        }
      ],
      "source": [
        "import numpy as np\n",
        "import random\n",
        "import tensorflow as tf\n",
        "\n",
        "random.seed(777)  # for reproducibility\n",
        "learning_rate = 0.001\n",
        "batch_size = 100\n",
        "training_epochs = 15\n",
        "nb_classes = 10\n",
        "\n",
        "(x_train, y_train), (x_test2, y_test) = tf.keras.datasets.mnist.load_data()\n",
        "print(x_train.shape)\n",
        "\n",
        "x_train = x_train.reshape(x_train.shape[0], 28 * 28)\n",
        "x_test = x_test2.reshape(x_test2.shape[0], 28 * 28)\n",
        "\n",
        "y_train = tf.keras.utils.to_categorical(y_train, nb_classes)\n",
        "y_test = tf.keras.utils.to_categorical(y_test, nb_classes)\n",
        "\n",
        "tf.model = tf.keras.Sequential()\n",
        "# Glorot normal initializer, also called Xavier normal initializer.\n",
        "# see https://www.tensorflow.org/api_docs/python/tf/initializers\n",
        "\n",
        "# 5개의 layer로 깊고, 출력값을 512로 넓게 변\n",
        "tf.model.add(tf.keras.layers.Dense(input_dim=784, units=512, kernel_initializer='glorot_normal', activation='relu')) # layer1\n",
        "tf.model.add(tf.keras.layers.Dense(units=512, kernel_initializer='glorot_normal', activation='relu')) # layer2\n",
        "tf.model.add(tf.keras.layers.Dense(units=512, kernel_initializer='glorot_normal', activation='relu')) # layer3\n",
        "tf.model.add(tf.keras.layers.Dense(units=512, kernel_initializer='glorot_normal', activation='relu')) # layer4\n",
        "tf.model.add(tf.keras.layers.Dense(units=nb_classes, kernel_initializer='glorot_normal', activation='softmax')) # layer5\n",
        "tf.model.compile(loss='categorical_crossentropy',\n",
        "                 optimizer=tf.keras.optimizers.Adam(lr=learning_rate), metrics=['accuracy'])\n",
        "tf.model.summary()\n",
        "\n"
      ]
    },
    {
      "cell_type": "code",
      "source": [
        "history = tf.model.fit(x_train, y_train, batch_size=batch_size, epochs=training_epochs)\n",
        "\n"
      ],
      "metadata": {
        "colab": {
          "base_uri": "https://localhost:8080/"
        },
        "id": "OpLqBFqa09ZG",
        "outputId": "9c752227-c923-4fad-a7d2-e459030eef36"
      },
      "execution_count": 2,
      "outputs": [
        {
          "output_type": "stream",
          "name": "stdout",
          "text": [
            "Epoch 1/15\n",
            "600/600 [==============================] - 23s 36ms/step - loss: 0.9693 - accuracy: 0.9046\n",
            "Epoch 2/15\n",
            "600/600 [==============================] - 16s 27ms/step - loss: 0.1335 - accuracy: 0.9607\n",
            "Epoch 3/15\n",
            "600/600 [==============================] - 17s 29ms/step - loss: 0.1129 - accuracy: 0.9665\n",
            "Epoch 4/15\n",
            "600/600 [==============================] - 17s 28ms/step - loss: 0.0882 - accuracy: 0.9735\n",
            "Epoch 5/15\n",
            "600/600 [==============================] - 16s 27ms/step - loss: 0.0867 - accuracy: 0.9746\n",
            "Epoch 6/15\n",
            "600/600 [==============================] - 17s 28ms/step - loss: 0.0753 - accuracy: 0.9778\n",
            "Epoch 7/15\n",
            "600/600 [==============================] - 16s 26ms/step - loss: 0.0657 - accuracy: 0.9805\n",
            "Epoch 8/15\n",
            "600/600 [==============================] - 16s 26ms/step - loss: 0.0654 - accuracy: 0.9816\n",
            "Epoch 9/15\n",
            "600/600 [==============================] - 16s 26ms/step - loss: 0.0595 - accuracy: 0.9832\n",
            "Epoch 10/15\n",
            "600/600 [==============================] - 16s 26ms/step - loss: 0.0505 - accuracy: 0.9856\n",
            "Epoch 11/15\n",
            "600/600 [==============================] - 16s 26ms/step - loss: 0.0536 - accuracy: 0.9852\n",
            "Epoch 12/15\n",
            "600/600 [==============================] - 16s 27ms/step - loss: 0.0510 - accuracy: 0.9858\n",
            "Epoch 13/15\n",
            "600/600 [==============================] - 17s 28ms/step - loss: 0.0437 - accuracy: 0.9876\n",
            "Epoch 14/15\n",
            "600/600 [==============================] - 16s 26ms/step - loss: 0.0507 - accuracy: 0.9862\n",
            "Epoch 15/15\n",
            "600/600 [==============================] - 16s 26ms/step - loss: 0.0434 - accuracy: 0.9886\n"
          ]
        }
      ]
    },
    {
      "cell_type": "code",
      "source": [
        "y_predicted = tf.model.predict(x_test)\n",
        "for x in range(0, 10):\n",
        "    random_index = random.randint(0, x_test.shape[0]-1)\n",
        "    print(\"index: \", random_index,\n",
        "          \"actual y: \", np.argmax(y_test[random_index]),\n",
        "          \"predicted y: \", np.argmax(y_predicted[random_index]))\n",
        "\n"
      ],
      "metadata": {
        "colab": {
          "base_uri": "https://localhost:8080/"
        },
        "id": "ppxPQHJN09Wg",
        "outputId": "2a6283d0-f255-49ae-bb6d-744623d81a80"
      },
      "execution_count": 3,
      "outputs": [
        {
          "output_type": "stream",
          "name": "stdout",
          "text": [
            "313/313 [==============================] - 1s 4ms/step\n",
            "index:  4420 actual y:  5 predicted y:  5\n",
            "index:  5507 actual y:  2 predicted y:  2\n",
            "index:  8809 actual y:  1 predicted y:  1\n",
            "index:  654 actual y:  5 predicted y:  5\n",
            "index:  7302 actual y:  8 predicted y:  8\n",
            "index:  8966 actual y:  2 predicted y:  2\n",
            "index:  6383 actual y:  0 predicted y:  0\n",
            "index:  9854 actual y:  8 predicted y:  8\n",
            "index:  4734 actual y:  2 predicted y:  2\n",
            "index:  1979 actual y:  9 predicted y:  9\n"
          ]
        }
      ]
    },
    {
      "cell_type": "code",
      "source": [
        "# evaluate test set\n",
        "evaluation = tf.model.evaluate(x_test, y_test)\n",
        "print('loss: ', evaluation[0])\n",
        "print('accuracy', evaluation[1])"
      ],
      "metadata": {
        "colab": {
          "base_uri": "https://localhost:8080/"
        },
        "id": "3m4L3tNn09Tf",
        "outputId": "8fce2ee1-d063-4c6f-c3f4-7aff18a72a05"
      },
      "execution_count": 4,
      "outputs": [
        {
          "output_type": "stream",
          "name": "stdout",
          "text": [
            "313/313 [==============================] - 2s 4ms/step - loss: 0.1388 - accuracy: 0.9746\n",
            "loss:  0.13879647850990295\n",
            "accuracy 0.9746000170707703\n"
          ]
        }
      ]
    },
    {
      "cell_type": "code",
      "source": [],
      "metadata": {
        "id": "uAvqjAvt1lIq"
      },
      "execution_count": null,
      "outputs": []
    }
  ]
}